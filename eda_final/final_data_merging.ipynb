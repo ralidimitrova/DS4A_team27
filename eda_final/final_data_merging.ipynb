{
 "cells": [
  {
   "cell_type": "markdown",
   "metadata": {},
   "source": [
    "## Final EDA\n",
    "\n",
    "\n",
    "   - Exclude columns that are `not necessary` \n",
    "\n",
    "----------\n",
    "### Merge all datasets:\n",
    "\n",
    "   - using `fips`\n",
    "   - exclude some states - `Puerto Rico`, `Guam` `Alaska?`\n",
    "   \n",
    "----------\n",
    "### Select features:\n",
    "\n",
    "   - exclude `overlapping features`\n",
    "   - exclude columns with `high correlation`\n",
    "   \n",
    "----------\n",
    "### Final EDA:\n",
    "\n",
    "   - visualise the final features"
   ]
  },
  {
   "cell_type": "code",
   "execution_count": 1,
   "metadata": {},
   "outputs": [],
   "source": [
    "import numpy as np\n",
    "import pandas as pd\n",
    "import matplotlib.pyplot as plt\n",
    "import seaborn as sns\n",
    "import os"
   ]
  },
  {
   "cell_type": "markdown",
   "metadata": {},
   "source": [
    "### Load datasets:"
   ]
  },
  {
   "cell_type": "code",
   "execution_count": 2,
   "metadata": {},
   "outputs": [],
   "source": [
    "base = os.path.split(os.getcwd())[0]\n",
    "dd = base + '/data/clean/'"
   ]
  },
  {
   "cell_type": "code",
   "execution_count": 3,
   "metadata": {},
   "outputs": [],
   "source": [
    "vacc = pd.read_csv(dd + 'vaccination_rate_US.csv')\n",
    "cov19 = pd.read_csv(dd + 'covi19_death_cases.csv')\n",
    "hesit = pd.read_csv(dd + 'Hesitancy_SVI_Ethnicity.csv')\n",
    "elect = pd.read_csv(dd + 'election_results_us.csv')\n",
    "pvi_d = pd.read_csv(dd + 'PVI_05_Oct_data_clean.csv')\n",
    "pvi_m = pd.read_csv(dd + 'PVI_05_Oct_results_clean.csv')\n",
    "disp = pd.read_csv(dd + 'covid19_heath_disparity.csv' )\n",
    "cdc = pd.read_csv(dd + 'cdc_90519_DS1.csv')"
   ]
  },
  {
   "cell_type": "code",
   "execution_count": 4,
   "metadata": {},
   "outputs": [],
   "source": [
    "vacc.Name_df = 'vacc' \n",
    "cov19.Name_df = 'cov19'\n",
    "hesit.Name_df = 'hesit'\n",
    "elect.Name_df = 'elect'\n",
    "pvi_d.Name_df = 'pvi_d'\n",
    "pvi_m.Name_df = 'pvi_m'\n",
    "disp.Name_df = 'disp'\n",
    "cdc.Name_df = 'cdc'\n",
    "\n",
    "datasets = [vacc, cov19, hesit, elect, pvi_d, pvi_m, disp, cdc]"
   ]
  },
  {
   "cell_type": "code",
   "execution_count": 5,
   "metadata": {},
   "outputs": [
    {
     "name": "stdout",
     "output_type": "stream",
     "text": [
      "fips codes in vacc\n",
      "\n",
      "fips codes in cov19\n",
      "\n",
      "fips codes in hesit\n",
      "\n",
      "fips codes in elect\n",
      "\n",
      "fips codes in pvi_d\n",
      "\n",
      "fips codes in pvi_m\n",
      "\n",
      "fips codes in disp\n",
      "\n",
      "No fips codes in cdc\n",
      "\n"
     ]
    }
   ],
   "source": [
    "for data in datasets:\n",
    "    \n",
    "    if 'fips' in data.columns:\n",
    "        print('fips codes in {}'.format(data.Name_df))\n",
    "        print()\n",
    "    else:\n",
    "        print('No fips codes in {}'.format(data.Name_df))\n",
    "        print()"
   ]
  },
  {
   "cell_type": "code",
   "execution_count": 6,
   "metadata": {},
   "outputs": [],
   "source": [
    "#cdc.columns -> map FIPS to fips\n",
    "\n",
    "cdc.rename(columns = {'FIPS':'fips'}, inplace = True)"
   ]
  },
  {
   "cell_type": "markdown",
   "metadata": {},
   "source": [
    "**`fips` in all datasets**"
   ]
  },
  {
   "cell_type": "code",
   "execution_count": 7,
   "metadata": {},
   "outputs": [
    {
     "name": "stdout",
     "output_type": "stream",
     "text": [
      "vacc\n",
      "['fips', 'state', 'county', 'state_abb', 'popfull_per', 'pop_full_12plus_per', 'pop_full_18plus_per', 'pop_full_65plus_per', 'pop_first_per', 'pop_first_12plus_per', 'pop_first_18plus_per', 'pop_first_65plus_per']\n",
      "Number of variables:  12\n",
      "\n",
      "cov19\n",
      "['fips', 'state', 'county', 'state_abb', 'popfull_per', 'pop_full_12plus_per', 'pop_full_18plus_per', 'pop_full_65plus_per', 'pop_first_per', 'pop_first_12plus_per', 'pop_first_18plus_per', 'pop_first_65plus_per', 'county_cases', 'cases_031021', 'county_death', 'death_031021', 'pop_census', 'test', 'cases_prop', 'death_prop']\n",
      "Number of variables:  20\n",
      "\n",
      "hesit\n",
      "['fips', 'Estimated hesitant', 'Estimated hesitant or unsure', 'Estimated strongly hesitant', 'Social Vulnerability Index (SVI)', 'SVI Category', 'CVAC level of concern for vaccination rollout', 'CVAC Level Of Concern', 'Percent Hispanic', 'Percent non-Hispanic American Indian/Alaska Native', 'Percent non-Hispanic Asian', 'Percent non-Hispanic Black', 'Percent non-Hispanic Native Hawaiian/Pacific Islander', 'Percent non-Hispanic White']\n",
      "Number of variables:  14\n",
      "\n",
      "elect\n",
      "['fips', 'state', 'county', 'votes_dem', 'votes_gop', 'total_votes', 'per_dem', 'per_gop', 'per_point_diff']\n",
      "Number of variables:  9\n",
      "\n",
      "pvi_d\n",
      "['fips', 'Name', 'Cases', 'Deaths', 'Sick', 'Spread', 'DaytimePopDensity', 'Traffic', 'SVIHousing', 'Vaccines', 'DistancingGrade', 'Testing', 'PctBeds', 'PctVentilators', 'PctBlack', 'PctNative', 'AirPollution', 'PctGE65', 'PrematureDeath', 'Smoking', 'Diabetes', 'Obesity', 'PctNoIns', 'SVISocioeconomic']\n",
      "Number of variables:  24\n",
      "\n",
      "pvi_m\n",
      "['ToxPi Score', 'Name', 'Transmissible Cases', 'Disease Spread', 'Pop Mobility', 'Residential Density', 'Vaccines', 'Social Distancing', 'Testing', 'Hospital Beds', 'Hospital Ventilators', 'Pop Demographics', 'Air Pollution', 'Age Distribution', 'Co-morbidities', 'Health Disparities', 'fips']\n",
      "Number of variables:  17\n",
      "\n",
      "disp\n",
      "['fips', 'PopDensity', 'Male', 'RuralCont', 'EconArea', 'HouseholdSize', 'noHealthInsurance', 'noHighSchool', 'Poverty', 'logPopDensity', 'PercentEduHealthSoc', 'SES', 'Household', 'HousingType', 'Asthma', 'Cancer', 'COPD', 'Stroke', 'HF', 'HTN', 'KD', 'WBSeg', 'WNWSeg']\n",
      "Number of variables:  23\n",
      "\n",
      "cdc\n",
      "['COUNTY_NAME', 'STATE_NAME', 'STATE_FIPS', 'CNTY_FIPS', 'fips', 'county_pop2018_18 and older', 'anycondition_prevalence', 'anycondition_Lower 95% CI', 'anycondition_Upper 95% CI', 'anycondition_number', 'Obesity_prevalence', 'Obesity_Lower 95% CI', 'Obesity_Upper 95% CI', 'Obesity_number', 'Heart disease_prevalence', 'Heart disease_Lower 95% CI', 'Heart disease_Upper 95% CI', 'Heart disease_number', 'COPD_prevalence', 'COPD_Lower 95% CI', 'COPD_Upper 95% CI', 'COPD_number', 'diabetes_prevalence', 'diabetes_Lower 95% CI', 'diabetes_Upper 95% CI', 'diabetes_number', 'CKD_prevalence', 'CKD_Lower 95% CI', 'CKD_Upper 95% CI', 'CKD_number', 'Urban_rural_code', 'STAB']\n",
      "Number of variables:  32\n",
      "\n"
     ]
    }
   ],
   "source": [
    "for data in datasets:\n",
    "    print(data.Name_df)\n",
    "    print(data.columns.tolist())\n",
    "    print('Number of variables: ', len(data.columns))\n",
    "    print()"
   ]
  },
  {
   "cell_type": "markdown",
   "metadata": {},
   "source": [
    "## Exclude columns that are not necessary:"
   ]
  },
  {
   "cell_type": "markdown",
   "metadata": {},
   "source": [
    "**`vacc`**:\n",
    "\n",
    "   - to exclude `'popfull_per','pop_first_per', 'pop_first_12plus_per', 'pop_first_18plus_per','pop_first_65plus_per'`"
   ]
  },
  {
   "cell_type": "code",
   "execution_count": 8,
   "metadata": {},
   "outputs": [
    {
     "data": {
      "text/plain": [
       "Index(['fips', 'state', 'county', 'state_abb', 'popfull_per',\n",
       "       'pop_full_12plus_per', 'pop_full_18plus_per', 'pop_full_65plus_per',\n",
       "       'pop_first_per', 'pop_first_12plus_per', 'pop_first_18plus_per',\n",
       "       'pop_first_65plus_per'],\n",
       "      dtype='object')"
      ]
     },
     "execution_count": 8,
     "metadata": {},
     "output_type": "execute_result"
    }
   ],
   "source": [
    "vacc.columns"
   ]
  },
  {
   "cell_type": "code",
   "execution_count": 9,
   "metadata": {},
   "outputs": [],
   "source": [
    "vacc = vacc.drop(columns = ['popfull_per','pop_first_per', 'pop_first_12plus_per', \n",
    "                      'pop_first_18plus_per','pop_first_65plus_per']) #.head(n = 3)"
   ]
  },
  {
   "cell_type": "code",
   "execution_count": 10,
   "metadata": {},
   "outputs": [
    {
     "data": {
      "text/plain": [
       "Index(['fips', 'state', 'county', 'state_abb', 'pop_full_12plus_per',\n",
       "       'pop_full_18plus_per', 'pop_full_65plus_per'],\n",
       "      dtype='object')"
      ]
     },
     "execution_count": 10,
     "metadata": {},
     "output_type": "execute_result"
    }
   ],
   "source": [
    "vacc.columns"
   ]
  },
  {
   "cell_type": "markdown",
   "metadata": {},
   "source": [
    "**`cov19`**:\n",
    "\n",
    "Features engineered:\n",
    "\n",
    "   - `cases_prop` \n",
    "   - `death_prop`\n",
    "   - `death_rate`\n",
    "\n",
    "   - to **include** `'fips', 'cases_prop', 'death_prop', 'death_rate', 'pop_census'`"
   ]
  },
  {
   "cell_type": "code",
   "execution_count": 11,
   "metadata": {},
   "outputs": [
    {
     "data": {
      "text/plain": [
       "Index(['fips', 'state', 'county', 'state_abb', 'popfull_per',\n",
       "       'pop_full_12plus_per', 'pop_full_18plus_per', 'pop_full_65plus_per',\n",
       "       'pop_first_per', 'pop_first_12plus_per', 'pop_first_18plus_per',\n",
       "       'pop_first_65plus_per', 'county_cases', 'cases_031021', 'county_death',\n",
       "       'death_031021', 'pop_census', 'test', 'cases_prop', 'death_prop'],\n",
       "      dtype='object')"
      ]
     },
     "execution_count": 11,
     "metadata": {},
     "output_type": "execute_result"
    }
   ],
   "source": [
    "cov19.columns"
   ]
  },
  {
   "cell_type": "code",
   "execution_count": 12,
   "metadata": {},
   "outputs": [],
   "source": [
    "cov19['death_rate'] = cov19['death_031021'] / cov19['cases_031021']*100"
   ]
  },
  {
   "cell_type": "code",
   "execution_count": 13,
   "metadata": {},
   "outputs": [
    {
     "name": "stderr",
     "output_type": "stream",
     "text": [
      "/anaconda3/lib/python3.6/site-packages/numpy/lib/histograms.py:829: RuntimeWarning: invalid value encountered in greater_equal\n",
      "  keep = (tmp_a >= first_edge)\n",
      "/anaconda3/lib/python3.6/site-packages/numpy/lib/histograms.py:830: RuntimeWarning: invalid value encountered in less_equal\n",
      "  keep &= (tmp_a <= last_edge)\n"
     ]
    },
    {
     "data": {
      "image/png": "[encoded data removed]",
      "text/plain": [
       "<Figure size 432x288 with 1 Axes>"
      ]
     },
     "metadata": {
      "needs_background": "light"
     },
     "output_type": "display_data"
    }
   ],
   "source": [
    "plt.hist(cov19['death_rate'])\n",
    "plt.show()"
   ]
  },
  {
   "cell_type": "code",
   "execution_count": 14,
   "metadata": {},
   "outputs": [],
   "source": [
    "cov19 = cov19[['fips', 'cases_prop', 'death_prop', 'death_rate', 'pop_census']] #.head(n = 3)"
   ]
  },
  {
   "cell_type": "code",
   "execution_count": 15,
   "metadata": {},
   "outputs": [
    {
     "data": {
      "text/plain": [
       "Index(['fips', 'cases_prop', 'death_prop', 'death_rate', 'pop_census'], dtype='object')"
      ]
     },
     "execution_count": 15,
     "metadata": {},
     "output_type": "execute_result"
    }
   ],
   "source": [
    "cov19.columns"
   ]
  },
  {
   "cell_type": "markdown",
   "metadata": {},
   "source": [
    "**`hesit`**:\n",
    "\n",
    "   - to exclude: ``"
   ]
  },
  {
   "cell_type": "code",
   "execution_count": 16,
   "metadata": {},
   "outputs": [
    {
     "data": {
      "text/plain": [
       "Index(['fips', 'Estimated hesitant', 'Estimated hesitant or unsure',\n",
       "       'Estimated strongly hesitant', 'Social Vulnerability Index (SVI)',\n",
       "       'SVI Category', 'CVAC level of concern for vaccination rollout',\n",
       "       'CVAC Level Of Concern', 'Percent Hispanic',\n",
       "       'Percent non-Hispanic American Indian/Alaska Native',\n",
       "       'Percent non-Hispanic Asian', 'Percent non-Hispanic Black',\n",
       "       'Percent non-Hispanic Native Hawaiian/Pacific Islander',\n",
       "       'Percent non-Hispanic White'],\n",
       "      dtype='object')"
      ]
     },
     "execution_count": 16,
     "metadata": {},
     "output_type": "execute_result"
    }
   ],
   "source": [
    "hesit.columns"
   ]
  },
  {
   "cell_type": "markdown",
   "metadata": {},
   "source": [
    "**`elect`**:\n",
    "\n",
    "   - to exclude: ``"
   ]
  },
  {
   "cell_type": "code",
   "execution_count": 17,
   "metadata": {},
   "outputs": [
    {
     "data": {
      "text/plain": [
       "Index(['fips', 'state', 'county', 'votes_dem', 'votes_gop', 'total_votes',\n",
       "       'per_dem', 'per_gop', 'per_point_diff'],\n",
       "      dtype='object')"
      ]
     },
     "execution_count": 17,
     "metadata": {},
     "output_type": "execute_result"
    }
   ],
   "source": [
    "elect.columns"
   ]
  },
  {
   "cell_type": "code",
   "execution_count": 18,
   "metadata": {},
   "outputs": [],
   "source": [
    "# elect = \n",
    "# plt.scatter(elect['per_dem'], elect['per_gop'])\n",
    "elect = elect.drop(columns = ['state', 'county', 'votes_dem', 'votes_gop'])#.head(n=3)"
   ]
  },
  {
   "cell_type": "code",
   "execution_count": 19,
   "metadata": {},
   "outputs": [
    {
     "data": {
      "text/plain": [
       "Index(['fips', 'total_votes', 'per_dem', 'per_gop', 'per_point_diff'], dtype='object')"
      ]
     },
     "execution_count": 19,
     "metadata": {},
     "output_type": "execute_result"
    }
   ],
   "source": [
    "elect.columns"
   ]
  },
  {
   "cell_type": "markdown",
   "metadata": {},
   "source": [
    "**`pvi_d`**:\n",
    "\n",
    "   - to exclude: ``"
   ]
  },
  {
   "cell_type": "code",
   "execution_count": 20,
   "metadata": {},
   "outputs": [
    {
     "data": {
      "text/plain": [
       "Index(['fips', 'Name', 'Cases', 'Deaths', 'Sick', 'Spread',\n",
       "       'DaytimePopDensity', 'Traffic', 'SVIHousing', 'Vaccines',\n",
       "       'DistancingGrade', 'Testing', 'PctBeds', 'PctVentilators', 'PctBlack',\n",
       "       'PctNative', 'AirPollution', 'PctGE65', 'PrematureDeath', 'Smoking',\n",
       "       'Diabetes', 'Obesity', 'PctNoIns', 'SVISocioeconomic'],\n",
       "      dtype='object')"
      ]
     },
     "execution_count": 20,
     "metadata": {},
     "output_type": "execute_result"
    }
   ],
   "source": [
    "pvi_d.columns"
   ]
  },
  {
   "cell_type": "code",
   "execution_count": 21,
   "metadata": {},
   "outputs": [],
   "source": [
    "pvi_d = pvi_d[['fips', 'PrematureDeath', 'Smoking', 'Testing', 'Traffic',\n",
    "               'DistancingGrade','DaytimePopDensity','PctGE65']]"
   ]
  },
  {
   "cell_type": "markdown",
   "metadata": {},
   "source": [
    "**`pvi_m`**:\n",
    "\n",
    "   - to exclude: ``"
   ]
  },
  {
   "cell_type": "code",
   "execution_count": 22,
   "metadata": {},
   "outputs": [
    {
     "data": {
      "text/plain": [
       "Index(['ToxPi Score', 'Name', 'Transmissible Cases', 'Disease Spread',\n",
       "       'Pop Mobility', 'Residential Density', 'Vaccines', 'Social Distancing',\n",
       "       'Testing', 'Hospital Beds', 'Hospital Ventilators', 'Pop Demographics',\n",
       "       'Air Pollution', 'Age Distribution', 'Co-morbidities',\n",
       "       'Health Disparities', 'fips'],\n",
       "      dtype='object')"
      ]
     },
     "execution_count": 22,
     "metadata": {},
     "output_type": "execute_result"
    }
   ],
   "source": [
    "pvi_m.columns"
   ]
  },
  {
   "cell_type": "code",
   "execution_count": 23,
   "metadata": {},
   "outputs": [],
   "source": [
    "# pvi_m = \n",
    "pvi_m = pvi_m[['fips', 'ToxPi Score']]"
   ]
  },
  {
   "cell_type": "code",
   "execution_count": null,
   "metadata": {},
   "outputs": [],
   "source": []
  },
  {
   "cell_type": "markdown",
   "metadata": {},
   "source": [
    "**`disp`**:\n",
    "\n",
    "   - to exclude: `'PopDensity', 'SES', 'Asthma','Cancer', 'COPD', 'Stroke', 'HF', 'HTN', 'KD'`"
   ]
  },
  {
   "cell_type": "code",
   "execution_count": 24,
   "metadata": {},
   "outputs": [
    {
     "data": {
      "text/plain": [
       "Index(['fips', 'PopDensity', 'Male', 'RuralCont', 'EconArea', 'HouseholdSize',\n",
       "       'noHealthInsurance', 'noHighSchool', 'Poverty', 'logPopDensity',\n",
       "       'PercentEduHealthSoc', 'SES', 'Household', 'HousingType', 'Asthma',\n",
       "       'Cancer', 'COPD', 'Stroke', 'HF', 'HTN', 'KD', 'WBSeg', 'WNWSeg'],\n",
       "      dtype='object')"
      ]
     },
     "execution_count": 24,
     "metadata": {},
     "output_type": "execute_result"
    }
   ],
   "source": [
    "disp.columns"
   ]
  },
  {
   "cell_type": "code",
   "execution_count": 25,
   "metadata": {},
   "outputs": [],
   "source": [
    "disp = disp.drop(columns = ['PopDensity', 'COPD', 'Stroke', 'HF', 'HTN', 'KD'])\n",
    "#.head(n = 3)"
   ]
  },
  {
   "cell_type": "code",
   "execution_count": 26,
   "metadata": {},
   "outputs": [
    {
     "data": {
      "text/plain": [
       "Index(['fips', 'Male', 'RuralCont', 'EconArea', 'HouseholdSize',\n",
       "       'noHealthInsurance', 'noHighSchool', 'Poverty', 'logPopDensity',\n",
       "       'PercentEduHealthSoc', 'SES', 'Household', 'HousingType', 'Asthma',\n",
       "       'Cancer', 'WBSeg', 'WNWSeg'],\n",
       "      dtype='object')"
      ]
     },
     "execution_count": 26,
     "metadata": {},
     "output_type": "execute_result"
    }
   ],
   "source": [
    "disp.columns"
   ]
  },
  {
   "cell_type": "markdown",
   "metadata": {},
   "source": [
    "**`cdc`**:\n",
    "\n",
    "   - to exclude: ``"
   ]
  },
  {
   "cell_type": "code",
   "execution_count": 27,
   "metadata": {},
   "outputs": [
    {
     "data": {
      "text/plain": [
       "Index(['COUNTY_NAME', 'STATE_NAME', 'STATE_FIPS', 'CNTY_FIPS', 'fips',\n",
       "       'county_pop2018_18 and older', 'anycondition_prevalence',\n",
       "       'anycondition_Lower 95% CI', 'anycondition_Upper 95% CI',\n",
       "       'anycondition_number', 'Obesity_prevalence', 'Obesity_Lower 95% CI',\n",
       "       'Obesity_Upper 95% CI', 'Obesity_number', 'Heart disease_prevalence',\n",
       "       'Heart disease_Lower 95% CI', 'Heart disease_Upper 95% CI',\n",
       "       'Heart disease_number', 'COPD_prevalence', 'COPD_Lower 95% CI',\n",
       "       'COPD_Upper 95% CI', 'COPD_number', 'diabetes_prevalence',\n",
       "       'diabetes_Lower 95% CI', 'diabetes_Upper 95% CI', 'diabetes_number',\n",
       "       'CKD_prevalence', 'CKD_Lower 95% CI', 'CKD_Upper 95% CI', 'CKD_number',\n",
       "       'Urban_rural_code', 'STAB'],\n",
       "      dtype='object')"
      ]
     },
     "execution_count": 27,
     "metadata": {},
     "output_type": "execute_result"
    }
   ],
   "source": [
    "cdc.columns"
   ]
  },
  {
   "cell_type": "code",
   "execution_count": 28,
   "metadata": {},
   "outputs": [],
   "source": [
    "# cdc = \n",
    "cdc = cdc[['fips','anycondition_prevalence', 'Obesity_prevalence','Heart disease_prevalence',\n",
    "    'COPD_prevalence','diabetes_prevalence','CKD_prevalence', 'Urban_rural_code']]"
   ]
  },
  {
   "cell_type": "markdown",
   "metadata": {},
   "source": [
    "-------------------------------------------\n",
    "## Merge and exclude overlapping features:"
   ]
  },
  {
   "cell_type": "code",
   "execution_count": 29,
   "metadata": {},
   "outputs": [
    {
     "data": {
      "text/html": [
       "<div>\n",
       "<style scoped>\n",
       "    .dataframe tbody tr th:only-of-type {\n",
       "        vertical-align: middle;\n",
       "    }\n",
       "\n",
       "    .dataframe tbody tr th {\n",
       "        vertical-align: top;\n",
       "    }\n",
       "\n",
       "    .dataframe thead th {\n",
       "        text-align: right;\n",
       "    }\n",
       "</style>\n",
       "<table border=\"1\" class=\"dataframe\">\n",
       "  <thead>\n",
       "    <tr style=\"text-align: right;\">\n",
       "      <th></th>\n",
       "      <th>fips</th>\n",
       "      <th>state</th>\n",
       "      <th>county</th>\n",
       "      <th>state_abb</th>\n",
       "      <th>pop_full_12plus_per</th>\n",
       "      <th>pop_full_18plus_per</th>\n",
       "      <th>pop_full_65plus_per</th>\n",
       "      <th>cases_prop</th>\n",
       "      <th>death_prop</th>\n",
       "      <th>death_rate</th>\n",
       "      <th>...</th>\n",
       "      <th>Cancer</th>\n",
       "      <th>WBSeg</th>\n",
       "      <th>WNWSeg</th>\n",
       "      <th>anycondition_prevalence</th>\n",
       "      <th>Obesity_prevalence</th>\n",
       "      <th>Heart disease_prevalence</th>\n",
       "      <th>COPD_prevalence</th>\n",
       "      <th>diabetes_prevalence</th>\n",
       "      <th>CKD_prevalence</th>\n",
       "      <th>Urban_rural_code</th>\n",
       "    </tr>\n",
       "  </thead>\n",
       "  <tbody>\n",
       "    <tr>\n",
       "      <td>0</td>\n",
       "      <td>1001</td>\n",
       "      <td>Alabama</td>\n",
       "      <td>Autauga County</td>\n",
       "      <td>AL</td>\n",
       "      <td>39.9</td>\n",
       "      <td>41.8</td>\n",
       "      <td>61.7</td>\n",
       "      <td>17.505235</td>\n",
       "      <td>0.254166</td>\n",
       "      <td>1.451943</td>\n",
       "      <td>...</td>\n",
       "      <td>8.4762</td>\n",
       "      <td>24.619138</td>\n",
       "      <td>23.628395</td>\n",
       "      <td>47.6</td>\n",
       "      <td>35.8</td>\n",
       "      <td>7.9</td>\n",
       "      <td>8.6</td>\n",
       "      <td>12.9</td>\n",
       "      <td>3.1</td>\n",
       "      <td>3.0</td>\n",
       "    </tr>\n",
       "    <tr>\n",
       "      <td>1</td>\n",
       "      <td>1003</td>\n",
       "      <td>Alabama</td>\n",
       "      <td>Baldwin County</td>\n",
       "      <td>AL</td>\n",
       "      <td>49.5</td>\n",
       "      <td>51.9</td>\n",
       "      <td>75.3</td>\n",
       "      <td>16.385945</td>\n",
       "      <td>0.232044</td>\n",
       "      <td>1.416113</td>\n",
       "      <td>...</td>\n",
       "      <td>8.5693</td>\n",
       "      <td>41.271763</td>\n",
       "      <td>31.825343</td>\n",
       "      <td>40.2</td>\n",
       "      <td>29.7</td>\n",
       "      <td>7.8</td>\n",
       "      <td>8.6</td>\n",
       "      <td>12.0</td>\n",
       "      <td>3.2</td>\n",
       "      <td>4.0</td>\n",
       "    </tr>\n",
       "    <tr>\n",
       "      <td>2</td>\n",
       "      <td>1005</td>\n",
       "      <td>Alabama</td>\n",
       "      <td>Barbour County</td>\n",
       "      <td>AL</td>\n",
       "      <td>41.1</td>\n",
       "      <td>43.0</td>\n",
       "      <td>66.1</td>\n",
       "      <td>14.255043</td>\n",
       "      <td>0.287612</td>\n",
       "      <td>2.017619</td>\n",
       "      <td>...</td>\n",
       "      <td>8.3313</td>\n",
       "      <td>25.039132</td>\n",
       "      <td>23.449713</td>\n",
       "      <td>57.5</td>\n",
       "      <td>40.7</td>\n",
       "      <td>11.0</td>\n",
       "      <td>12.1</td>\n",
       "      <td>19.7</td>\n",
       "      <td>4.5</td>\n",
       "      <td>6.0</td>\n",
       "    </tr>\n",
       "  </tbody>\n",
       "</table>\n",
       "<p>3 rows × 59 columns</p>\n",
       "</div>"
      ],
      "text/plain": [
       "   fips    state          county state_abb  pop_full_12plus_per  \\\n",
       "0  1001  Alabama  Autauga County        AL                 39.9   \n",
       "1  1003  Alabama  Baldwin County        AL                 49.5   \n",
       "2  1005  Alabama  Barbour County        AL                 41.1   \n",
       "\n",
       "   pop_full_18plus_per  pop_full_65plus_per  cases_prop  death_prop  \\\n",
       "0                 41.8                 61.7   17.505235    0.254166   \n",
       "1                 51.9                 75.3   16.385945    0.232044   \n",
       "2                 43.0                 66.1   14.255043    0.287612   \n",
       "\n",
       "   death_rate  ...  Cancer      WBSeg     WNWSeg  anycondition_prevalence  \\\n",
       "0    1.451943  ...  8.4762  24.619138  23.628395                     47.6   \n",
       "1    1.416113  ...  8.5693  41.271763  31.825343                     40.2   \n",
       "2    2.017619  ...  8.3313  25.039132  23.449713                     57.5   \n",
       "\n",
       "   Obesity_prevalence Heart disease_prevalence  COPD_prevalence  \\\n",
       "0                35.8                      7.9              8.6   \n",
       "1                29.7                      7.8              8.6   \n",
       "2                40.7                     11.0             12.1   \n",
       "\n",
       "  diabetes_prevalence  CKD_prevalence  Urban_rural_code  \n",
       "0                12.9             3.1               3.0  \n",
       "1                12.0             3.2               4.0  \n",
       "2                19.7             4.5               6.0  \n",
       "\n",
       "[3 rows x 59 columns]"
      ]
     },
     "execution_count": 29,
     "metadata": {},
     "output_type": "execute_result"
    }
   ],
   "source": [
    "# update:\n",
    "datasets = [vacc, cov19, hesit, elect, pvi_d, pvi_m, disp, cdc]\n",
    "df = vacc.copy()\n",
    "\n",
    "for data in datasets[1:]:\n",
    "    df = pd.merge(df, data, how = 'left', on = 'fips')\n",
    "    \n",
    "df.head(n = 3)"
   ]
  },
  {
   "cell_type": "code",
   "execution_count": 30,
   "metadata": {},
   "outputs": [
    {
     "data": {
      "text/plain": [
       "Index(['fips', 'state', 'county', 'state_abb', 'pop_full_12plus_per',\n",
       "       'pop_full_18plus_per', 'pop_full_65plus_per', 'cases_prop',\n",
       "       'death_prop', 'death_rate', 'pop_census', 'Estimated hesitant',\n",
       "       'Estimated hesitant or unsure', 'Estimated strongly hesitant',\n",
       "       'Social Vulnerability Index (SVI)', 'SVI Category',\n",
       "       'CVAC level of concern for vaccination rollout',\n",
       "       'CVAC Level Of Concern', 'Percent Hispanic',\n",
       "       'Percent non-Hispanic American Indian/Alaska Native',\n",
       "       'Percent non-Hispanic Asian', 'Percent non-Hispanic Black',\n",
       "       'Percent non-Hispanic Native Hawaiian/Pacific Islander',\n",
       "       'Percent non-Hispanic White', 'total_votes', 'per_dem', 'per_gop',\n",
       "       'per_point_diff', 'PrematureDeath', 'Smoking', 'Testing', 'Traffic',\n",
       "       'DistancingGrade', 'DaytimePopDensity', 'PctGE65', 'ToxPi Score',\n",
       "       'Male', 'RuralCont', 'EconArea', 'HouseholdSize', 'noHealthInsurance',\n",
       "       'noHighSchool', 'Poverty', 'logPopDensity', 'PercentEduHealthSoc',\n",
       "       'SES', 'Household', 'HousingType', 'Asthma', 'Cancer', 'WBSeg',\n",
       "       'WNWSeg', 'anycondition_prevalence', 'Obesity_prevalence',\n",
       "       'Heart disease_prevalence', 'COPD_prevalence', 'diabetes_prevalence',\n",
       "       'CKD_prevalence', 'Urban_rural_code'],\n",
       "      dtype='object')"
      ]
     },
     "execution_count": 30,
     "metadata": {},
     "output_type": "execute_result"
    }
   ],
   "source": [
    "df.columns"
   ]
  },
  {
   "cell_type": "code",
   "execution_count": 31,
   "metadata": {},
   "outputs": [
    {
     "data": {
      "text/plain": [
       "fips                     0\n",
       "state                    0\n",
       "county                   0\n",
       "state_abb                0\n",
       "pop_full_12plus_per     53\n",
       "pop_full_18plus_per    262\n",
       "pop_full_65plus_per      8\n",
       "cases_prop              28\n",
       "death_prop             134\n",
       "death_rate             134\n",
       "dtype: int64"
      ]
     },
     "execution_count": 31,
     "metadata": {},
     "output_type": "execute_result"
    }
   ],
   "source": [
    "df.isnull().sum()[:10]"
   ]
  },
  {
   "cell_type": "code",
   "execution_count": 32,
   "metadata": {},
   "outputs": [
    {
     "name": "stdout",
     "output_type": "stream",
     "text": [
      "fips\n",
      "Series([], Name: state, dtype: int64)\n",
      "------------\n",
      "state\n",
      "Series([], Name: state, dtype: int64)\n",
      "------------\n",
      "county\n",
      "Series([], Name: state, dtype: int64)\n",
      "------------\n",
      "state_abb\n",
      "Series([], Name: state, dtype: int64)\n",
      "------------\n",
      "pop_full_12plus_per\n",
      "Idaho         44\n",
      "California     8\n",
      "Alaska         1\n",
      "Name: state, dtype: int64\n",
      "------------\n",
      "pop_full_18plus_per\n",
      "Texas         254\n",
      "California      8\n",
      "Name: state, dtype: int64\n",
      "------------\n",
      "pop_full_65plus_per\n",
      "California    8\n",
      "Name: state, dtype: int64\n",
      "------------\n",
      "cases_prop\n",
      "Utah             22\n",
      "Alaska            3\n",
      "Massachusetts     2\n",
      "Guam              1\n",
      "Name: state, dtype: int64\n",
      "------------\n",
      "death_prop\n",
      "Puerto Rico      78\n",
      "Utah             22\n",
      "Nebraska          9\n",
      "Alaska            8\n",
      "Colorado          2\n",
      "Texas             2\n",
      "California        2\n",
      "Massachusetts     2\n",
      "Nevada            2\n",
      "North Dakota      2\n",
      "Idaho             1\n",
      "Guam              1\n",
      "South Dakota      1\n",
      "Minnesota         1\n",
      "Washington        1\n",
      "Name: state, dtype: int64\n",
      "------------\n",
      "death_rate\n",
      "Puerto Rico      78\n",
      "Utah             22\n",
      "Nebraska          9\n",
      "Alaska            8\n",
      "Colorado          2\n",
      "Texas             2\n",
      "California        2\n",
      "Massachusetts     2\n",
      "Nevada            2\n",
      "North Dakota      2\n",
      "Idaho             1\n",
      "Guam              1\n",
      "South Dakota      1\n",
      "Minnesota         1\n",
      "Washington        1\n",
      "Name: state, dtype: int64\n",
      "------------\n",
      "pop_census\n",
      "Guam    1\n",
      "Name: state, dtype: int64\n",
      "------------\n",
      "Estimated hesitant\n",
      "Puerto Rico    78\n",
      "Guam            1\n",
      "Name: state, dtype: int64\n",
      "------------\n",
      "Estimated hesitant or unsure\n",
      "Puerto Rico    78\n",
      "Guam            1\n",
      "Name: state, dtype: int64\n",
      "------------\n",
      "Estimated strongly hesitant\n",
      "Puerto Rico    78\n",
      "Guam            1\n",
      "Name: state, dtype: int64\n",
      "------------\n",
      "Social Vulnerability Index (SVI)\n",
      "Puerto Rico    78\n",
      "Guam            1\n",
      "New Mexico      1\n",
      "Name: state, dtype: int64\n",
      "------------\n",
      "SVI Category\n",
      "Puerto Rico    78\n",
      "Guam            1\n",
      "New Mexico      1\n",
      "Name: state, dtype: int64\n",
      "------------\n",
      "CVAC level of concern for vaccination rollout\n",
      "Puerto Rico    78\n",
      "Guam            1\n",
      "Name: state, dtype: int64\n",
      "------------\n",
      "CVAC Level Of Concern\n",
      "Puerto Rico    78\n",
      "Guam            1\n",
      "Name: state, dtype: int64\n",
      "------------\n",
      "Percent Hispanic\n",
      "Puerto Rico    78\n",
      "Guam            1\n",
      "Name: state, dtype: int64\n",
      "------------\n",
      "Percent non-Hispanic American Indian/Alaska Native\n",
      "Puerto Rico    78\n",
      "Guam            1\n",
      "Name: state, dtype: int64\n",
      "------------\n",
      "Percent non-Hispanic Asian\n",
      "Puerto Rico    78\n",
      "Guam            1\n",
      "Name: state, dtype: int64\n",
      "------------\n",
      "Percent non-Hispanic Black\n",
      "Puerto Rico    78\n",
      "Guam            1\n",
      "Name: state, dtype: int64\n",
      "------------\n",
      "Percent non-Hispanic Native Hawaiian/Pacific Islander\n",
      "Puerto Rico    78\n",
      "Guam            1\n",
      "Name: state, dtype: int64\n",
      "------------\n",
      "Percent non-Hispanic White\n",
      "Puerto Rico    78\n",
      "Guam            1\n",
      "Name: state, dtype: int64\n",
      "------------\n",
      "total_votes\n",
      "Puerto Rico    78\n",
      "Alaska         29\n",
      "Guam            1\n",
      "Name: state, dtype: int64\n",
      "------------\n",
      "per_dem\n",
      "Puerto Rico    78\n",
      "Alaska         29\n",
      "Guam            1\n",
      "Name: state, dtype: int64\n",
      "------------\n",
      "per_gop\n",
      "Puerto Rico    78\n",
      "Alaska         29\n",
      "Guam            1\n",
      "Name: state, dtype: int64\n",
      "------------\n",
      "per_point_diff\n",
      "Puerto Rico    78\n",
      "Alaska         29\n",
      "Guam            1\n",
      "Name: state, dtype: int64\n",
      "------------\n",
      "PrematureDeath\n",
      "Puerto Rico     78\n",
      "Nebraska        13\n",
      "Texas           10\n",
      "Montana          8\n",
      "South Dakota     5\n",
      "North Dakota     5\n",
      "Colorado         4\n",
      "Alaska           4\n",
      "Idaho            2\n",
      "Nevada           2\n",
      "Oregon           1\n",
      "New Mexico       1\n",
      "Guam             1\n",
      "Kansas           1\n",
      "Utah             1\n",
      "Name: state, dtype: int64\n",
      "------------\n",
      "Smoking\n",
      "Puerto Rico    78\n",
      "Guam            1\n",
      "Name: state, dtype: int64\n",
      "------------\n",
      "Testing\n",
      "Puerto Rico    78\n",
      "Guam            1\n",
      "Name: state, dtype: int64\n",
      "------------\n",
      "Traffic\n",
      "Puerto Rico    78\n",
      "Guam            1\n",
      "Name: state, dtype: int64\n",
      "------------\n",
      "DistancingGrade\n",
      "Puerto Rico    78\n",
      "Guam            1\n",
      "Name: state, dtype: int64\n",
      "------------\n",
      "DaytimePopDensity\n",
      "Puerto Rico    78\n",
      "Guam            1\n",
      "Name: state, dtype: int64\n",
      "------------\n",
      "PctGE65\n",
      "Puerto Rico    78\n",
      "Guam            1\n",
      "Name: state, dtype: int64\n",
      "------------\n",
      "ToxPi Score\n",
      "Puerto Rico    78\n",
      "Guam            1\n",
      "Name: state, dtype: int64\n",
      "------------\n",
      "Male\n",
      "Puerto Rico    78\n",
      "Guam            1\n",
      "Name: state, dtype: int64\n",
      "------------\n",
      "RuralCont\n",
      "Puerto Rico    78\n",
      "Guam            1\n",
      "Name: state, dtype: int64\n",
      "------------\n",
      "EconArea\n",
      "Puerto Rico     78\n",
      "Alaska          26\n",
      "Texas            1\n",
      "Guam             1\n",
      "South Dakota     1\n",
      "Name: state, dtype: int64\n",
      "------------\n",
      "HouseholdSize\n",
      "Puerto Rico    78\n",
      "Guam            1\n",
      "Name: state, dtype: int64\n",
      "------------\n",
      "noHealthInsurance\n",
      "Puerto Rico    78\n",
      "Guam            1\n",
      "Name: state, dtype: int64\n",
      "------------\n",
      "noHighSchool\n",
      "Puerto Rico    78\n",
      "Guam            1\n",
      "Name: state, dtype: int64\n",
      "------------\n",
      "Poverty\n",
      "Puerto Rico    78\n",
      "Guam            1\n",
      "Name: state, dtype: int64\n",
      "------------\n",
      "logPopDensity\n",
      "Puerto Rico     78\n",
      "Alaska          26\n",
      "Texas            1\n",
      "Guam             1\n",
      "South Dakota     1\n",
      "Name: state, dtype: int64\n",
      "------------\n",
      "PercentEduHealthSoc\n",
      "Puerto Rico    78\n",
      "Guam            1\n",
      "Name: state, dtype: int64\n",
      "------------\n",
      "SES\n",
      "Puerto Rico    78\n",
      "Guam            1\n",
      "New Mexico      1\n",
      "Name: state, dtype: int64\n",
      "------------\n",
      "Household\n",
      "Puerto Rico    78\n",
      "Guam            1\n",
      "Name: state, dtype: int64\n",
      "------------\n",
      "HousingType\n",
      "Puerto Rico    78\n",
      "Guam            1\n",
      "Name: state, dtype: int64\n",
      "------------\n",
      "Asthma\n",
      "Puerto Rico    78\n",
      "Guam            1\n",
      "Name: state, dtype: int64\n",
      "------------\n",
      "Cancer\n",
      "Puerto Rico    78\n",
      "Guam            1\n",
      "Name: state, dtype: int64\n",
      "------------\n",
      "WBSeg\n",
      "Puerto Rico    78\n",
      "Guam            1\n",
      "Name: state, dtype: int64\n",
      "------------\n",
      "WNWSeg\n",
      "Puerto Rico    78\n",
      "Guam            1\n",
      "Name: state, dtype: int64\n",
      "------------\n",
      "anycondition_prevalence\n",
      "Puerto Rico    78\n",
      "Guam            1\n",
      "Name: state, dtype: int64\n",
      "------------\n",
      "Obesity_prevalence\n",
      "Puerto Rico    78\n",
      "Guam            1\n",
      "Name: state, dtype: int64\n",
      "------------\n",
      "Heart disease_prevalence\n",
      "Puerto Rico    78\n",
      "Guam            1\n",
      "Name: state, dtype: int64\n",
      "------------\n",
      "COPD_prevalence\n",
      "Puerto Rico    78\n",
      "Guam            1\n",
      "Name: state, dtype: int64\n",
      "------------\n",
      "diabetes_prevalence\n",
      "Puerto Rico    78\n",
      "Guam            1\n",
      "Name: state, dtype: int64\n",
      "------------\n",
      "CKD_prevalence\n",
      "Puerto Rico    78\n",
      "Guam            1\n",
      "Name: state, dtype: int64\n",
      "------------\n",
      "Urban_rural_code\n",
      "Puerto Rico    78\n",
      "Guam            1\n",
      "Name: state, dtype: int64\n",
      "------------\n"
     ]
    }
   ],
   "source": [
    "for col in df.columns:\n",
    "    print(col)\n",
    "    print(df[df[col].isnull()]['state'].value_counts())\n",
    "    print('------------')"
   ]
  },
  {
   "cell_type": "markdown",
   "metadata": {},
   "source": [
    "## Exclude `Puerto Rico` , `Guam`, `Alaska?`"
   ]
  },
  {
   "cell_type": "code",
   "execution_count": 33,
   "metadata": {},
   "outputs": [],
   "source": [
    "df = df.drop(df.loc[df['state'] == 'Puerto Rico'].index)\n",
    "df = df.drop(df.loc[df['state'] == 'Guam'].index) #, inplace = True)"
   ]
  },
  {
   "cell_type": "markdown",
   "metadata": {},
   "source": [
    "## inital final data saved in:"
   ]
  },
  {
   "cell_type": "code",
   "execution_count": 34,
   "metadata": {},
   "outputs": [],
   "source": [
    "df.to_csv('../data/data_after_final_merging.csv', index = False)"
   ]
  }
 ],
 "metadata": {
  "kernelspec": {
   "display_name": "Python 3",
   "language": "python",
   "name": "python3"
  },
  "language_info": {
   "codemirror_mode": {
    "name": "ipython",
    "version": 3
   },
   "file_extension": ".py",
   "mimetype": "text/x-python",
   "name": "python",
   "nbconvert_exporter": "python",
   "pygments_lexer": "ipython3",
   "version": "3.6.9"
  }
 },
 "nbformat": 4,
 "nbformat_minor": 2
}
