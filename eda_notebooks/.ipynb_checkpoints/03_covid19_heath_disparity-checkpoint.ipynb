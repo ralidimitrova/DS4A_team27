{
 "cells": [
  {
   "cell_type": "markdown",
   "metadata": {},
   "source": [
    "# Covid19 Heath Disparity:\n",
    "\n",
    "\n",
    "- `data` from [Li et al. (2021). Identifying US County-level characteristics associated with high COVID-19 burden](https://bmcpublichealth.biomedcentral.com/articles/10.1186/s12889-021-11060-9) -  [github](https://github.com/lin-lab/COVID-Health-Disparities/blob/main/Data/covariates.csv)\n",
    "\n",
    "### From paper:\n",
    "\n",
    "We obtained demographic, socioeconomic and comorbidity data from a COVID-19 GitHub repository that drew from the US Department of Agriculture, Area Health Resources Files, County Health Rankings and Roadmaps, Centers for Disease Control and Prevention, and Kaiser News Health [24]. We obtained COVID-19 county cases and deaths from 1/22/20–12/21/20 from USA Facts [25] and additional demographic data from the US Census Bureau [26]. USA Facts is a non-profit organization providing data about government tax revenues, expenditures, and outcomes [25]. Area Health Resources Files is a part of the federal government’s Health Resources & Services administrations that includes data on population characteristics, economics, hospital utilization, and more [27]. County Health Rankings & Roadmaps is a collaboration between the Robert Wood Johnson Foundation and University of Wisconsin that provides local community health data [28]. All data used in analyses are publicly available and can be found on our lab GitHub page (https://github.com/lin-lab/COVID-Health-Disparities).\n",
    "\n",
    "County-level cumulative and weekly COVID-19 cases and deaths as of 12/21/20 were directly obtained from USA Facts [29]. USA Facts aggregates data from the Centers of Disease Control and state and local public health agencies. County-level data were confirmed by referencing state and local agencies.\n",
    "\n",
    "Demographic variables were obtained from the US Census Bureau and US Department of Agriculture and included county percentage ages 20–29 years, percentage ages 60+ years, percentage male, and metro/nonmetro status classification. US Department of Agriculture rural-urban continuum codes were grouped into three categories for the metro/nonmetro categorical variable: metro, population ≥ 1 million (code 1); metro or near metro, population 20,000 to 1 million (codes 2–4); nonmetro, population < 20,000 (codes 5–9) [30].\n",
    "\n",
    "`County-level population distribution by race/ethnicity, including Black/African American, Hispanic/Latino, American Indian/Native Alaskan, Asian, Native Hawaiian/Pacific Islander proportions, were directly obtained from 2019 US Census Bureau estimates [26]. County residential racial segregation indices of dissimilarity were obtained from County Health Rankings & Roadmaps [31]. These indices were originally calculated from data from US Census tracts from the American Community Survey 2014–2018. Counties with less than 100 Black/non-white residents had the index of dissimilarity set to be equal to 1.`\n",
    "\n",
    "- White Black Segregation Index 2014-2018 County Health Rankings & Roadmaps\n",
    "- White non-White Segregation Index 2014-2018 County Health Rankings & Roadmaps\n",
    "\n",
    "`Socioeconomic variables were obtained from Area Health Resource Files [27] and included average household size, percentage of individuals between 18 and 64 years old without health insurance, percentage in poverty, percentage of people aged > 25 years without a high school diploma, and percentage of people working in education/health care/social assistance.`\n",
    "\n",
    "*Socioeconomic*\n",
    "- Average Household Size 2010 Area Health Resources Files\n",
    "- No Health Insurance, 18-64 years(%) 2017 Area Health Resources Files\n",
    "- Poverty (%) 2017 Area Health Resources Files\n",
    "- No High School Diploma, 25+ years (%) 2013-17 Area Health Resources Files\n",
    "- Education, Health Care, Social Assistance Workers (%) 2013-17 Area Health Resources Files\n",
    "\n",
    "`Prevalence rates for several comorbidities were obtained from County Health Rankings & Roadmap [28]. Comorbidities included county-level percentages for: smoking, obesity, asthma, cancer, chronic obstructive pulmonary disease, diabetes, heart failure, hypertension, kidney disease, and stroke. Kaiser News provided total intensive care unit beds and nursing home beds.` But health data from 2017.\n",
    "\n",
    "\n",
    "*Health*\n",
    "- Smokers (%) 2017 County Health Rankings & Roadmaps\n",
    "- Obesity (%) 2017 County Health Rankings & Roadmaps\n",
    "- Asthma (%) 2017 County Health Rankings & Roadmaps\n",
    "- Cancer (%) 2017 County Health Rankings & Roadmaps\n",
    "- COPD (%) 2017 County Health Rankings & Roadmaps\n",
    "- Diabetes (%) 2017 County Health Rankings & Roadmaps\n",
    "- Heart Failure (%) 2017 County Health Rankings & Roadmaps\n",
    "- Hypertension (%) 2017 County Health Rankings & Roadmaps\n",
    "- Kidney Disease (%) 2017 County Health Rankings & Roadmaps\n",
    "- Stroke (%) 2017 County Health Rankings & Roadmaps\n",
    "- ICU Beds 2017 log(x+1) Kaiser Health News\n",
    "- Nursing Home Beds 2017 log(x+1) Kaiser Health News\n",
    "\n",
    "\n",
    "Log transformations were applied to heavily skewed variables. Additional covariate information is available in Additional Table 1.\n",
    "\n",
    "\n",
    "\n",
    "\n",
    "## Interesting variables to include:\n",
    "\n",
    "- `PopDensity`, `RuralCont`, `EconArea`\n",
    "- `HouseholdSize` , `noHealthInsurance`, `Poverty`, `noHighSchool`, `PercentEduHealthSoc`\n",
    "- `SES`, `Household`, `HousingType`,\n",
    "- `Smoking`, `Obesity`, `Asthma`, `Cancer`, `COPD`, `Diabetes`, `Stroke`, `HF`, `HTN`, `KD`\n",
    "- `WBSeg`,  `WNWSeg`                 \n",
    "\n"
   ]
  },
  {
   "cell_type": "code",
   "execution_count": 1,
   "metadata": {},
   "outputs": [],
   "source": [
    "import pandas as pd\n",
    "import numpy as np\n",
    "import matplotlib.pyplot as plt\n"
   ]
  },
  {
   "cell_type": "code",
   "execution_count": 10,
   "metadata": {},
   "outputs": [
    {
     "data": {
      "text/plain": [
       "0       0.3741\n",
       "1       0.3359\n",
       "2       0.9889\n",
       "3       0.7189\n",
       "4       0.1741\n",
       "         ...  \n",
       "3137    0.4120\n",
       "3138    0.6266\n",
       "3139    0.6657\n",
       "3140    0.2751\n",
       "3141    0.6581\n",
       "Name: HousingType, Length: 3142, dtype: float64"
      ]
     },
     "execution_count": 10,
     "metadata": {},
     "output_type": "execute_result"
    }
   ],
   "source": [
    "data['HousingType']"
   ]
  },
  {
   "cell_type": "code",
   "execution_count": 3,
   "metadata": {},
   "outputs": [
    {
     "name": "stdout",
     "output_type": "stream",
     "text": [
      "<class 'pandas.core.frame.DataFrame'>\n",
      "RangeIndex: 3142 entries, 0 to 3141\n",
      "Data columns (total 51 columns):\n",
      "fips                       3142 non-null int64\n",
      "state                      3142 non-null object\n",
      "county                     3142 non-null object\n",
      "stateName                  3142 non-null object\n",
      "CountyNamew.StateAbbrev    3113 non-null object\n",
      "CensusRegionName           3142 non-null object\n",
      "CensusDivisionName         3113 non-null object\n",
      "tot_deaths                 3142 non-null int64\n",
      "tot_cases                  3142 non-null int64\n",
      "rate_cases                 3142 non-null float64\n",
      "rate_deaths                3142 non-null float64\n",
      "PopSize                    3142 non-null int64\n",
      "PopDensity                 3113 non-null float64\n",
      "logPopDensity              3113 non-null float64\n",
      "Pop2029                    3142 non-null float64\n",
      "Pop6099                    3142 non-null float64\n",
      "Male                       3142 non-null float64\n",
      "logWhite                   3142 non-null float64\n",
      "logBlack                   3142 non-null float64\n",
      "logAsian                   3142 non-null float64\n",
      "logHispanic                3142 non-null float64\n",
      "logAmInd                   3142 non-null float64\n",
      "logNHPI                    3142 non-null float64\n",
      "WBSeg                      3142 non-null float64\n",
      "WNWSeg                     3142 non-null float64\n",
      "RuralCont                  3142 non-null int64\n",
      "EconArea                   3113 non-null float64\n",
      "State                      3142 non-null object\n",
      "CountyI                    3142 non-null int64\n",
      "HouseholdSize              3142 non-null float64\n",
      "noHealthInsurance          3142 non-null float64\n",
      "Poverty                    3142 non-null float64\n",
      "noHighSchool               3142 non-null float64\n",
      "PercentEduHealthSoc        3142 non-null float64\n",
      "SES                        3142 non-null float64\n",
      "Household                  3142 non-null float64\n",
      "Minority                   3142 non-null float64\n",
      "HousingType                3142 non-null float64\n",
      "SVI                        3142 non-null float64\n",
      "Smoking                    3142 non-null float64\n",
      "Obesity                    3142 non-null float64\n",
      "Asthma                     3142 non-null float64\n",
      "Cancer                     3142 non-null float64\n",
      "COPD                       3142 non-null float64\n",
      "Diabetes                   3142 non-null float64\n",
      "HF                         3142 non-null float64\n",
      "HTN                        3142 non-null float64\n",
      "KD                         3142 non-null float64\n",
      "Stroke                     3142 non-null float64\n",
      "NursingHomeBeds            3142 non-null float64\n",
      "ICUBeds                    3142 non-null float64\n",
      "dtypes: float64(38), int64(6), object(7)\n",
      "memory usage: 1.2+ MB\n"
     ]
    }
   ],
   "source": [
    "data = pd.read_csv('../data/raw/covid19_health_disparities.csv')\n",
    "\n",
    "data.info()"
   ]
  },
  {
   "cell_type": "code",
   "execution_count": 6,
   "metadata": {},
   "outputs": [
    {
     "data": {
      "text/plain": [
       "(3142, 51)"
      ]
     },
     "execution_count": 6,
     "metadata": {},
     "output_type": "execute_result"
    }
   ],
   "source": [
    "#data.isnull().sum()\n",
    "data.shape"
   ]
  },
  {
   "cell_type": "code",
   "execution_count": 11,
   "metadata": {},
   "outputs": [],
   "source": [
    "disp = data[['fips','PopDensity', 'Male', 'RuralCont' ,'EconArea','HouseholdSize','noHealthInsurance',\n",
    "            'PercentEduHealthSoc', 'SES', 'Household' , 'HousingType', 'Asthma', 'Cancer', 'COPD',\n",
    "            'Stroke', 'HF', 'HTN', 'KD', 'WBSeg', 'WNWSeg']]"
   ]
  },
  {
   "cell_type": "code",
   "execution_count": 13,
   "metadata": {},
   "outputs": [],
   "source": [
    "disp.to_csv('../data/clean/covid19_heath_disparity.csv', index = False)"
   ]
  }
 ],
 "metadata": {
  "kernelspec": {
   "display_name": "Python 3",
   "language": "python",
   "name": "python3"
  },
  "language_info": {
   "codemirror_mode": {
    "name": "ipython",
    "version": 3
   },
   "file_extension": ".py",
   "mimetype": "text/x-python",
   "name": "python",
   "nbconvert_exporter": "python",
   "pygments_lexer": "ipython3",
   "version": "3.6.9"
  }
 },
 "nbformat": 4,
 "nbformat_minor": 2
}
