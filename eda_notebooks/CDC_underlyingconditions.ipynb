{
 "cells": [
  {
   "cell_type": "code",
   "execution_count": 4,
   "id": "1a494867",
   "metadata": {},
   "outputs": [],
   "source": [
    "\n",
    "## Estimated County-Level Prevalence of Selected Underlying Medical Conditions Associated with Increased Risk for Severe COVID-19 Illness — United States, 2018\n",
    "\n",
    "\n",
    "Underlying medical conditions important in COVID, as explored in https://www.cdc.gov/mmwr/volumes/69/wr/mm6929a1.htm?s_cid=mm6929a1_w\n",
    "\n",
    "Older adults and those with chronic obstructive pulmonary disease, heart disease, diabetes, chronic kidney disease, and obesity are at higher risk for severe COVID-19–associated illness.\n",
    "The median model-based estimate of the prevalence of any of five underlying medical conditions associated with increased risk for severe COVID-19–associated illness among U.S. adults was 47.2% among 3,142 U.S. counties. The estimated number of persons with these conditions followed population distributions, but prevalence was higher in more rural counties.\n",
    "\n",
    "The findings can help local decision-makers identify areas at higher risk for severe COVID-19 illness in their jurisdictions and guide resource allocation and implementation of community mitigation strategies.\n",
    "\n",
    "\n",
    "data source: https://stacks.cdc.gov/view/cdc/90519\n",
    "There are no missing fields per county. \n",
    "\n",
    "        \n",
    "glossary: \n",
    "COPD\tChronic obstructive pulmonary disorder\n",
    "CKD\tChronic kidney disease\n",
    "STAB\t?state abbreviation? - uncertain\n",
    "CI\tConfidence interval\n",
    "\n",
    "data:\n",
    "\n",
    "COUNTY_NAME\n",
    "STATE_NAME\n",
    "STATE_FIPS\n",
    "CNTY_FIPS\n",
    "FIPS\n",
    "county_pop2018_18 and older\n",
    "anycondition_prevalence\n",
    "anycondition_Lower 95% CI\n",
    "anycondition_Upper 95% CI\n",
    "anycondition_number\n",
    "Obesity_prevalence\n",
    "Obesity_Lower 95% CI\n",
    "Obesity_Upper 95% CI\n",
    "Obesity_number\n",
    "Heart disease_prevalence\n",
    "Heart disease_Lower 95% CI\n",
    "Heart disease_Upper 95% CI\n",
    "Heart disease_number\n",
    "COPD_prevalence\n",
    "COPD_Lower 95% CI\n",
    "COPD_Upper 95% CI\n",
    "COPD_number\n",
    "diabetes_prevalence\n",
    "diabetes_Lower 95% CI\n",
    "diabetes_Upper 95% CI\n",
    "diabetes_number\n",
    "CKD_prevalence\n",
    "CKD_Lower 95% CI\n",
    "CKD_Upper 95% CI\n",
    "CKD_number\n",
    "Urban_rural_code\n",
    "STAB"
   ]
  },
  {
   "cell_type": "code",
   "execution_count": 9,
   "id": "c475628b",
   "metadata": {},
   "outputs": [],
   "source": [
    "import numpy                 as np\n",
    "import pandas                as pd\n",
    "import matplotlib.pyplot     as plt\n",
    "import seaborn               as sns\n",
    "import folium  #needed for interactive map\n",
    "from folium.plugins import HeatMap\n",
    "%matplotlib inline\n",
    "sns.set()"
   ]
  },
  {
   "cell_type": "code",
   "execution_count": 10,
   "id": "26259831",
   "metadata": {},
   "outputs": [
    {
     "name": "stdout",
     "output_type": "stream",
     "text": [
      "(3142, 32)\n"
     ]
    }
   ],
   "source": [
    "health=pd.read_csv('CDC_underlyingconditions/cdc_90519_DS1.csv', delimiter=',')\n",
    "\n",
    "print(health.shape)\n"
   ]
  },
  {
   "cell_type": "code",
   "execution_count": null,
   "id": "d9ea5404",
   "metadata": {},
   "outputs": [],
   "source": []
  },
  {
   "cell_type": "code",
   "execution_count": 6,
   "id": "da742109",
   "metadata": {},
   "outputs": [
    {
     "data": {
      "text/html": [
       "<div>\n",
       "<style scoped>\n",
       "    .dataframe tbody tr th:only-of-type {\n",
       "        vertical-align: middle;\n",
       "    }\n",
       "\n",
       "    .dataframe tbody tr th {\n",
       "        vertical-align: top;\n",
       "    }\n",
       "\n",
       "    .dataframe thead th {\n",
       "        text-align: right;\n",
       "    }\n",
       "</style>\n",
       "<table border=\"1\" class=\"dataframe\">\n",
       "  <thead>\n",
       "    <tr style=\"text-align: right;\">\n",
       "      <th></th>\n",
       "      <th>COUNTY_NAME</th>\n",
       "      <th>STATE_NAME</th>\n",
       "      <th>STATE_FIPS</th>\n",
       "      <th>CNTY_FIPS</th>\n",
       "      <th>FIPS</th>\n",
       "      <th>county_pop2018_18 and older</th>\n",
       "      <th>anycondition_prevalence</th>\n",
       "      <th>anycondition_Lower 95% CI</th>\n",
       "      <th>anycondition_Upper 95% CI</th>\n",
       "      <th>anycondition_number</th>\n",
       "      <th>Obesity_prevalence</th>\n",
       "      <th>Obesity_Lower 95% CI</th>\n",
       "      <th>Obesity_Upper 95% CI</th>\n",
       "      <th>Obesity_number</th>\n",
       "      <th>Heart disease_prevalence</th>\n",
       "      <th>Heart disease_Lower 95% CI</th>\n",
       "      <th>Heart disease_Upper 95% CI</th>\n",
       "      <th>Heart disease_number</th>\n",
       "      <th>COPD_prevalence</th>\n",
       "      <th>COPD_Lower 95% CI</th>\n",
       "      <th>COPD_Upper 95% CI</th>\n",
       "      <th>COPD_number</th>\n",
       "      <th>diabetes_prevalence</th>\n",
       "      <th>diabetes_Lower 95% CI</th>\n",
       "      <th>diabetes_Upper 95% CI</th>\n",
       "      <th>diabetes_number</th>\n",
       "      <th>CKD_prevalence</th>\n",
       "      <th>CKD_Lower 95% CI</th>\n",
       "      <th>CKD_Upper 95% CI</th>\n",
       "      <th>CKD_number</th>\n",
       "      <th>Urban_rural_code</th>\n",
       "      <th>STAB</th>\n",
       "    </tr>\n",
       "  </thead>\n",
       "  <tbody>\n",
       "    <tr>\n",
       "      <th>0</th>\n",
       "      <td>Autauga</td>\n",
       "      <td>Alabama</td>\n",
       "      <td>1</td>\n",
       "      <td>1</td>\n",
       "      <td>1001</td>\n",
       "      <td>42438</td>\n",
       "      <td>47.6</td>\n",
       "      <td>45.4</td>\n",
       "      <td>49.4</td>\n",
       "      <td>20181</td>\n",
       "      <td>35.8</td>\n",
       "      <td>34.2</td>\n",
       "      <td>37.3</td>\n",
       "      <td>15193</td>\n",
       "      <td>7.9</td>\n",
       "      <td>7.2</td>\n",
       "      <td>8.7</td>\n",
       "      <td>3345</td>\n",
       "      <td>8.6</td>\n",
       "      <td>7.3</td>\n",
       "      <td>9.9</td>\n",
       "      <td>3644</td>\n",
       "      <td>12.9</td>\n",
       "      <td>11.9</td>\n",
       "      <td>13.8</td>\n",
       "      <td>5462</td>\n",
       "      <td>3.1</td>\n",
       "      <td>2.9</td>\n",
       "      <td>3.3</td>\n",
       "      <td>1326</td>\n",
       "      <td>3</td>\n",
       "      <td>AL</td>\n",
       "    </tr>\n",
       "    <tr>\n",
       "      <th>1</th>\n",
       "      <td>Baldwin</td>\n",
       "      <td>Alabama</td>\n",
       "      <td>1</td>\n",
       "      <td>3</td>\n",
       "      <td>1003</td>\n",
       "      <td>170912</td>\n",
       "      <td>40.2</td>\n",
       "      <td>38.2</td>\n",
       "      <td>42.3</td>\n",
       "      <td>68790</td>\n",
       "      <td>29.7</td>\n",
       "      <td>28.4</td>\n",
       "      <td>31.0</td>\n",
       "      <td>50761</td>\n",
       "      <td>7.8</td>\n",
       "      <td>7.0</td>\n",
       "      <td>8.7</td>\n",
       "      <td>13414</td>\n",
       "      <td>8.6</td>\n",
       "      <td>7.2</td>\n",
       "      <td>10.1</td>\n",
       "      <td>14692</td>\n",
       "      <td>12.0</td>\n",
       "      <td>11.0</td>\n",
       "      <td>13.1</td>\n",
       "      <td>20520</td>\n",
       "      <td>3.2</td>\n",
       "      <td>3.0</td>\n",
       "      <td>3.5</td>\n",
       "      <td>5479</td>\n",
       "      <td>4</td>\n",
       "      <td>AL</td>\n",
       "    </tr>\n",
       "    <tr>\n",
       "      <th>2</th>\n",
       "      <td>Barbour</td>\n",
       "      <td>Alabama</td>\n",
       "      <td>1</td>\n",
       "      <td>5</td>\n",
       "      <td>1005</td>\n",
       "      <td>19689</td>\n",
       "      <td>57.5</td>\n",
       "      <td>55.6</td>\n",
       "      <td>59.1</td>\n",
       "      <td>11325</td>\n",
       "      <td>40.7</td>\n",
       "      <td>39.5</td>\n",
       "      <td>41.9</td>\n",
       "      <td>8013</td>\n",
       "      <td>11.0</td>\n",
       "      <td>10.1</td>\n",
       "      <td>11.8</td>\n",
       "      <td>2159</td>\n",
       "      <td>12.1</td>\n",
       "      <td>10.7</td>\n",
       "      <td>13.3</td>\n",
       "      <td>2373</td>\n",
       "      <td>19.7</td>\n",
       "      <td>18.6</td>\n",
       "      <td>20.6</td>\n",
       "      <td>3870</td>\n",
       "      <td>4.5</td>\n",
       "      <td>4.2</td>\n",
       "      <td>4.8</td>\n",
       "      <td>887</td>\n",
       "      <td>6</td>\n",
       "      <td>AL</td>\n",
       "    </tr>\n",
       "  </tbody>\n",
       "</table>\n",
       "</div>"
      ],
      "text/plain": [
       "  COUNTY_NAME STATE_NAME  STATE_FIPS  CNTY_FIPS  FIPS  \\\n",
       "0     Autauga    Alabama           1          1  1001   \n",
       "1     Baldwin    Alabama           1          3  1003   \n",
       "2     Barbour    Alabama           1          5  1005   \n",
       "\n",
       "   county_pop2018_18 and older  anycondition_prevalence  \\\n",
       "0                        42438                     47.6   \n",
       "1                       170912                     40.2   \n",
       "2                        19689                     57.5   \n",
       "\n",
       "   anycondition_Lower 95% CI  anycondition_Upper 95% CI  anycondition_number  \\\n",
       "0                       45.4                       49.4                20181   \n",
       "1                       38.2                       42.3                68790   \n",
       "2                       55.6                       59.1                11325   \n",
       "\n",
       "   Obesity_prevalence  Obesity_Lower 95% CI  Obesity_Upper 95% CI  \\\n",
       "0                35.8                  34.2                  37.3   \n",
       "1                29.7                  28.4                  31.0   \n",
       "2                40.7                  39.5                  41.9   \n",
       "\n",
       "   Obesity_number  Heart disease_prevalence  Heart disease_Lower 95% CI  \\\n",
       "0           15193                       7.9                         7.2   \n",
       "1           50761                       7.8                         7.0   \n",
       "2            8013                      11.0                        10.1   \n",
       "\n",
       "   Heart disease_Upper 95% CI  Heart disease_number  COPD_prevalence  \\\n",
       "0                         8.7                  3345              8.6   \n",
       "1                         8.7                 13414              8.6   \n",
       "2                        11.8                  2159             12.1   \n",
       "\n",
       "   COPD_Lower 95% CI  COPD_Upper 95% CI  COPD_number  diabetes_prevalence  \\\n",
       "0                7.3                9.9         3644                 12.9   \n",
       "1                7.2               10.1        14692                 12.0   \n",
       "2               10.7               13.3         2373                 19.7   \n",
       "\n",
       "   diabetes_Lower 95% CI  diabetes_Upper 95% CI  diabetes_number  \\\n",
       "0                   11.9                   13.8             5462   \n",
       "1                   11.0                   13.1            20520   \n",
       "2                   18.6                   20.6             3870   \n",
       "\n",
       "   CKD_prevalence  CKD_Lower 95% CI  CKD_Upper 95% CI  CKD_number  \\\n",
       "0             3.1               2.9               3.3        1326   \n",
       "1             3.2               3.0               3.5        5479   \n",
       "2             4.5               4.2               4.8         887   \n",
       "\n",
       "   Urban_rural_code STAB  \n",
       "0                 3   AL  \n",
       "1                 4   AL  \n",
       "2                 6   AL  "
      ]
     },
     "execution_count": 6,
     "metadata": {},
     "output_type": "execute_result"
    }
   ],
   "source": [
    "pd.options.display.max_columns = 100\n",
    "health.head(3)"
   ]
  },
  {
   "cell_type": "code",
   "execution_count": 28,
   "id": "3f188000",
   "metadata": {},
   "outputs": [
    {
     "data": {
      "text/plain": [
       "CNTY_FIPS                   0\n",
       "anycondition_prevalence     0\n",
       "Obesity_prevalence          0\n",
       "Heart disease_prevalence    0\n",
       "COPD_prevalence             0\n",
       "diabetes_prevalence         0\n",
       "CKD_prevalence              0\n",
       "dtype: int64"
      ]
     },
     "execution_count": 28,
     "metadata": {},
     "output_type": "execute_result"
    }
   ],
   "source": [
    "health[['CNTY_FIPS', 'anycondition_prevalence', 'Obesity_prevalence', 'Heart disease_prevalence', 'COPD_prevalence', 'diabetes_prevalence', 'CKD_prevalence']].isna().sum()"
   ]
  },
  {
   "cell_type": "code",
   "execution_count": 38,
   "id": "be981b2a",
   "metadata": {},
   "outputs": [
    {
     "data": {
      "text/plain": [
       "COUNTY_NAME                    0\n",
       "STATE_NAME                     0\n",
       "STATE_FIPS                     0\n",
       "CNTY_FIPS                      0\n",
       "FIPS                           0\n",
       "county_pop2018_18 and older    0\n",
       "anycondition_prevalence        0\n",
       "anycondition_Lower 95% CI      0\n",
       "anycondition_Upper 95% CI      0\n",
       "anycondition_number            0\n",
       "Obesity_prevalence             0\n",
       "Obesity_Lower 95% CI           0\n",
       "Obesity_Upper 95% CI           0\n",
       "Obesity_number                 0\n",
       "Heart disease_prevalence       0\n",
       "Heart disease_Lower 95% CI     0\n",
       "Heart disease_Upper 95% CI     0\n",
       "Heart disease_number           0\n",
       "COPD_prevalence                0\n",
       "COPD_Lower 95% CI              0\n",
       "COPD_Upper 95% CI              0\n",
       "COPD_number                    0\n",
       "diabetes_prevalence            0\n",
       "diabetes_Lower 95% CI          0\n",
       "diabetes_Upper 95% CI          0\n",
       "diabetes_number                0\n",
       "CKD_prevalence                 0\n",
       "CKD_Lower 95% CI               0\n",
       "CKD_Upper 95% CI               0\n",
       "CKD_number                     0\n",
       "Urban_rural_code               0\n",
       "STAB                           0\n",
       "dtype: int64"
      ]
     },
     "execution_count": 38,
     "metadata": {},
     "output_type": "execute_result"
    }
   ],
   "source": [
    "health.isna().sum()"
   ]
  },
  {
   "cell_type": "code",
   "execution_count": 16,
   "id": "c8027887",
   "metadata": {},
   "outputs": [
    {
     "data": {
      "text/plain": [
       "<bound method NDFrame.describe of       anycondition_prevalence\n",
       "0                        47.6\n",
       "1                        40.2\n",
       "2                        57.5\n",
       "3                        51.6\n",
       "4                        46.3\n",
       "...                       ...\n",
       "3137                     40.3\n",
       "3138                     24.3\n",
       "3139                     42.2\n",
       "3140                     37.5\n",
       "3141                     46.0\n",
       "\n",
       "[3142 rows x 1 columns]>"
      ]
     },
     "execution_count": 16,
     "metadata": {},
     "output_type": "execute_result"
    }
   ],
   "source": [
    "health[['anycondition_prevalence']].describe"
   ]
  },
  {
   "cell_type": "code",
   "execution_count": 36,
   "id": "cf4d5f86",
   "metadata": {},
   "outputs": [
    {
     "data": {
      "text/plain": [
       "anycondition_prevalence     46.790070\n",
       "Obesity_prevalence          35.016232\n",
       "Heart disease_prevalence     8.606365\n",
       "COPD_prevalence              9.093316\n",
       "diabetes_prevalence         13.072502\n",
       "CKD_prevalence               3.445799\n",
       "dtype: float64"
      ]
     },
     "execution_count": 36,
     "metadata": {},
     "output_type": "execute_result"
    }
   ],
   "source": [
    "health[['anycondition_prevalence', 'Obesity_prevalence', 'Heart disease_prevalence', 'COPD_prevalence', 'diabetes_prevalence', 'CKD_prevalence']].mean()"
   ]
  },
  {
   "cell_type": "code",
   "execution_count": 21,
   "id": "f9ec381d",
   "metadata": {},
   "outputs": [
    {
     "name": "stderr",
     "output_type": "stream",
     "text": [
      "/Users/Tanya/anaconda3/lib/python3.7/site-packages/seaborn/_decorators.py:43: FutureWarning: Pass the following variable as a keyword arg: x. From version 0.12, the only valid positional argument will be `data`, and passing other arguments without an explicit keyword will result in an error or misinterpretation.\n",
      "  FutureWarning\n",
      "/Users/Tanya/anaconda3/lib/python3.7/site-packages/seaborn/_decorators.py:43: FutureWarning: Pass the following variable as a keyword arg: x. From version 0.12, the only valid positional argument will be `data`, and passing other arguments without an explicit keyword will result in an error or misinterpretation.\n",
      "  FutureWarning\n",
      "/Users/Tanya/anaconda3/lib/python3.7/site-packages/seaborn/_decorators.py:43: FutureWarning: Pass the following variable as a keyword arg: x. From version 0.12, the only valid positional argument will be `data`, and passing other arguments without an explicit keyword will result in an error or misinterpretation.\n",
      "  FutureWarning\n",
      "/Users/Tanya/anaconda3/lib/python3.7/site-packages/seaborn/_decorators.py:43: FutureWarning: Pass the following variable as a keyword arg: x. From version 0.12, the only valid positional argument will be `data`, and passing other arguments without an explicit keyword will result in an error or misinterpretation.\n",
      "  FutureWarning\n",
      "/Users/Tanya/anaconda3/lib/python3.7/site-packages/seaborn/_decorators.py:43: FutureWarning: Pass the following variable as a keyword arg: x. From version 0.12, the only valid positional argument will be `data`, and passing other arguments without an explicit keyword will result in an error or misinterpretation.\n",
      "  FutureWarning\n",
      "/Users/Tanya/anaconda3/lib/python3.7/site-packages/seaborn/_decorators.py:43: FutureWarning: Pass the following variable as a keyword arg: x. From version 0.12, the only valid positional argument will be `data`, and passing other arguments without an explicit keyword will result in an error or misinterpretation.\n",
      "  FutureWarning\n",
      "/Users/Tanya/anaconda3/lib/python3.7/site-packages/ipykernel_launcher.py:8: UserWarning: Tight layout not applied. tight_layout cannot make axes height small enough to accommodate all axes decorations\n",
      "  \n"
     ]
    },
    {
     "data": {
      "image/png": "[encoded data removed]",
      "text/plain": [
       "<Figure size 432x288 with 6 Axes>"
      ]
     },
     "metadata": {},
     "output_type": "display_data"
    }
   ],
   "source": [
    "fig, axs = plt.subplots(nrows=6)\n",
    "sns.boxplot('anycondition_prevalence', data=health, ax=axs[0])\n",
    "sns.boxplot('Obesity_prevalence', data=health, ax=axs[1])\n",
    "sns.boxplot('Heart disease_prevalence', data=health, ax=axs[2])\n",
    "sns.boxplot('COPD_prevalence', data=health, ax=axs[3])\n",
    "sns.boxplot('diabetes_prevalence', data=health, ax=axs[4])\n",
    "sns.boxplot('CKD_prevalence', data=health, ax=axs[5])\n",
    "plt.tight_layout()"
   ]
  },
  {
   "cell_type": "code",
   "execution_count": 28,
   "id": "7727fd01",
   "metadata": {},
   "outputs": [
    {
     "data": {
      "text/plain": [
       "<matplotlib.legend.Legend at 0x7fcc4c940b38>"
      ]
     },
     "execution_count": 28,
     "metadata": {},
     "output_type": "execute_result"
    },
    {
     "data": {
      "image/png": "[encoded data removed]",
      "text/plain": [
       "<Figure size 432x288 with 1 Axes>"
      ]
     },
     "metadata": {},
     "output_type": "display_data"
    }
   ],
   "source": [
    "plt.figure\n",
    "plt.hist(health['anycondition_prevalence'], bins=50, alpha=0.5, label=\"Any Condition\")\n",
    "plt.xlabel(\"Percentage\", size=14)\n",
    "plt.ylabel(\"Count\", size=14)\n",
    "plt.title(\"Prevalence\")\n",
    "plt.legend(loc='upper right')"
   ]
  },
  {
   "cell_type": "code",
   "execution_count": 30,
   "id": "3e0d854b",
   "metadata": {},
   "outputs": [
    {
     "data": {
      "text/plain": [
       "<matplotlib.legend.Legend at 0x7fcc4d2976d8>"
      ]
     },
     "execution_count": 30,
     "metadata": {},
     "output_type": "execute_result"
    },
    {
     "data": {
      "image/png": "[encoded data removed]",
      "text/plain": [
       "<Figure size 432x288 with 1 Axes>"
      ]
     },
     "metadata": {},
     "output_type": "display_data"
    }
   ],
   "source": [
    "plt.figure\n",
    "plt.hist(health['Obesity_prevalence'], bins=50, alpha=0.5, label=\"Obesity\")\n",
    "plt.hist(health['Heart disease_prevalence'], bins=50, alpha=0.5, label=\"Cardiac\")\n",
    "plt.hist(health['COPD_prevalence'], bins=50, alpha=0.5, label=\"Pulmonary\")\n",
    "plt.hist(health['diabetes_prevalence'], bins=50, alpha=0.5, label=\"Diabetes\")\n",
    "plt.hist(health['CKD_prevalence'], bins=50, alpha=0.5, label=\"CKD\")\n",
    "\n",
    "plt.xlabel(\"Percentage\", size=14)\n",
    "plt.ylabel(\"Count\", size=14)\n",
    "plt.title(\"Prevalence\")\n",
    "plt.legend(loc='upper right')"
   ]
  },
  {
   "cell_type": "code",
   "execution_count": 37,
   "id": "52a6ba3a",
   "metadata": {},
   "outputs": [
    {
     "data": {
      "text/plain": [
       "<matplotlib.legend.Legend at 0x7fcc4d4ef208>"
      ]
     },
     "execution_count": 37,
     "metadata": {},
     "output_type": "execute_result"
    },
    {
     "data": {
      "image/png": "[encoded data removed]",
      "text/plain": [
       "<Figure size 432x288 with 1 Axes>"
      ]
     },
     "metadata": {},
     "output_type": "display_data"
    }
   ],
   "source": [
    "plt.figure\n",
    "plt.hist(health['Heart disease_prevalence'], bins=50, alpha=0.5, label=\"Cardiac\")\n",
    "plt.hist(health['COPD_prevalence'], bins=50, alpha=0.5, label=\"Pulmonary\")\n",
    "plt.hist(health['diabetes_prevalence'], bins=50, alpha=0.5, label=\"Diabetes\")\n",
    "plt.hist(health['CKD_prevalence'], bins=50, alpha=0.5, label=\"CKD\")\n",
    "\n",
    "plt.xlabel(\"Percentage\", size=14)\n",
    "plt.ylabel(\"Count\", size=14)\n",
    "plt.title(\"Prevalence\")\n",
    "plt.legend(loc='upper right')"
   ]
  },
  {
   "cell_type": "code",
   "execution_count": null,
   "id": "c2b2c431",
   "metadata": {},
   "outputs": [],
   "source": []
  }
 ],
 "metadata": {
  "kernelspec": {
   "display_name": "Python 3",
   "language": "python",
   "name": "python3"
  },
  "language_info": {
   "codemirror_mode": {
    "name": "ipython",
    "version": 3
   },
   "file_extension": ".py",
   "mimetype": "text/x-python",
   "name": "python",
   "nbconvert_exporter": "python",
   "pygments_lexer": "ipython3",
   "version": "3.7.3"
  }
 },
 "nbformat": 4,
 "nbformat_minor": 5
}
