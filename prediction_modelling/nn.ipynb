{
 "cells": [
  {
   "cell_type": "markdown",
   "metadata": {},
   "source": [
    "# Predicting vaccination rates in the US\n",
    "\n",
    "\n",
    "## Models used:\n",
    "\n",
    "- `Regularised regression`\n",
    "- `Random Forest regression`\n",
    "- `Gradient Boosted Decision Trees`\n",
    "- `SVM`?\n",
    "- `NN`?\n",
    "\n",
    "\n",
    "### Normalisation:\n",
    "\n",
    "- `Regularised regression`\n",
    "\n"
   ]
  },
  {
   "cell_type": "code",
   "execution_count": 28,
   "metadata": {},
   "outputs": [
    {
     "name": "stdout",
     "output_type": "stream",
     "text": [
      "2.6.0\n"
     ]
    }
   ],
   "source": [
    "import numpy as np\n",
    "import pandas as pd\n",
    "import matplotlib.pyplot as plt\n",
    "import os\n",
    "\n",
    "from sklearn.model_selection import train_test_split\n",
    "from numpy.random import seed\n",
    "seed(1)\n",
    "\n",
    "import tensorflow as tf\n",
    "\n",
    "from tensorflow import keras\n",
    "from tensorflow.keras import layers\n",
    "\n",
    "print(tf.__version__)\n",
    "\n",
    "tf.random.set_seed(1234)"
   ]
  },
  {
   "cell_type": "code",
   "execution_count": 29,
   "metadata": {},
   "outputs": [],
   "source": [
    "base = os.path.split(os.getcwd())[0]\n",
    "dd = base + '/data/'"
   ]
  },
  {
   "cell_type": "code",
   "execution_count": 30,
   "metadata": {},
   "outputs": [],
   "source": [
    "df_all = pd.read_csv(dd + 'data_after_imputation.csv')"
   ]
  },
  {
   "cell_type": "code",
   "execution_count": 31,
   "metadata": {},
   "outputs": [
    {
     "data": {
      "text/plain": [
       "Index(['fips', 'state', 'county', 'state_abb', 'pop_full_12plus_per',\n",
       "       'pop_full_18plus_per', 'pop_full_65plus_per', 'cases_prop',\n",
       "       'death_prop', 'hesitant_unsure', 'SVI', 'SVI_cat', 'CVAC', 'CVAC_cat',\n",
       "       'Hispanic (%)', 'non-Hispanic American Indian/Alaska Native (%)',\n",
       "       'non-Hispanic Asian (%)', 'non-Hispanic Black (%)',\n",
       "       'non-Hispanic Native Hawaiian/Pacific Islander (%)',\n",
       "       'non-Hispanic White (%)', 'noHealthInsurance', 'noHighSchool',\n",
       "       'Poverty', 'logPopDensity', 'Urban_rural_code', 'PrematureDeath',\n",
       "       'Smoking', 'anycondition_prevalence', 'per_dem', 'per_voted', 'Testing',\n",
       "       'Traffic', 'DaytimePopDensity', 'ToxPi Score'],\n",
       "      dtype='object')"
      ]
     },
     "execution_count": 31,
     "metadata": {},
     "output_type": "execute_result"
    }
   ],
   "source": [
    "df_all.columns"
   ]
  },
  {
   "cell_type": "code",
   "execution_count": 32,
   "metadata": {},
   "outputs": [
    {
     "data": {
      "text/plain": [
       "pop_full_12plus_per     55\n",
       "pop_full_18plus_per    266\n",
       "pop_full_65plus_per      8\n",
       "dtype: int64"
      ]
     },
     "execution_count": 32,
     "metadata": {},
     "output_type": "execute_result"
    }
   ],
   "source": [
    "df_all.isnull().sum()[df_all.isnull().sum() > 1]"
   ]
  },
  {
   "cell_type": "markdown",
   "metadata": {},
   "source": [
    "### Drop `NaN` from target:"
   ]
  },
  {
   "cell_type": "code",
   "execution_count": 33,
   "metadata": {},
   "outputs": [],
   "source": [
    "df = df_all[df_all['pop_full_12plus_per'].notna()]"
   ]
  },
  {
   "cell_type": "code",
   "execution_count": 34,
   "metadata": {},
   "outputs": [
    {
     "name": "stdout",
     "output_type": "stream",
     "text": [
      "Index(['fips', 'state', 'county', 'state_abb', 'pop_full_12plus_per',\n",
      "       'pop_full_18plus_per', 'pop_full_65plus_per', 'cases_prop',\n",
      "       'death_prop', 'hesitant_unsure', 'SVI', 'SVI_cat', 'CVAC', 'CVAC_cat',\n",
      "       'Hispanic (%)', 'non-Hispanic American Indian/Alaska Native (%)',\n",
      "       'non-Hispanic Asian (%)', 'non-Hispanic Black (%)',\n",
      "       'non-Hispanic Native Hawaiian/Pacific Islander (%)',\n",
      "       'non-Hispanic White (%)', 'noHealthInsurance', 'noHighSchool',\n",
      "       'Poverty', 'logPopDensity', 'Urban_rural_code', 'PrematureDeath',\n",
      "       'Smoking', 'anycondition_prevalence', 'per_dem', 'per_voted', 'Testing',\n",
      "       'Traffic', 'DaytimePopDensity', 'ToxPi Score'],\n",
      "      dtype='object')\n",
      "34\n"
     ]
    }
   ],
   "source": [
    "print(df.columns)\n",
    "print(len(df.columns))"
   ]
  },
  {
   "cell_type": "code",
   "execution_count": 35,
   "metadata": {},
   "outputs": [],
   "source": [
    "y = df['pop_full_12plus_per']\n",
    "X = df.drop(columns = ['state_abb', \n",
    "                       'pop_full_12plus_per',\n",
    "                       'pop_full_18plus_per', \n",
    "                       'pop_full_65plus_per',\n",
    "                       'SVI_cat', \n",
    "                       'CVAC_cat', \n",
    "                       'Testing', # not static\n",
    "                       'ToxPi Score', # not static\n",
    "                       'logPopDensity', # have DaytimePopDensity\n",
    "                       'PrematureDeath', # have death_prop\n",
    "                       ])"
   ]
  },
  {
   "cell_type": "markdown",
   "metadata": {},
   "source": [
    "## Split data into `train`, `val` and `test` samples.\n",
    "\n",
    "- predict `pop_full_12plus_per` for now."
   ]
  },
  {
   "cell_type": "markdown",
   "metadata": {},
   "source": [
    "#### `y_test` - leave until final model has been picked."
   ]
  },
  {
   "cell_type": "code",
   "execution_count": 36,
   "metadata": {},
   "outputs": [],
   "source": [
    "X_train_val_fips, X_test_fips, y_train_val, y_test = train_test_split(X, y, test_size = 0.2, random_state = 42)"
   ]
  },
  {
   "cell_type": "code",
   "execution_count": 37,
   "metadata": {},
   "outputs": [
    {
     "name": "stdout",
     "output_type": "stream",
     "text": [
      "test data shape: (611,)\n"
     ]
    }
   ],
   "source": [
    "print('test data shape:', y_test.shape)"
   ]
  },
  {
   "cell_type": "code",
   "execution_count": 38,
   "metadata": {},
   "outputs": [],
   "source": [
    "X_train_fips, X_val_fips, y_train, y_val = train_test_split(X_train_val_fips, y_train_val,\n",
    "                                                           test_size = 0.2, random_state = 42)"
   ]
  },
  {
   "cell_type": "code",
   "execution_count": 39,
   "metadata": {},
   "outputs": [
    {
     "name": "stdout",
     "output_type": "stream",
     "text": [
      "train data shape: (1953,)\n",
      "val data shape: (489,)\n"
     ]
    }
   ],
   "source": [
    "print('train data shape:', y_train.shape)\n",
    "print('val data shape:', y_val.shape)"
   ]
  },
  {
   "cell_type": "markdown",
   "metadata": {},
   "source": [
    "#### Drop `fips` for modelling"
   ]
  },
  {
   "cell_type": "code",
   "execution_count": 40,
   "metadata": {},
   "outputs": [],
   "source": [
    "X_test = X_test_fips.drop(columns = ['fips','state', 'county'])\n",
    "X_train = X_train_fips.drop(columns = ['fips','state', 'county'])\n",
    "X_val = X_val_fips.drop(columns = ['fips','state', 'county'])"
   ]
  },
  {
   "cell_type": "code",
   "execution_count": 41,
   "metadata": {},
   "outputs": [
    {
     "data": {
      "text/plain": [
       "(1953, 21)"
      ]
     },
     "execution_count": 41,
     "metadata": {},
     "output_type": "execute_result"
    }
   ],
   "source": [
    "X_train.shape"
   ]
  },
  {
   "cell_type": "code",
   "execution_count": 42,
   "metadata": {},
   "outputs": [
    {
     "name": "stdout",
     "output_type": "stream",
     "text": [
      "Index(['cases_prop', 'death_prop', 'hesitant_unsure', 'SVI', 'CVAC',\n",
      "       'Hispanic (%)', 'non-Hispanic American Indian/Alaska Native (%)',\n",
      "       'non-Hispanic Asian (%)', 'non-Hispanic Black (%)',\n",
      "       'non-Hispanic Native Hawaiian/Pacific Islander (%)',\n",
      "       'non-Hispanic White (%)', 'noHealthInsurance', 'noHighSchool',\n",
      "       'Poverty', 'Urban_rural_code', 'Smoking', 'anycondition_prevalence',\n",
      "       'per_dem', 'per_voted', 'Traffic', 'DaytimePopDensity'],\n",
      "      dtype='object')\n",
      "21\n"
     ]
    }
   ],
   "source": [
    "print(X_train.columns)\n",
    "print(len(X_train.columns))"
   ]
  },
  {
   "cell_type": "code",
   "execution_count": 43,
   "metadata": {},
   "outputs": [],
   "source": [
    "normalizer = tf.keras.layers.experimental.preprocessing.Normalization(axis=-1)\n"
   ]
  },
  {
   "cell_type": "code",
   "execution_count": 44,
   "metadata": {},
   "outputs": [],
   "source": [
    "normalizer.adapt(np.array(X_train))"
   ]
  },
  {
   "cell_type": "code",
   "execution_count": 45,
   "metadata": {},
   "outputs": [],
   "source": [
    "model1 = tf.keras.Sequential([\n",
    "    normalizer,\n",
    "    layers.Dense(256, activation='relu'),\n",
    "    layers.Dropout(0.5),\n",
    "    layers.Dense(128, activation='relu'),\n",
    "    layers.Dropout(0.5),\n",
    "    layers.Dense(64, activation='relu'),\n",
    "    layers.Dropout(0.5),\n",
    "    layers.Dense(32, activation='relu'),\n",
    "    layers.Dense(1)\n",
    "])"
   ]
  },
  {
   "cell_type": "code",
   "execution_count": 46,
   "metadata": {},
   "outputs": [],
   "source": [
    "def build_and_compile_model(model):\n",
    "  model.compile(loss='mean_absolute_error',\n",
    "                optimizer=tf.keras.optimizers.Adam(learning_rate = 0.01))\n",
    "  return model"
   ]
  },
  {
   "cell_type": "code",
   "execution_count": 47,
   "metadata": {},
   "outputs": [
    {
     "name": "stdout",
     "output_type": "stream",
     "text": [
      "Model: \"sequential_2\"\n",
      "_________________________________________________________________\n",
      "Layer (type)                 Output Shape              Param #   \n",
      "=================================================================\n",
      "normalization_1 (Normalizati (None, 21)                43        \n",
      "_________________________________________________________________\n",
      "dense_8 (Dense)              (None, 256)               5632      \n",
      "_________________________________________________________________\n",
      "dropout_3 (Dropout)          (None, 256)               0         \n",
      "_________________________________________________________________\n",
      "dense_9 (Dense)              (None, 128)               32896     \n",
      "_________________________________________________________________\n",
      "dropout_4 (Dropout)          (None, 128)               0         \n",
      "_________________________________________________________________\n",
      "dense_10 (Dense)             (None, 64)                8256      \n",
      "_________________________________________________________________\n",
      "dropout_5 (Dropout)          (None, 64)                0         \n",
      "_________________________________________________________________\n",
      "dense_11 (Dense)             (None, 32)                2080      \n",
      "_________________________________________________________________\n",
      "dense_12 (Dense)             (None, 1)                 33        \n",
      "=================================================================\n",
      "Total params: 48,940\n",
      "Trainable params: 48,897\n",
      "Non-trainable params: 43\n",
      "_________________________________________________________________\n"
     ]
    }
   ],
   "source": [
    "dnn_model1 = build_and_compile_model(model1)\n",
    "dnn_model1.summary()"
   ]
  },
  {
   "cell_type": "code",
   "execution_count": 48,
   "metadata": {},
   "outputs": [
    {
     "name": "stdout",
     "output_type": "stream",
     "text": [
      "Wall time: 7.81 s\n"
     ]
    }
   ],
   "source": [
    "%%time\n",
    "history = dnn_model1.fit(\n",
    "    X_train,\n",
    "    y_train,\n",
    "    validation_data = (X_val, y_val),\n",
    "    verbose=0, epochs=80)"
   ]
  },
  {
   "cell_type": "code",
   "execution_count": 49,
   "metadata": {},
   "outputs": [],
   "source": [
    "def plot_loss(history):\n",
    "  plt.plot(history.history['loss'], label='loss')\n",
    "  plt.plot(history.history['val_loss'], label='val_loss')\n",
    "  plt.ylim([0, 10])\n",
    "  plt.xlabel('Epoch')\n",
    "  plt.ylabel('Error [Vaccination%]')\n",
    "  plt.legend()\n",
    "  plt.grid(True)"
   ]
  },
  {
   "cell_type": "code",
   "execution_count": 50,
   "metadata": {},
   "outputs": [
    {
     "data": {
      "image/png": "[encoded data removed]",
      "text/plain": [
       "<Figure size 432x288 with 1 Axes>"
      ]
     },
     "metadata": {
      "needs_background": "light"
     },
     "output_type": "display_data"
    }
   ],
   "source": [
    "plot_loss(history)"
   ]
  },
  {
   "cell_type": "code",
   "execution_count": 51,
   "metadata": {},
   "outputs": [],
   "source": [
    "model2 = tf.keras.Sequential([\n",
    "    normalizer,\n",
    "    layers.Dense(64, activation='relu'),\n",
    "    layers.Dense(64, activation='relu'),\n",
    "    layers.Dense(1)\n",
    "])"
   ]
  },
  {
   "cell_type": "code",
   "execution_count": 52,
   "metadata": {},
   "outputs": [
    {
     "name": "stdout",
     "output_type": "stream",
     "text": [
      "Model: \"sequential_3\"\n",
      "_________________________________________________________________\n",
      "Layer (type)                 Output Shape              Param #   \n",
      "=================================================================\n",
      "normalization_1 (Normalizati (None, 21)                43        \n",
      "_________________________________________________________________\n",
      "dense_13 (Dense)             (None, 64)                1408      \n",
      "_________________________________________________________________\n",
      "dense_14 (Dense)             (None, 64)                4160      \n",
      "_________________________________________________________________\n",
      "dense_15 (Dense)             (None, 1)                 65        \n",
      "=================================================================\n",
      "Total params: 5,676\n",
      "Trainable params: 5,633\n",
      "Non-trainable params: 43\n",
      "_________________________________________________________________\n"
     ]
    }
   ],
   "source": [
    "dnn_model2 = build_and_compile_model(model2)\n",
    "dnn_model2.summary()"
   ]
  },
  {
   "cell_type": "code",
   "execution_count": 53,
   "metadata": {},
   "outputs": [
    {
     "name": "stdout",
     "output_type": "stream",
     "text": [
      "Wall time: 4.71 s\n"
     ]
    },
    {
     "data": {
      "image/png": "[encoded data removed]",
      "text/plain": [
       "<Figure size 432x288 with 1 Axes>"
      ]
     },
     "metadata": {
      "needs_background": "light"
     },
     "output_type": "display_data"
    }
   ],
   "source": [
    "%%time\n",
    "history = dnn_model2.fit(\n",
    "    X_train,\n",
    "    y_train,\n",
    "    validation_data = (X_val, y_val),\n",
    "    verbose=0, epochs=80)\n",
    "plot_loss(history)"
   ]
  },
  {
   "cell_type": "code",
   "execution_count": 54,
   "metadata": {},
   "outputs": [
    {
     "data": {
      "text/plain": [
       "6.81100606918335"
      ]
     },
     "execution_count": 54,
     "metadata": {},
     "output_type": "execute_result"
    }
   ],
   "source": [
    "dnn_model2.evaluate(X_val, y_val, verbose=0)"
   ]
  },
  {
   "cell_type": "code",
   "execution_count": 55,
   "metadata": {},
   "outputs": [
    {
     "data": {
      "image/png": "[encoded data removed]",
      "text/plain": [
       "<Figure size 432x288 with 1 Axes>"
      ]
     },
     "metadata": {
      "needs_background": "light"
     },
     "output_type": "display_data"
    }
   ],
   "source": [
    "model3 = keras.Sequential([\n",
    "    normalizer,\n",
    "    layers.Dense(128, activation='relu'),\n",
    "    layers.Dense(64, activation='relu'),\n",
    "    layers.Dense(64, activation='relu'),\n",
    "    layers.Dense(32, activation='relu'),\n",
    "    layers.Dense(1)\n",
    "])\n",
    "\n",
    "dnn_model3 = build_and_compile_model(model3)\n",
    "\n",
    "history = dnn_model3.fit(\n",
    "    X_train,\n",
    "    y_train,\n",
    "    validation_data = (X_val, y_val),\n",
    "    verbose=0, epochs=80)\n",
    "plot_loss(history)"
   ]
  },
  {
   "cell_type": "code",
   "execution_count": 56,
   "metadata": {},
   "outputs": [
    {
     "name": "stdout",
     "output_type": "stream",
     "text": [
      "6.426344394683838\n"
     ]
    }
   ],
   "source": [
    "print(dnn_model3.evaluate(X_val, y_val, verbose=0))"
   ]
  },
  {
   "cell_type": "code",
   "execution_count": 57,
   "metadata": {},
   "outputs": [
    {
     "name": "stdout",
     "output_type": "stream",
     "text": [
      "7.878239154815674\n"
     ]
    },
    {
     "data": {
      "image/png": "[encoded data removed]",
      "text/plain": [
       "<Figure size 432x288 with 1 Axes>"
      ]
     },
     "metadata": {
      "needs_background": "light"
     },
     "output_type": "display_data"
    }
   ],
   "source": [
    "model4 = keras.Sequential([\n",
    "    normalizer,\n",
    "    layers.Dense(128, activation='relu'),\n",
    "    layers.Dense(64, activation='relu'),\n",
    "    layers.Dense(32, activation='relu'),\n",
    "    layers.Dense(1)\n",
    "])\n",
    "model4.compile(optimizer='rmsprop',\n",
    "              loss='mean_absolute_error')\n",
    "\n",
    "history = model4.fit(\n",
    "    X_train,\n",
    "    y_train,\n",
    "    validation_data = (X_val, y_val),\n",
    "    verbose=0, epochs=80)\n",
    "plot_loss(history)\n",
    "print(model4.evaluate(X_val, y_val, verbose=0))"
   ]
  },
  {
   "cell_type": "markdown",
   "metadata": {},
   "source": [
    "-------\n",
    "## Individual models:"
   ]
  }
 ],
 "metadata": {
  "interpreter": {
   "hash": "09ae4bcb5e69de3b81cd558c561cffc13719aeffe0a8242a15044a289daab056"
  },
  "kernelspec": {
   "display_name": "Python 3.9.7 64-bit ('DS4A-team27-tf': conda)",
   "name": "python3"
  },
  "language_info": {
   "codemirror_mode": {
    "name": "ipython",
    "version": 3
   },
   "file_extension": ".py",
   "mimetype": "text/x-python",
   "name": "python",
   "nbconvert_exporter": "python",
   "pygments_lexer": "ipython3",
   "version": "3.9.7"
  }
 },
 "nbformat": 4,
 "nbformat_minor": 2
}
