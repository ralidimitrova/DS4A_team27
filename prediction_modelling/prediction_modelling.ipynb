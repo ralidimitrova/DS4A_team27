{
 "cells": [
  {
   "cell_type": "markdown",
   "metadata": {},
   "source": [
    "# Predicting vaccination rates in the US\n",
    "\n",
    "\n",
    "## Models used:\n",
    "\n",
    "- `Regularised regression`\n",
    "- `Random Forest regression`\n",
    "- `Gradient Boosted Decision Trees`\n",
    "- `SVM`?\n",
    "- `NN`?\n",
    "\n",
    "\n",
    "### Missing values imputation?\n",
    "\n",
    "- first order - mean/median\n",
    "- similar to - value from grouping of other similar observations\n",
    "- modelling?\n",
    "\n",
    "\n",
    "### Normalisation:\n",
    "\n",
    "- `Regularised regression`\n",
    "\n"
   ]
  }
 ],
 "metadata": {
  "kernelspec": {
   "display_name": "Python 3",
   "language": "python",
   "name": "python3"
  },
  "language_info": {
   "codemirror_mode": {
    "name": "ipython",
    "version": 3
   },
   "file_extension": ".py",
   "mimetype": "text/x-python",
   "name": "python",
   "nbconvert_exporter": "python",
   "pygments_lexer": "ipython3",
   "version": "3.6.9"
  }
 },
 "nbformat": 4,
 "nbformat_minor": 2
}
