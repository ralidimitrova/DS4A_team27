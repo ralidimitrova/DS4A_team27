{
 "cells": [
  {
   "cell_type": "markdown",
   "metadata": {},
   "source": [
    "# Predicting vaccination rates in the US\n",
    "\n",
    "\n",
    "## Models used:\n",
    "\n",
    "- `Regularised regression`\n",
    "- `Random Forest regression`\n",
    "- `Gradient Boosted Decision Trees`\n",
    "- `SVM`?\n",
    "- `NN`?\n",
    "\n",
    "\n",
    "### Normalisation:\n",
    "\n",
    "- `Regularised regression`\n",
    "\n"
   ]
  },
  {
   "cell_type": "code",
   "execution_count": 1,
   "metadata": {},
   "outputs": [],
   "source": [
    "import numpy as np\n",
    "import pandas as pd\n",
    "import matplotlib.pyplot as plt\n",
    "import seaborn as sns\n",
    "import os\n",
    "\n",
    "import sklearn\n",
    "from sklearn.metrics import mean_absolute_error, r2_score\n",
    "from scipy.stats import spearmanr\n",
    "from sklearn.model_selection import train_test_split, GridSearchCV\n",
    "\n",
    "from sklearn.linear_model import Lasso, Ridge\n",
    "from sklearn.ensemble import RandomForestRegressor\n"
   ]
  },
  {
   "cell_type": "code",
   "execution_count": 2,
   "metadata": {},
   "outputs": [],
   "source": [
    "base = os.path.split(os.getcwd())[0]\n",
    "dd = base + '/data/'"
   ]
  },
  {
   "cell_type": "code",
   "execution_count": 3,
   "metadata": {},
   "outputs": [],
   "source": [
    "df_all = pd.read_csv(dd + 'data_after_imputation.csv')"
   ]
  },
  {
   "cell_type": "code",
   "execution_count": 4,
   "metadata": {},
   "outputs": [
    {
     "data": {
      "text/plain": [
       "Index(['fips', 'state', 'county', 'state_abb', 'pop_full_12plus_per',\n",
       "       'pop_full_18plus_per', 'pop_full_65plus_per', 'cases_prop',\n",
       "       'death_prop', 'hesitant_unsure', 'hesitant_strongly', 'SVI', 'SVI_cat',\n",
       "       'CVAC', 'CVAC_cat', 'Hispanic (%)',\n",
       "       'non-Hispanic American Indian/Alaska Native (%)',\n",
       "       'non-Hispanic Asian (%)', 'non-Hispanic Black (%)',\n",
       "       'non-Hispanic Native Hawaiian/Pacific Islander (%)',\n",
       "       'non-Hispanic White (%)', 'noHealthInsurance', 'noHighSchool',\n",
       "       'Poverty', 'SES', 'WBSeg', 'WNWSeg', 'pop_census', 'logPopDensity',\n",
       "       'Urban_rural_code', 'PrematureDeath', 'Smoking',\n",
       "       'anycondition_prevalence', 'Obesity_prevalence',\n",
       "       'Heart disease_prevalence', 'COPD_prevalence', 'diabetes_prevalence',\n",
       "       'CKD_prevalence', 'per_dem', 'per_voted', 'Testing', 'Traffic',\n",
       "       'DaytimePopDensity', 'ToxPi Score'],\n",
       "      dtype='object')"
      ]
     },
     "execution_count": 4,
     "metadata": {},
     "output_type": "execute_result"
    }
   ],
   "source": [
    "df_all.columns"
   ]
  },
  {
   "cell_type": "code",
   "execution_count": 5,
   "metadata": {},
   "outputs": [
    {
     "data": {
      "text/plain": [
       "pop_full_12plus_per     55\n",
       "pop_full_18plus_per    266\n",
       "pop_full_65plus_per      8\n",
       "dtype: int64"
      ]
     },
     "execution_count": 5,
     "metadata": {},
     "output_type": "execute_result"
    }
   ],
   "source": [
    "df_all.isnull().sum()[df_all.isnull().sum() > 1]"
   ]
  },
  {
   "cell_type": "markdown",
   "metadata": {},
   "source": [
    "### Drop `NaN` from target:"
   ]
  },
  {
   "cell_type": "code",
   "execution_count": 6,
   "metadata": {},
   "outputs": [],
   "source": [
    "df = df_all[df_all['pop_full_12plus_per'].notna()]"
   ]
  },
  {
   "cell_type": "markdown",
   "metadata": {},
   "source": [
    "## Split data into `train`, `val` and `test` samples.\n",
    "\n",
    "- keep `fips` for now to be able to explore, which counties were not well predicted.\n",
    "- predict `pop_full_12plus_per` for now.\n",
    "\n",
    "\n",
    "- Discuss: `val` sample? `test_size` = ?\n",
    "- Note dropping categorical features `SVI_cat` and `CVAC_cat`"
   ]
  },
  {
   "cell_type": "code",
   "execution_count": 7,
   "metadata": {},
   "outputs": [],
   "source": [
    "y = df['pop_full_12plus_per']\n",
    "X = df.drop(columns = ['state_abb', 'pop_full_12plus_per',\n",
    "                       'pop_full_18plus_per', 'pop_full_65plus_per',\n",
    "                       'SVI_cat', 'CVAC_cat'])"
   ]
  },
  {
   "cell_type": "markdown",
   "metadata": {},
   "source": [
    "#### `y_test` - leave until final model has been picked."
   ]
  },
  {
   "cell_type": "code",
   "execution_count": 8,
   "metadata": {},
   "outputs": [],
   "source": [
    "X_train_val_fips, X_test_fips, y_train_val, y_test = train_test_split(X, y, test_size = 0.2, random_state = 42)"
   ]
  },
  {
   "cell_type": "code",
   "execution_count": 9,
   "metadata": {},
   "outputs": [
    {
     "name": "stdout",
     "output_type": "stream",
     "text": [
      "test data shape: (611,)\n"
     ]
    }
   ],
   "source": [
    "print('test data shape:', y_test.shape)"
   ]
  },
  {
   "cell_type": "markdown",
   "metadata": {},
   "source": [
    "#### Get a validation sample?"
   ]
  },
  {
   "cell_type": "code",
   "execution_count": 10,
   "metadata": {},
   "outputs": [],
   "source": [
    "X_train_fips, X_val_fips, y_train, y_val = train_test_split(X_train_val_fips, y_train_val,\n",
    "                                                           test_size = 0.2, random_state = 42)"
   ]
  },
  {
   "cell_type": "code",
   "execution_count": 11,
   "metadata": {},
   "outputs": [
    {
     "name": "stdout",
     "output_type": "stream",
     "text": [
      "train data shape: (1953,)\n",
      "val data shape: (489,)\n"
     ]
    }
   ],
   "source": [
    "print('train data shape:', y_train.shape)\n",
    "print('val data shape:', y_val.shape)"
   ]
  },
  {
   "cell_type": "markdown",
   "metadata": {},
   "source": [
    "#### Drop `fips` for modelling"
   ]
  },
  {
   "cell_type": "code",
   "execution_count": 12,
   "metadata": {},
   "outputs": [],
   "source": [
    "X_test = X_test_fips.drop(columns = ['fips','state', 'county'])\n",
    "X_train = X_train_fips.drop(columns = ['fips','state', 'county'])\n",
    "X_val = X_val_fips.drop(columns = ['fips','state', 'county'])"
   ]
  },
  {
   "cell_type": "markdown",
   "metadata": {},
   "source": [
    "-------\n",
    "## Individual models:"
   ]
  },
  {
   "cell_type": "markdown",
   "metadata": {},
   "source": [
    "---------\n",
    "## Regularised regression:\n",
    "\n",
    "`Ridge` / `Lasso`\n",
    "\n",
    "#### To consider:\n",
    "\n",
    "- outliers\n",
    "- transfor of rights skewed data\n",
    "- optimise `lambda`(default = 1; alpha = 0 - OLS). Larger alpha specify stronger regularisation and the coefficients become more robust to collinearity. "
   ]
  },
  {
   "cell_type": "code",
   "execution_count": null,
   "metadata": {},
   "outputs": [],
   "source": []
  },
  {
   "attachments": {},
   "cell_type": "markdown",
   "metadata": {},
   "source": [
    "----------\n",
    "## Random Forest Regression:\n",
    "\n",
    "- No scaling of the data.\n",
    "- RF might be trickier when combining categorical and continuous data, as RF will give more weight to continuous features especially in calculating the feature_importances. RF is likely to give more weight to parameters with more levels.\n",
    "\n",
    "- optimise \n",
    "    - `n_estimators` (number of random trees), \n",
    "    - `max_features` (the number of randomly selected features in each tree, if max_features is close to the total number of features, the trees are more likely to be similar. How diverse the trees are, the default for regression is log2 total number of features. Smaller values tend to reduce overfitting.\n",
    "    - `max_depth` – the depth of each tree in the ensemble (default=None, splits until all leaves are pure).\n"
   ]
  },
  {
   "cell_type": "markdown",
   "metadata": {},
   "source": [
    "#### Train base model prior to optimising Ho:\n",
    "\n",
    "\n",
    "- overfitting! `RF_base rho: 0.964`"
   ]
  },
  {
   "cell_type": "code",
   "execution_count": 13,
   "metadata": {},
   "outputs": [
    {
     "name": "stderr",
     "output_type": "stream",
     "text": [
      "/anaconda3/lib/python3.6/site-packages/sklearn/ensemble/forest.py:245: FutureWarning: The default value of n_estimators will change from 10 in version 0.20 to 100 in 0.22.\n",
      "  \"10 in version 0.20 to 100 in 0.22.\", FutureWarning)\n"
     ]
    },
    {
     "name": "stdout",
     "output_type": "stream",
     "text": [
      "RF_base rho: 0.968\n",
      "R2 score: 0.930\n",
      "MAE: 2.474\n",
      "\n"
     ]
    },
    {
     "data": {
      "image/png": "[encoded data removed]",
      "text/plain": [
       "<Figure size 432x288 with 1 Axes>"
      ]
     },
     "metadata": {
      "needs_background": "light"
     },
     "output_type": "display_data"
    }
   ],
   "source": [
    "rf_base = RandomForestRegressor()\n",
    "\n",
    "rf_base.fit(X_train, y_train)\n",
    "y_train_rf_base = rf_base.predict(X_train)\n",
    "\n",
    "print('RF_base rho: {:.3f}'.format(spearmanr(y_train,y_train_rf_base)[0]))\n",
    "print('R2 score: {:.3f}'.format(r2_score(y_train,y_train_rf_base)))\n",
    "print('MAE: {:.3f}'.format(mean_absolute_error(y_train,y_train_rf_base)))\n",
    "print()\n",
    "plt.scatter(y_train,y_train_rf_base, alpha = 0.5)\n",
    "plt.xlabel('observed'), plt.ylabel('RF prediction')\n",
    "plt.show()"
   ]
  },
  {
   "cell_type": "markdown",
   "metadata": {},
   "source": [
    "### Feature importance:"
   ]
  },
  {
   "cell_type": "code",
   "execution_count": 14,
   "metadata": {},
   "outputs": [],
   "source": [
    "feature_names = X_train.columns\n",
    "\n",
    "importances = rf_base.feature_importances_\n",
    "\n",
    "std = np.std([\n",
    "    tree.feature_importances_ for tree in rf_base.estimators_], axis=0)\n",
    "\n",
    "forest_importances = pd.Series(importances, index=feature_names).sort_values(ascending = False)"
   ]
  },
  {
   "cell_type": "code",
   "execution_count": 15,
   "metadata": {},
   "outputs": [
    {
     "data": {
      "image/png": "[encoded data removed]",
      "text/plain": [
       "<Figure size 1440x720 with 1 Axes>"
      ]
     },
     "metadata": {
      "needs_background": "light"
     },
     "output_type": "display_data"
    }
   ],
   "source": [
    "\n",
    "fig, ax = plt.subplots(figsize = (20,10))\n",
    "forest_importances.plot.bar(yerr=std, ax=ax)\n",
    "ax.set_title(\"Feature importances RF_base vaccination rate US\" , fontsize=20)\n",
    "\n",
    "ax.set_ylabel(\"Mean decrease in impurity\", fontsize = 15)\n",
    "\n",
    "ax.tick_params(axis='both', which='major', labelsize = 15)\n",
    "\n",
    "fig.tight_layout()"
   ]
  },
  {
   "cell_type": "markdown",
   "metadata": {},
   "source": [
    "from sklearn.inspection import permutation_importance\n",
    "\n",
    "result = permutation_importance(rf_base, X_train, y_train, n_repeats=5,\n",
    "                                random_state=42)\n",
    "sorted_idx = result.importances_mean.argsort()\n",
    "\n",
    "fig, ax = plt.subplots()\n",
    "ax.boxplot(result.importances[sorted_idx].T,\n",
    "           vert=False, labels=X_test.columns[sorted_idx])\n",
    "ax.set_title(\"Permutation Importances (test set)\")\n",
    "fig.tight_layout()\n",
    "plt.show()"
   ]
  },
  {
   "cell_type": "markdown",
   "metadata": {},
   "source": [
    "### Hyperparam optimisation:"
   ]
  },
  {
   "cell_type": "code",
   "execution_count": 16,
   "metadata": {},
   "outputs": [],
   "source": [
    "search_param = {'n_estimators': [10, 100, 500, 1000],\n",
    "               'max_features':('auto', 'sqrt'),\n",
    "               'max_depth': [5, 15, 20, 50]}\n",
    "\n",
    "#search = GridSearchCV(rf_base, param_grid = search_param,\n",
    "#                     cv = 5, scoring = 'neg_mean_absolute_error')\n",
    "\n",
    "#search.fit(X_train, y_train)"
   ]
  },
  {
   "cell_type": "code",
   "execution_count": 17,
   "metadata": {},
   "outputs": [],
   "source": [
    "#print(search.best_params_)\n",
    "#print(search.best_score_)"
   ]
  },
  {
   "cell_type": "markdown",
   "metadata": {},
   "source": [
    "### Updated RandomForest:\n",
    "\n",
    "####  `GridSearchCV` takes ~15 min to run so results are saved below:"
   ]
  },
  {
   "cell_type": "code",
   "execution_count": 18,
   "metadata": {},
   "outputs": [
    {
     "name": "stdout",
     "output_type": "stream",
     "text": [
      "RF_base rho: 0.982\n",
      "R2 score: 0.951\n",
      "MAE: 2.176\n",
      "\n"
     ]
    },
    {
     "data": {
      "image/png": "[encoded data removed]",
      "text/plain": [
       "<Figure size 432x288 with 1 Axes>"
      ]
     },
     "metadata": {
      "needs_background": "light"
     },
     "output_type": "display_data"
    }
   ],
   "source": [
    "rf_opt = RandomForestRegressor(n_estimators = 1000, max_features = 'auto', max_depth = 20)\n",
    "\n",
    "rf_opt.fit(X_train, y_train)\n",
    "y_train_rf_opt = rf_opt.predict(X_train)\n",
    "\n",
    "print('RF_base rho: {:.3f}'.format(spearmanr(y_train,y_train_rf_opt)[0]))\n",
    "print('R2 score: {:.3f}'.format(r2_score(y_train,y_train_rf_opt)))\n",
    "print('MAE: {:.3f}'.format(mean_absolute_error(y_train,y_train_rf_opt)))\n",
    "print()\n",
    "plt.scatter(y_train,y_train_rf_opt, alpha = 0.5)\n",
    "plt.xlabel('observed'), plt.ylabel('RF Opt prediction')\n",
    "plt.show()"
   ]
  },
  {
   "cell_type": "markdown",
   "metadata": {},
   "source": [
    "### Validation set:\n",
    "\n",
    "`rf_base` vs `rf_opt`"
   ]
  },
  {
   "cell_type": "code",
   "execution_count": 20,
   "metadata": {},
   "outputs": [
    {
     "name": "stdout",
     "output_type": "stream",
     "text": [
      "Rho: Base 0.786880, Opt 0.785295\n",
      "MAE: Base 6.397137, Opt 6.169717\n",
      "R2: Base 0.577695, Opt 0.586414\n"
     ]
    },
    {
     "data": {
      "image/png": "[encoded data removed]",
      "text/plain": [
       "<Figure size 432x288 with 1 Axes>"
      ]
     },
     "metadata": {
      "needs_background": "light"
     },
     "output_type": "display_data"
    }
   ],
   "source": [
    "y_val_rf_base = rf_base.predict(X_val)\n",
    "y_val_rf_opt = rf_opt.predict(X_val)\n",
    "\n",
    "\n",
    "print('Rho: Base {:2f}, Opt {:2f}'.format(spearmanr(y_val,y_val_rf_base)[0],\n",
    "                                     spearmanr(y_val,y_val_rf_opt)[0]))\n",
    "print('MAE: Base {:2f}, Opt {:2f}'.format(mean_absolute_error(y_val,y_val_rf_base),\n",
    "                                     mean_absolute_error(y_val,y_val_rf_opt)))\n",
    "print('R2: Base {:2f}, Opt {:2f}'.format(r2_score(y_val,y_val_rf_base),\n",
    "                                     r2_score(y_val,y_val_rf_opt)))\n",
    "\n",
    "plt.scatter(y_val,y_val_rf_base, alpha = 0.5, label = 'RF base')\n",
    "plt.scatter(y_val,y_val_rf_opt, alpha = 0.5, label = 'RF opt')\n",
    "plt.xlabel('observed'), plt.ylabel('RF Opt prediction')\n",
    "plt.legend()\n",
    "plt.show()"
   ]
  },
  {
   "cell_type": "markdown",
   "metadata": {},
   "source": [
    "### Explore counties with large errors:\n",
    "\n",
    "#### abs(`obs` - `pred`) > 20"
   ]
  },
  {
   "cell_type": "code",
   "execution_count": 21,
   "metadata": {},
   "outputs": [],
   "source": [
    "d = {'obs': y_val.values,\n",
    "    'pred': y_val_rf_opt}\n",
    "x_val_rf_pred = pd.DataFrame(data = d)\n",
    "x_val_rf_pred['error'] = x_val_rf_pred['obs'] - x_val_rf_pred['pred']"
   ]
  },
  {
   "cell_type": "code",
   "execution_count": 22,
   "metadata": {
    "scrolled": true
   },
   "outputs": [
    {
     "data": {
      "text/html": [
       "<div>\n",
       "<style scoped>\n",
       "    .dataframe tbody tr th:only-of-type {\n",
       "        vertical-align: middle;\n",
       "    }\n",
       "\n",
       "    .dataframe tbody tr th {\n",
       "        vertical-align: top;\n",
       "    }\n",
       "\n",
       "    .dataframe thead th {\n",
       "        text-align: right;\n",
       "    }\n",
       "</style>\n",
       "<table border=\"1\" class=\"dataframe\">\n",
       "  <thead>\n",
       "    <tr style=\"text-align: right;\">\n",
       "      <th></th>\n",
       "      <th>fips</th>\n",
       "      <th>state</th>\n",
       "      <th>county</th>\n",
       "      <th>cases_prop</th>\n",
       "      <th>death_prop</th>\n",
       "      <th>hesitant_unsure</th>\n",
       "      <th>hesitant_strongly</th>\n",
       "      <th>SVI</th>\n",
       "      <th>CVAC</th>\n",
       "      <th>Hispanic (%)</th>\n",
       "      <th>...</th>\n",
       "      <th>CKD_prevalence</th>\n",
       "      <th>per_dem</th>\n",
       "      <th>per_voted</th>\n",
       "      <th>Testing</th>\n",
       "      <th>Traffic</th>\n",
       "      <th>DaytimePopDensity</th>\n",
       "      <th>ToxPi Score</th>\n",
       "      <th>obs</th>\n",
       "      <th>pred</th>\n",
       "      <th>error</th>\n",
       "    </tr>\n",
       "  </thead>\n",
       "  <tbody>\n",
       "    <tr>\n",
       "      <td>0</td>\n",
       "      <td>26001</td>\n",
       "      <td>Michigan</td>\n",
       "      <td>Alcona County</td>\n",
       "      <td>9.053340</td>\n",
       "      <td>0.374820</td>\n",
       "      <td>0.1717</td>\n",
       "      <td>0.0600</td>\n",
       "      <td>0.26</td>\n",
       "      <td>0.37</td>\n",
       "      <td>0.0150</td>\n",
       "      <td>...</td>\n",
       "      <td>4.5</td>\n",
       "      <td>0.303228</td>\n",
       "      <td>0.678904</td>\n",
       "      <td>2249.0</td>\n",
       "      <td>12.143237</td>\n",
       "      <td>13.1</td>\n",
       "      <td>0.447609</td>\n",
       "      <td>55.1</td>\n",
       "      <td>51.046239</td>\n",
       "      <td>4.053761</td>\n",
       "    </tr>\n",
       "    <tr>\n",
       "      <td>1</td>\n",
       "      <td>9009</td>\n",
       "      <td>Connecticut</td>\n",
       "      <td>New Haven County</td>\n",
       "      <td>12.019790</td>\n",
       "      <td>0.259021</td>\n",
       "      <td>0.0854</td>\n",
       "      <td>0.0318</td>\n",
       "      <td>0.52</td>\n",
       "      <td>0.04</td>\n",
       "      <td>0.1811</td>\n",
       "      <td>...</td>\n",
       "      <td>2.8</td>\n",
       "      <td>0.580480</td>\n",
       "      <td>0.489004</td>\n",
       "      <td>4697.0</td>\n",
       "      <td>550.060850</td>\n",
       "      <td>1362.4</td>\n",
       "      <td>0.461122</td>\n",
       "      <td>77.5</td>\n",
       "      <td>73.441901</td>\n",
       "      <td>4.058099</td>\n",
       "    </tr>\n",
       "    <tr>\n",
       "      <td>2</td>\n",
       "      <td>29043</td>\n",
       "      <td>Missouri</td>\n",
       "      <td>Christian County</td>\n",
       "      <td>14.269428</td>\n",
       "      <td>0.173825</td>\n",
       "      <td>0.1946</td>\n",
       "      <td>0.0855</td>\n",
       "      <td>0.15</td>\n",
       "      <td>0.45</td>\n",
       "      <td>0.0295</td>\n",
       "      <td>...</td>\n",
       "      <td>2.8</td>\n",
       "      <td>0.237644</td>\n",
       "      <td>0.528687</td>\n",
       "      <td>1831.0</td>\n",
       "      <td>65.429545</td>\n",
       "      <td>117.6</td>\n",
       "      <td>0.430476</td>\n",
       "      <td>48.6</td>\n",
       "      <td>50.465218</td>\n",
       "      <td>-1.865218</td>\n",
       "    </tr>\n",
       "  </tbody>\n",
       "</table>\n",
       "<p>3 rows × 41 columns</p>\n",
       "</div>"
      ],
      "text/plain": [
       "    fips        state            county  cases_prop  death_prop  \\\n",
       "0  26001     Michigan     Alcona County    9.053340    0.374820   \n",
       "1   9009  Connecticut  New Haven County   12.019790    0.259021   \n",
       "2  29043     Missouri  Christian County   14.269428    0.173825   \n",
       "\n",
       "   hesitant_unsure  hesitant_strongly   SVI  CVAC  Hispanic (%)  ...  \\\n",
       "0           0.1717             0.0600  0.26  0.37        0.0150  ...   \n",
       "1           0.0854             0.0318  0.52  0.04        0.1811  ...   \n",
       "2           0.1946             0.0855  0.15  0.45        0.0295  ...   \n",
       "\n",
       "   CKD_prevalence   per_dem  per_voted  Testing     Traffic  \\\n",
       "0             4.5  0.303228   0.678904   2249.0   12.143237   \n",
       "1             2.8  0.580480   0.489004   4697.0  550.060850   \n",
       "2             2.8  0.237644   0.528687   1831.0   65.429545   \n",
       "\n",
       "   DaytimePopDensity  ToxPi Score   obs       pred     error  \n",
       "0               13.1     0.447609  55.1  51.046239  4.053761  \n",
       "1             1362.4     0.461122  77.5  73.441901  4.058099  \n",
       "2              117.6     0.430476  48.6  50.465218 -1.865218  \n",
       "\n",
       "[3 rows x 41 columns]"
      ]
     },
     "execution_count": 22,
     "metadata": {},
     "output_type": "execute_result"
    }
   ],
   "source": [
    "X_val_fips_error = pd.concat( [X_val_fips.reset_index(drop = True), x_val_rf_pred.reset_index(drop = True)], axis=1)\n",
    "X_val_fips_error.head(n = 3)"
   ]
  },
  {
   "cell_type": "code",
   "execution_count": 23,
   "metadata": {},
   "outputs": [
    {
     "data": {
      "image/png": "[encoded data removed]",
      "text/plain": [
       "<Figure size 432x288 with 1 Axes>"
      ]
     },
     "metadata": {
      "needs_background": "light"
     },
     "output_type": "display_data"
    }
   ],
   "source": [
    "plt.hist(X_val_fips_error['error'])\n",
    "plt.show()"
   ]
  },
  {
   "cell_type": "code",
   "execution_count": 24,
   "metadata": {},
   "outputs": [
    {
     "data": {
      "text/html": [
       "<div>\n",
       "<style scoped>\n",
       "    .dataframe tbody tr th:only-of-type {\n",
       "        vertical-align: middle;\n",
       "    }\n",
       "\n",
       "    .dataframe tbody tr th {\n",
       "        vertical-align: top;\n",
       "    }\n",
       "\n",
       "    .dataframe thead th {\n",
       "        text-align: right;\n",
       "    }\n",
       "</style>\n",
       "<table border=\"1\" class=\"dataframe\">\n",
       "  <thead>\n",
       "    <tr style=\"text-align: right;\">\n",
       "      <th></th>\n",
       "      <th>fips</th>\n",
       "      <th>state</th>\n",
       "      <th>county</th>\n",
       "      <th>cases_prop</th>\n",
       "      <th>death_prop</th>\n",
       "      <th>hesitant_unsure</th>\n",
       "      <th>hesitant_strongly</th>\n",
       "      <th>SVI</th>\n",
       "      <th>CVAC</th>\n",
       "      <th>Hispanic (%)</th>\n",
       "      <th>...</th>\n",
       "      <th>CKD_prevalence</th>\n",
       "      <th>per_dem</th>\n",
       "      <th>per_voted</th>\n",
       "      <th>Testing</th>\n",
       "      <th>Traffic</th>\n",
       "      <th>DaytimePopDensity</th>\n",
       "      <th>ToxPi Score</th>\n",
       "      <th>obs</th>\n",
       "      <th>pred</th>\n",
       "      <th>error</th>\n",
       "    </tr>\n",
       "  </thead>\n",
       "  <tbody>\n",
       "    <tr>\n",
       "      <td>3</td>\n",
       "      <td>42053</td>\n",
       "      <td>Pennsylvania</td>\n",
       "      <td>Forest County</td>\n",
       "      <td>21.222575</td>\n",
       "      <td>0.317373</td>\n",
       "      <td>0.1849</td>\n",
       "      <td>0.0878</td>\n",
       "      <td>0.71</td>\n",
       "      <td>0.54</td>\n",
       "      <td>0.0554</td>\n",
       "      <td>...</td>\n",
       "      <td>3.4</td>\n",
       "      <td>0.275132</td>\n",
       "      <td>0.365117</td>\n",
       "      <td>4429.0</td>\n",
       "      <td>22.080382</td>\n",
       "      <td>14.2</td>\n",
       "      <td>0.443240</td>\n",
       "      <td>71.2</td>\n",
       "      <td>34.824921</td>\n",
       "      <td>36.375079</td>\n",
       "    </tr>\n",
       "    <tr>\n",
       "      <td>104</td>\n",
       "      <td>46089</td>\n",
       "      <td>South Dakota</td>\n",
       "      <td>McPherson County</td>\n",
       "      <td>12.694409</td>\n",
       "      <td>0.294241</td>\n",
       "      <td>0.1485</td>\n",
       "      <td>0.0747</td>\n",
       "      <td>0.29</td>\n",
       "      <td>0.12</td>\n",
       "      <td>0.0131</td>\n",
       "      <td>...</td>\n",
       "      <td>4.0</td>\n",
       "      <td>0.167674</td>\n",
       "      <td>0.556536</td>\n",
       "      <td>1093.0</td>\n",
       "      <td>6.134701</td>\n",
       "      <td>2.1</td>\n",
       "      <td>0.477249</td>\n",
       "      <td>12.5</td>\n",
       "      <td>37.468876</td>\n",
       "      <td>-24.968876</td>\n",
       "    </tr>\n",
       "    <tr>\n",
       "      <td>137</td>\n",
       "      <td>25001</td>\n",
       "      <td>Massachusetts</td>\n",
       "      <td>Barnstable County</td>\n",
       "      <td>7.902249</td>\n",
       "      <td>0.238039</td>\n",
       "      <td>0.0612</td>\n",
       "      <td>0.0312</td>\n",
       "      <td>0.06</td>\n",
       "      <td>0.00</td>\n",
       "      <td>0.0310</td>\n",
       "      <td>...</td>\n",
       "      <td>3.3</td>\n",
       "      <td>0.611967</td>\n",
       "      <td>0.705784</td>\n",
       "      <td>3690.0</td>\n",
       "      <td>65.380735</td>\n",
       "      <td>532.5</td>\n",
       "      <td>0.499337</td>\n",
       "      <td>5.5</td>\n",
       "      <td>59.239800</td>\n",
       "      <td>-53.739800</td>\n",
       "    </tr>\n",
       "    <tr>\n",
       "      <td>145</td>\n",
       "      <td>50005</td>\n",
       "      <td>Vermont</td>\n",
       "      <td>Caledonia County</td>\n",
       "      <td>4.947821</td>\n",
       "      <td>0.033341</td>\n",
       "      <td>0.0939</td>\n",
       "      <td>0.0224</td>\n",
       "      <td>0.27</td>\n",
       "      <td>0.31</td>\n",
       "      <td>0.0160</td>\n",
       "      <td>...</td>\n",
       "      <td>3.1</td>\n",
       "      <td>0.557301</td>\n",
       "      <td>0.539092</td>\n",
       "      <td>8242.0</td>\n",
       "      <td>52.297211</td>\n",
       "      <td>47.5</td>\n",
       "      <td>0.488079</td>\n",
       "      <td>36.1</td>\n",
       "      <td>57.971080</td>\n",
       "      <td>-21.871080</td>\n",
       "    </tr>\n",
       "    <tr>\n",
       "      <td>149</td>\n",
       "      <td>54105</td>\n",
       "      <td>West Virginia</td>\n",
       "      <td>Wirt County</td>\n",
       "      <td>12.867205</td>\n",
       "      <td>0.171792</td>\n",
       "      <td>0.1524</td>\n",
       "      <td>0.0747</td>\n",
       "      <td>0.37</td>\n",
       "      <td>0.44</td>\n",
       "      <td>0.0047</td>\n",
       "      <td>...</td>\n",
       "      <td>4.0</td>\n",
       "      <td>0.175650</td>\n",
       "      <td>0.455764</td>\n",
       "      <td>5566.0</td>\n",
       "      <td>0.065980</td>\n",
       "      <td>18.2</td>\n",
       "      <td>0.555453</td>\n",
       "      <td>6.7</td>\n",
       "      <td>27.590845</td>\n",
       "      <td>-20.890845</td>\n",
       "    </tr>\n",
       "    <tr>\n",
       "      <td>211</td>\n",
       "      <td>13049</td>\n",
       "      <td>Georgia</td>\n",
       "      <td>Charlton County</td>\n",
       "      <td>16.039427</td>\n",
       "      <td>0.388292</td>\n",
       "      <td>0.2723</td>\n",
       "      <td>0.1224</td>\n",
       "      <td>0.88</td>\n",
       "      <td>0.95</td>\n",
       "      <td>0.0837</td>\n",
       "      <td>...</td>\n",
       "      <td>3.7</td>\n",
       "      <td>0.241900</td>\n",
       "      <td>0.341099</td>\n",
       "      <td>680.0</td>\n",
       "      <td>27.798933</td>\n",
       "      <td>12.1</td>\n",
       "      <td>0.554278</td>\n",
       "      <td>12.9</td>\n",
       "      <td>34.657860</td>\n",
       "      <td>-21.757860</td>\n",
       "    </tr>\n",
       "    <tr>\n",
       "      <td>217</td>\n",
       "      <td>25019</td>\n",
       "      <td>Massachusetts</td>\n",
       "      <td>Nantucket County</td>\n",
       "      <td>8.943195</td>\n",
       "      <td>0.151235</td>\n",
       "      <td>0.0603</td>\n",
       "      <td>0.0310</td>\n",
       "      <td>0.03</td>\n",
       "      <td>0.01</td>\n",
       "      <td>0.0416</td>\n",
       "      <td>...</td>\n",
       "      <td>2.5</td>\n",
       "      <td>0.717356</td>\n",
       "      <td>0.640933</td>\n",
       "      <td>3123.0</td>\n",
       "      <td>0.000000</td>\n",
       "      <td>236.8</td>\n",
       "      <td>0.379504</td>\n",
       "      <td>1.5</td>\n",
       "      <td>63.922700</td>\n",
       "      <td>-62.422700</td>\n",
       "    </tr>\n",
       "    <tr>\n",
       "      <td>258</td>\n",
       "      <td>28063</td>\n",
       "      <td>Mississippi</td>\n",
       "      <td>Jefferson County</td>\n",
       "      <td>13.319027</td>\n",
       "      <td>0.472103</td>\n",
       "      <td>0.2810</td>\n",
       "      <td>0.1211</td>\n",
       "      <td>0.96</td>\n",
       "      <td>0.97</td>\n",
       "      <td>0.0722</td>\n",
       "      <td>...</td>\n",
       "      <td>5.7</td>\n",
       "      <td>0.850678</td>\n",
       "      <td>0.559514</td>\n",
       "      <td>2389.0</td>\n",
       "      <td>13.027174</td>\n",
       "      <td>13.7</td>\n",
       "      <td>0.493065</td>\n",
       "      <td>69.8</td>\n",
       "      <td>46.967700</td>\n",
       "      <td>22.832300</td>\n",
       "    </tr>\n",
       "    <tr>\n",
       "      <td>277</td>\n",
       "      <td>13055</td>\n",
       "      <td>Georgia</td>\n",
       "      <td>Chattooga County</td>\n",
       "      <td>17.681230</td>\n",
       "      <td>0.367098</td>\n",
       "      <td>0.2414</td>\n",
       "      <td>0.1079</td>\n",
       "      <td>0.93</td>\n",
       "      <td>0.92</td>\n",
       "      <td>0.0515</td>\n",
       "      <td>...</td>\n",
       "      <td>3.8</td>\n",
       "      <td>0.184478</td>\n",
       "      <td>0.405422</td>\n",
       "      <td>1763.0</td>\n",
       "      <td>63.186996</td>\n",
       "      <td>73.0</td>\n",
       "      <td>0.632376</td>\n",
       "      <td>15.0</td>\n",
       "      <td>35.242684</td>\n",
       "      <td>-20.242684</td>\n",
       "    </tr>\n",
       "    <tr>\n",
       "      <td>287</td>\n",
       "      <td>8025</td>\n",
       "      <td>Colorado</td>\n",
       "      <td>Crowley County</td>\n",
       "      <td>38.112523</td>\n",
       "      <td>0.329979</td>\n",
       "      <td>0.1484</td>\n",
       "      <td>0.0582</td>\n",
       "      <td>0.89</td>\n",
       "      <td>0.62</td>\n",
       "      <td>0.3186</td>\n",
       "      <td>...</td>\n",
       "      <td>3.2</td>\n",
       "      <td>0.249714</td>\n",
       "      <td>0.288731</td>\n",
       "      <td>8513.0</td>\n",
       "      <td>5.744853</td>\n",
       "      <td>5.0</td>\n",
       "      <td>0.499863</td>\n",
       "      <td>20.0</td>\n",
       "      <td>41.807552</td>\n",
       "      <td>-21.807552</td>\n",
       "    </tr>\n",
       "    <tr>\n",
       "      <td>297</td>\n",
       "      <td>13117</td>\n",
       "      <td>Georgia</td>\n",
       "      <td>Forsyth County</td>\n",
       "      <td>13.339911</td>\n",
       "      <td>0.097031</td>\n",
       "      <td>0.1435</td>\n",
       "      <td>0.0651</td>\n",
       "      <td>0.04</td>\n",
       "      <td>0.44</td>\n",
       "      <td>0.0950</td>\n",
       "      <td>...</td>\n",
       "      <td>2.3</td>\n",
       "      <td>0.326407</td>\n",
       "      <td>0.529416</td>\n",
       "      <td>1362.0</td>\n",
       "      <td>59.591436</td>\n",
       "      <td>903.3</td>\n",
       "      <td>0.541577</td>\n",
       "      <td>25.9</td>\n",
       "      <td>53.809700</td>\n",
       "      <td>-27.909700</td>\n",
       "    </tr>\n",
       "    <tr>\n",
       "      <td>299</td>\n",
       "      <td>13101</td>\n",
       "      <td>Georgia</td>\n",
       "      <td>Echols County</td>\n",
       "      <td>17.623565</td>\n",
       "      <td>0.224663</td>\n",
       "      <td>0.2723</td>\n",
       "      <td>0.1224</td>\n",
       "      <td>0.66</td>\n",
       "      <td>0.92</td>\n",
       "      <td>0.2728</td>\n",
       "      <td>...</td>\n",
       "      <td>3.5</td>\n",
       "      <td>0.115892</td>\n",
       "      <td>0.359710</td>\n",
       "      <td>499.0</td>\n",
       "      <td>1.196579</td>\n",
       "      <td>7.1</td>\n",
       "      <td>0.442562</td>\n",
       "      <td>16.9</td>\n",
       "      <td>36.965272</td>\n",
       "      <td>-20.065272</td>\n",
       "    </tr>\n",
       "    <tr>\n",
       "      <td>369</td>\n",
       "      <td>54051</td>\n",
       "      <td>West Virginia</td>\n",
       "      <td>Marshall County</td>\n",
       "      <td>16.245783</td>\n",
       "      <td>0.324261</td>\n",
       "      <td>0.1395</td>\n",
       "      <td>0.0680</td>\n",
       "      <td>0.22</td>\n",
       "      <td>0.48</td>\n",
       "      <td>0.0100</td>\n",
       "      <td>...</td>\n",
       "      <td>3.5</td>\n",
       "      <td>0.245384</td>\n",
       "      <td>0.461171</td>\n",
       "      <td>4566.0</td>\n",
       "      <td>76.395170</td>\n",
       "      <td>97.9</td>\n",
       "      <td>0.564065</td>\n",
       "      <td>12.1</td>\n",
       "      <td>39.803890</td>\n",
       "      <td>-27.703890</td>\n",
       "    </tr>\n",
       "    <tr>\n",
       "      <td>389</td>\n",
       "      <td>13091</td>\n",
       "      <td>Georgia</td>\n",
       "      <td>Dodge County</td>\n",
       "      <td>17.063819</td>\n",
       "      <td>0.572677</td>\n",
       "      <td>0.2541</td>\n",
       "      <td>0.1117</td>\n",
       "      <td>0.92</td>\n",
       "      <td>0.91</td>\n",
       "      <td>0.0353</td>\n",
       "      <td>...</td>\n",
       "      <td>3.9</td>\n",
       "      <td>0.269112</td>\n",
       "      <td>0.391701</td>\n",
       "      <td>743.0</td>\n",
       "      <td>35.855464</td>\n",
       "      <td>36.7</td>\n",
       "      <td>0.589188</td>\n",
       "      <td>11.5</td>\n",
       "      <td>32.025938</td>\n",
       "      <td>-20.525938</td>\n",
       "    </tr>\n",
       "    <tr>\n",
       "      <td>404</td>\n",
       "      <td>29169</td>\n",
       "      <td>Missouri</td>\n",
       "      <td>Pulaski County</td>\n",
       "      <td>9.500637</td>\n",
       "      <td>0.140666</td>\n",
       "      <td>0.2185</td>\n",
       "      <td>0.0940</td>\n",
       "      <td>0.65</td>\n",
       "      <td>0.80</td>\n",
       "      <td>0.1121</td>\n",
       "      <td>...</td>\n",
       "      <td>2.1</td>\n",
       "      <td>0.259470</td>\n",
       "      <td>0.273994</td>\n",
       "      <td>1304.0</td>\n",
       "      <td>50.293564</td>\n",
       "      <td>106.7</td>\n",
       "      <td>0.489013</td>\n",
       "      <td>63.7</td>\n",
       "      <td>40.295241</td>\n",
       "      <td>23.404759</td>\n",
       "    </tr>\n",
       "    <tr>\n",
       "      <td>438</td>\n",
       "      <td>54097</td>\n",
       "      <td>West Virginia</td>\n",
       "      <td>Upshur County</td>\n",
       "      <td>14.915619</td>\n",
       "      <td>0.231635</td>\n",
       "      <td>0.1598</td>\n",
       "      <td>0.0783</td>\n",
       "      <td>0.69</td>\n",
       "      <td>0.40</td>\n",
       "      <td>0.0136</td>\n",
       "      <td>...</td>\n",
       "      <td>3.6</td>\n",
       "      <td>0.220722</td>\n",
       "      <td>0.422775</td>\n",
       "      <td>4955.0</td>\n",
       "      <td>8.978724</td>\n",
       "      <td>71.1</td>\n",
       "      <td>0.622177</td>\n",
       "      <td>9.5</td>\n",
       "      <td>35.226356</td>\n",
       "      <td>-25.726356</td>\n",
       "    </tr>\n",
       "    <tr>\n",
       "      <td>483</td>\n",
       "      <td>55031</td>\n",
       "      <td>Wisconsin</td>\n",
       "      <td>Douglas County</td>\n",
       "      <td>12.852839</td>\n",
       "      <td>0.152955</td>\n",
       "      <td>0.2039</td>\n",
       "      <td>0.0906</td>\n",
       "      <td>0.27</td>\n",
       "      <td>0.22</td>\n",
       "      <td>0.0161</td>\n",
       "      <td>...</td>\n",
       "      <td>3.0</td>\n",
       "      <td>0.535640</td>\n",
       "      <td>0.571889</td>\n",
       "      <td>3374.0</td>\n",
       "      <td>202.071126</td>\n",
       "      <td>30.9</td>\n",
       "      <td>0.508713</td>\n",
       "      <td>43.1</td>\n",
       "      <td>65.072835</td>\n",
       "      <td>-21.972835</td>\n",
       "    </tr>\n",
       "  </tbody>\n",
       "</table>\n",
       "<p>17 rows × 41 columns</p>\n",
       "</div>"
      ],
      "text/plain": [
       "      fips          state             county  cases_prop  death_prop  \\\n",
       "3    42053   Pennsylvania      Forest County   21.222575    0.317373   \n",
       "104  46089   South Dakota   McPherson County   12.694409    0.294241   \n",
       "137  25001  Massachusetts  Barnstable County    7.902249    0.238039   \n",
       "145  50005        Vermont   Caledonia County    4.947821    0.033341   \n",
       "149  54105  West Virginia        Wirt County   12.867205    0.171792   \n",
       "211  13049        Georgia    Charlton County   16.039427    0.388292   \n",
       "217  25019  Massachusetts   Nantucket County    8.943195    0.151235   \n",
       "258  28063    Mississippi   Jefferson County   13.319027    0.472103   \n",
       "277  13055        Georgia   Chattooga County   17.681230    0.367098   \n",
       "287   8025       Colorado     Crowley County   38.112523    0.329979   \n",
       "297  13117        Georgia     Forsyth County   13.339911    0.097031   \n",
       "299  13101        Georgia      Echols County   17.623565    0.224663   \n",
       "369  54051  West Virginia    Marshall County   16.245783    0.324261   \n",
       "389  13091        Georgia       Dodge County   17.063819    0.572677   \n",
       "404  29169       Missouri     Pulaski County    9.500637    0.140666   \n",
       "438  54097  West Virginia      Upshur County   14.915619    0.231635   \n",
       "483  55031      Wisconsin     Douglas County   12.852839    0.152955   \n",
       "\n",
       "     hesitant_unsure  hesitant_strongly   SVI  CVAC  Hispanic (%)  ...  \\\n",
       "3             0.1849             0.0878  0.71  0.54        0.0554  ...   \n",
       "104           0.1485             0.0747  0.29  0.12        0.0131  ...   \n",
       "137           0.0612             0.0312  0.06  0.00        0.0310  ...   \n",
       "145           0.0939             0.0224  0.27  0.31        0.0160  ...   \n",
       "149           0.1524             0.0747  0.37  0.44        0.0047  ...   \n",
       "211           0.2723             0.1224  0.88  0.95        0.0837  ...   \n",
       "217           0.0603             0.0310  0.03  0.01        0.0416  ...   \n",
       "258           0.2810             0.1211  0.96  0.97        0.0722  ...   \n",
       "277           0.2414             0.1079  0.93  0.92        0.0515  ...   \n",
       "287           0.1484             0.0582  0.89  0.62        0.3186  ...   \n",
       "297           0.1435             0.0651  0.04  0.44        0.0950  ...   \n",
       "299           0.2723             0.1224  0.66  0.92        0.2728  ...   \n",
       "369           0.1395             0.0680  0.22  0.48        0.0100  ...   \n",
       "389           0.2541             0.1117  0.92  0.91        0.0353  ...   \n",
       "404           0.2185             0.0940  0.65  0.80        0.1121  ...   \n",
       "438           0.1598             0.0783  0.69  0.40        0.0136  ...   \n",
       "483           0.2039             0.0906  0.27  0.22        0.0161  ...   \n",
       "\n",
       "     CKD_prevalence   per_dem  per_voted  Testing     Traffic  \\\n",
       "3               3.4  0.275132   0.365117   4429.0   22.080382   \n",
       "104             4.0  0.167674   0.556536   1093.0    6.134701   \n",
       "137             3.3  0.611967   0.705784   3690.0   65.380735   \n",
       "145             3.1  0.557301   0.539092   8242.0   52.297211   \n",
       "149             4.0  0.175650   0.455764   5566.0    0.065980   \n",
       "211             3.7  0.241900   0.341099    680.0   27.798933   \n",
       "217             2.5  0.717356   0.640933   3123.0    0.000000   \n",
       "258             5.7  0.850678   0.559514   2389.0   13.027174   \n",
       "277             3.8  0.184478   0.405422   1763.0   63.186996   \n",
       "287             3.2  0.249714   0.288731   8513.0    5.744853   \n",
       "297             2.3  0.326407   0.529416   1362.0   59.591436   \n",
       "299             3.5  0.115892   0.359710    499.0    1.196579   \n",
       "369             3.5  0.245384   0.461171   4566.0   76.395170   \n",
       "389             3.9  0.269112   0.391701    743.0   35.855464   \n",
       "404             2.1  0.259470   0.273994   1304.0   50.293564   \n",
       "438             3.6  0.220722   0.422775   4955.0    8.978724   \n",
       "483             3.0  0.535640   0.571889   3374.0  202.071126   \n",
       "\n",
       "     DaytimePopDensity  ToxPi Score   obs       pred      error  \n",
       "3                 14.2     0.443240  71.2  34.824921  36.375079  \n",
       "104                2.1     0.477249  12.5  37.468876 -24.968876  \n",
       "137              532.5     0.499337   5.5  59.239800 -53.739800  \n",
       "145               47.5     0.488079  36.1  57.971080 -21.871080  \n",
       "149               18.2     0.555453   6.7  27.590845 -20.890845  \n",
       "211               12.1     0.554278  12.9  34.657860 -21.757860  \n",
       "217              236.8     0.379504   1.5  63.922700 -62.422700  \n",
       "258               13.7     0.493065  69.8  46.967700  22.832300  \n",
       "277               73.0     0.632376  15.0  35.242684 -20.242684  \n",
       "287                5.0     0.499863  20.0  41.807552 -21.807552  \n",
       "297              903.3     0.541577  25.9  53.809700 -27.909700  \n",
       "299                7.1     0.442562  16.9  36.965272 -20.065272  \n",
       "369               97.9     0.564065  12.1  39.803890 -27.703890  \n",
       "389               36.7     0.589188  11.5  32.025938 -20.525938  \n",
       "404              106.7     0.489013  63.7  40.295241  23.404759  \n",
       "438               71.1     0.622177   9.5  35.226356 -25.726356  \n",
       "483               30.9     0.508713  43.1  65.072835 -21.972835  \n",
       "\n",
       "[17 rows x 41 columns]"
      ]
     },
     "execution_count": 24,
     "metadata": {},
     "output_type": "execute_result"
    }
   ],
   "source": [
    "X_val_fips_error[abs(X_val_fips_error['error']) > 20]"
   ]
  },
  {
   "cell_type": "code",
   "execution_count": 29,
   "metadata": {},
   "outputs": [
    {
     "data": {
      "text/html": [
       "<div>\n",
       "<style scoped>\n",
       "    .dataframe tbody tr th:only-of-type {\n",
       "        vertical-align: middle;\n",
       "    }\n",
       "\n",
       "    .dataframe tbody tr th {\n",
       "        vertical-align: top;\n",
       "    }\n",
       "\n",
       "    .dataframe thead th {\n",
       "        text-align: right;\n",
       "    }\n",
       "</style>\n",
       "<table border=\"1\" class=\"dataframe\">\n",
       "  <thead>\n",
       "    <tr style=\"text-align: right;\">\n",
       "      <th></th>\n",
       "      <th>fips</th>\n",
       "      <th>state</th>\n",
       "      <th>county</th>\n",
       "      <th>cases_prop</th>\n",
       "      <th>death_prop</th>\n",
       "      <th>hesitant_unsure</th>\n",
       "      <th>hesitant_strongly</th>\n",
       "      <th>SVI</th>\n",
       "      <th>CVAC</th>\n",
       "      <th>Hispanic (%)</th>\n",
       "      <th>...</th>\n",
       "      <th>CKD_prevalence</th>\n",
       "      <th>per_dem</th>\n",
       "      <th>per_voted</th>\n",
       "      <th>Testing</th>\n",
       "      <th>Traffic</th>\n",
       "      <th>DaytimePopDensity</th>\n",
       "      <th>ToxPi Score</th>\n",
       "      <th>obs</th>\n",
       "      <th>pred</th>\n",
       "      <th>error</th>\n",
       "    </tr>\n",
       "  </thead>\n",
       "  <tbody>\n",
       "    <tr>\n",
       "      <td>217</td>\n",
       "      <td>25019</td>\n",
       "      <td>Massachusetts</td>\n",
       "      <td>Nantucket County</td>\n",
       "      <td>8.943195</td>\n",
       "      <td>0.151235</td>\n",
       "      <td>0.0603</td>\n",
       "      <td>0.031</td>\n",
       "      <td>0.03</td>\n",
       "      <td>0.01</td>\n",
       "      <td>0.0416</td>\n",
       "      <td>...</td>\n",
       "      <td>2.5</td>\n",
       "      <td>0.717356</td>\n",
       "      <td>0.640933</td>\n",
       "      <td>3123.0</td>\n",
       "      <td>0.0</td>\n",
       "      <td>236.8</td>\n",
       "      <td>0.379504</td>\n",
       "      <td>1.5</td>\n",
       "      <td>63.9227</td>\n",
       "      <td>-62.4227</td>\n",
       "    </tr>\n",
       "  </tbody>\n",
       "</table>\n",
       "<p>1 rows × 41 columns</p>\n",
       "</div>"
      ],
      "text/plain": [
       "      fips          state            county  cases_prop  death_prop  \\\n",
       "217  25019  Massachusetts  Nantucket County    8.943195    0.151235   \n",
       "\n",
       "     hesitant_unsure  hesitant_strongly   SVI  CVAC  Hispanic (%)  ...  \\\n",
       "217           0.0603              0.031  0.03  0.01        0.0416  ...   \n",
       "\n",
       "     CKD_prevalence   per_dem  per_voted  Testing  Traffic  DaytimePopDensity  \\\n",
       "217             2.5  0.717356   0.640933   3123.0      0.0              236.8   \n",
       "\n",
       "     ToxPi Score  obs     pred    error  \n",
       "217     0.379504  1.5  63.9227 -62.4227  \n",
       "\n",
       "[1 rows x 41 columns]"
      ]
     },
     "execution_count": 29,
     "metadata": {},
     "output_type": "execute_result"
    }
   ],
   "source": [
    "X_val_fips_error[abs(X_val_fips_error['error']) > 60]"
   ]
  },
  {
   "cell_type": "code",
   "execution_count": 28,
   "metadata": {},
   "outputs": [
    {
     "data": {
      "text/html": [
       "<div>\n",
       "<style scoped>\n",
       "    .dataframe tbody tr th:only-of-type {\n",
       "        vertical-align: middle;\n",
       "    }\n",
       "\n",
       "    .dataframe tbody tr th {\n",
       "        vertical-align: top;\n",
       "    }\n",
       "\n",
       "    .dataframe thead th {\n",
       "        text-align: right;\n",
       "    }\n",
       "</style>\n",
       "<table border=\"1\" class=\"dataframe\">\n",
       "  <thead>\n",
       "    <tr style=\"text-align: right;\">\n",
       "      <th></th>\n",
       "      <th>fips</th>\n",
       "      <th>state</th>\n",
       "      <th>county</th>\n",
       "      <th>state_abb</th>\n",
       "      <th>pop_full_12plus_per</th>\n",
       "      <th>pop_full_18plus_per</th>\n",
       "      <th>pop_full_65plus_per</th>\n",
       "      <th>cases_prop</th>\n",
       "      <th>death_prop</th>\n",
       "      <th>hesitant_unsure</th>\n",
       "      <th>...</th>\n",
       "      <th>Heart disease_prevalence</th>\n",
       "      <th>COPD_prevalence</th>\n",
       "      <th>diabetes_prevalence</th>\n",
       "      <th>CKD_prevalence</th>\n",
       "      <th>per_dem</th>\n",
       "      <th>per_voted</th>\n",
       "      <th>Testing</th>\n",
       "      <th>Traffic</th>\n",
       "      <th>DaytimePopDensity</th>\n",
       "      <th>ToxPi Score</th>\n",
       "    </tr>\n",
       "  </thead>\n",
       "  <tbody>\n",
       "    <tr>\n",
       "      <td>1192</td>\n",
       "      <td>25019</td>\n",
       "      <td>Massachusetts</td>\n",
       "      <td>Nantucket County</td>\n",
       "      <td>MA</td>\n",
       "      <td>1.5</td>\n",
       "      <td>1.6</td>\n",
       "      <td>2.9</td>\n",
       "      <td>8.943195</td>\n",
       "      <td>0.151235</td>\n",
       "      <td>0.0603</td>\n",
       "      <td>...</td>\n",
       "      <td>5.5</td>\n",
       "      <td>5.0</td>\n",
       "      <td>8.1</td>\n",
       "      <td>2.5</td>\n",
       "      <td>0.717356</td>\n",
       "      <td>0.640933</td>\n",
       "      <td>3123.0</td>\n",
       "      <td>0.0</td>\n",
       "      <td>236.8</td>\n",
       "      <td>0.379504</td>\n",
       "    </tr>\n",
       "  </tbody>\n",
       "</table>\n",
       "<p>1 rows × 44 columns</p>\n",
       "</div>"
      ],
      "text/plain": [
       "       fips          state            county state_abb  pop_full_12plus_per  \\\n",
       "1192  25019  Massachusetts  Nantucket County        MA                  1.5   \n",
       "\n",
       "      pop_full_18plus_per  pop_full_65plus_per  cases_prop  death_prop  \\\n",
       "1192                  1.6                  2.9    8.943195    0.151235   \n",
       "\n",
       "      hesitant_unsure  ...  Heart disease_prevalence  COPD_prevalence  \\\n",
       "1192           0.0603  ...                       5.5              5.0   \n",
       "\n",
       "     diabetes_prevalence  CKD_prevalence   per_dem  per_voted  Testing  \\\n",
       "1192                 8.1             2.5  0.717356   0.640933   3123.0   \n",
       "\n",
       "      Traffic  DaytimePopDensity  ToxPi Score  \n",
       "1192      0.0              236.8     0.379504  \n",
       "\n",
       "[1 rows x 44 columns]"
      ]
     },
     "execution_count": 28,
     "metadata": {},
     "output_type": "execute_result"
    }
   ],
   "source": [
    "df_all[df_all['fips'] == 25019]"
   ]
  }
 ],
 "metadata": {
  "kernelspec": {
   "display_name": "Python 3",
   "language": "python",
   "name": "python3"
  },
  "language_info": {
   "codemirror_mode": {
    "name": "ipython",
    "version": 3
   },
   "file_extension": ".py",
   "mimetype": "text/x-python",
   "name": "python",
   "nbconvert_exporter": "python",
   "pygments_lexer": "ipython3",
   "version": "3.6.9"
  }
 },
 "nbformat": 4,
 "nbformat_minor": 2
}
