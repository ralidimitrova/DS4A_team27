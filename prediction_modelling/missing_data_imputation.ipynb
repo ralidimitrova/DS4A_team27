{
 "cells": [
  {
   "cell_type": "markdown",
   "metadata": {},
   "source": [
    "# Missing data imputation\n",
    "\n",
    "\n",
    "- `per_dem` & `per_voted` - drop `Alaska` - the state is very unique and has only 29 counties, therefore, this data are dropped\n",
    "- `SVI` , `SVI_cat` & `SES` - only one county has a missing value - impute using the mean value for the state of New Mexico, where the county is\n",
    "- `cases_prop`, `death_prop` & `PrematureDeath` - use RFR to predict these two features from other features with which they are correlated  \n",
    "\n",
    "\n",
    "#### dropping :\n",
    "'hesitant_strongly', 'Obesity_prevalence','Heart disease_prevalence', \n",
    "         'COPD_prevalence', 'diabetes_prevalence', 'CKD_prevalence', 'WBSeg', 'WNWSeg',\n",
    "        'pop_census'"
   ]
  },
  {
   "cell_type": "code",
   "execution_count": 67,
   "metadata": {},
   "outputs": [],
   "source": [
    "import numpy as np\n",
    "import pandas as pd\n",
    "import matplotlib.pyplot as plt\n",
    "import seaborn as sns\n",
    "import os\n",
    "\n",
    "import sklearn\n",
    "from sklearn.ensemble import RandomForestRegressor\n",
    "from sklearn.metrics import mean_absolute_error, r2_score\n",
    "from scipy.stats import spearmanr\n",
    "#from sklearn.model_selection import train_test_split"
   ]
  },
  {
   "cell_type": "code",
   "execution_count": 126,
   "metadata": {},
   "outputs": [],
   "source": [
    "base = os.path.split(os.getcwd())[0]\n",
    "dd = base + '/data/'"
   ]
  },
  {
   "cell_type": "code",
   "execution_count": 127,
   "metadata": {},
   "outputs": [],
   "source": [
    "df = pd.read_csv(dd + 'data_after_final_EDA.csv')"
   ]
  },
  {
   "cell_type": "code",
   "execution_count": 128,
   "metadata": {
    "scrolled": true
   },
   "outputs": [
    {
     "data": {
      "text/plain": [
       "Index(['fips', 'state', 'county', 'state_abb', 'pop_full_12plus_per',\n",
       "       'pop_full_18plus_per', 'pop_full_65plus_per', 'cases_prop',\n",
       "       'death_prop', 'hesitant_unsure', 'hesitant_strongly', 'SVI', 'SVI_cat',\n",
       "       'CVAC', 'CVAC_cat', 'Hispanic (%)',\n",
       "       'non-Hispanic American Indian/Alaska Native (%)',\n",
       "       'non-Hispanic Asian (%)', 'non-Hispanic Black (%)',\n",
       "       'non-Hispanic Native Hawaiian/Pacific Islander (%)',\n",
       "       'non-Hispanic White (%)', 'noHealthInsurance', 'noHighSchool',\n",
       "       'Poverty', 'SES', 'WBSeg', 'WNWSeg', 'pop_census', 'logPopDensity',\n",
       "       'Urban_rural_code', 'PrematureDeath', 'Smoking',\n",
       "       'anycondition_prevalence', 'Obesity_prevalence',\n",
       "       'Heart disease_prevalence', 'COPD_prevalence', 'diabetes_prevalence',\n",
       "       'CKD_prevalence', 'per_dem', 'per_voted', 'Testing', 'Traffic',\n",
       "       'DaytimePopDensity', 'ToxPi Score'],\n",
       "      dtype='object')"
      ]
     },
     "execution_count": 128,
     "metadata": {},
     "output_type": "execute_result"
    }
   ],
   "source": [
    "df.columns"
   ]
  },
  {
   "cell_type": "code",
   "execution_count": 129,
   "metadata": {},
   "outputs": [],
   "source": [
    "df = df.drop(columns = ['hesitant_strongly', 'Obesity_prevalence','Heart disease_prevalence', \n",
    "         'COPD_prevalence', 'diabetes_prevalence', 'CKD_prevalence', 'WBSeg', 'WNWSeg',\n",
    "        'pop_census', 'SES'])"
   ]
  },
  {
   "cell_type": "markdown",
   "metadata": {},
   "source": [
    "### mapping only for heatmap:"
   ]
  },
  {
   "cell_type": "markdown",
   "metadata": {},
   "source": [
    "mapping = {'pop_full_12plus_per': 'Fully vaccinated 12yo+ (%)',\n",
    "          'cases_prop': 'Covid-19 infection cases (%)',\n",
    "          'death_prop': 'Covid-19 related deaths (%)',\n",
    "          'hesitant_unsure': 'hesitant or unsure about vaccination (%)',\n",
    "          'noHealthInsurance': 'no Health Insurance (%)',\n",
    "          'noHighSchool': 'no High schools education (25yo+) (%)',\n",
    "          'Poverty': 'living in poverty (%)',\n",
    "          'logPopDensity': 'Population Density (log)',\n",
    "          'anycondition_prevalence': 'Prevalence medical conditions',\n",
    "          'per_dem': 'Democratic voters 2020 (%)',\n",
    "          'per_voted': 'voted in 2020 (%)',\n",
    "          'ToxPi Score': 'PVI'}\n",
    "\n",
    "df = df.rename(columns = mapping)"
   ]
  },
  {
   "cell_type": "markdown",
   "metadata": {},
   "source": [
    "### Missing data:\n",
    "\n",
    "\n",
    "- missing `per_dem` & `per_voted` - drop `Alaska`, too difficult to impute, as it is a unique state.\n",
    "- missing `target feature` - drop.\n",
    "- missing `cases_prop` & `death_prop` - RFR to predict? \n",
    "- missing `SVI` & `SVI_cat` - similar counties\n",
    "- missing `SES` - similar counties\n",
    "- missing `PrematureDeath` - RFR to predict?"
   ]
  },
  {
   "cell_type": "code",
   "execution_count": 130,
   "metadata": {},
   "outputs": [
    {
     "data": {
      "text/plain": [
       "pop_full_12plus_per     53\n",
       "pop_full_18plus_per    262\n",
       "pop_full_65plus_per      8\n",
       "cases_prop              27\n",
       "death_prop              55\n",
       "SVI                      1\n",
       "SVI_cat                  1\n",
       "PrematureDeath          57\n",
       "per_dem                 29\n",
       "per_voted               29\n",
       "dtype: int64"
      ]
     },
     "execution_count": 130,
     "metadata": {},
     "output_type": "execute_result"
    }
   ],
   "source": [
    "df.isnull().sum()[df.isnull().sum() > 0]"
   ]
  },
  {
   "cell_type": "code",
   "execution_count": 131,
   "metadata": {},
   "outputs": [
    {
     "data": {
      "text/plain": [
       "['pop_full_12plus_per',\n",
       " 'pop_full_18plus_per',\n",
       " 'pop_full_65plus_per',\n",
       " 'cases_prop',\n",
       " 'death_prop',\n",
       " 'SVI',\n",
       " 'SVI_cat',\n",
       " 'PrematureDeath',\n",
       " 'per_dem',\n",
       " 'per_voted']"
      ]
     },
     "execution_count": 131,
     "metadata": {},
     "output_type": "execute_result"
    }
   ],
   "source": [
    "missing_cols = df.isnull().sum()[df.isnull().sum() > 0].index.tolist()\n",
    "missing_cols"
   ]
  },
  {
   "cell_type": "code",
   "execution_count": 132,
   "metadata": {},
   "outputs": [
    {
     "data": {
      "image/png": "[encoded data removed]",
      "text/plain": [
       "<Figure size 2016x1728 with 2 Axes>"
      ]
     },
     "metadata": {
      "needs_background": "light"
     },
     "output_type": "display_data"
    }
   ],
   "source": [
    "corr = df.select_dtypes(include = ['float64']).drop(columns = ['pop_full_18plus_per',\n",
    "                               'pop_full_65plus_per']).corr(method = 'spearman')\n",
    "\n",
    "plt.figure(figsize = (28, 24))\n",
    "\n",
    "color_map = plt.cm.get_cmap('RdBu')\n",
    "reversed_col = color_map.reversed()\n",
    "\n",
    "ax = sns.heatmap(corr, \n",
    "                      cmap = reversed_col, linewidths = 0.6,\n",
    "                      cbar_kws={\"shrink\": 0.5},\n",
    "                      vmin = -1, vmax = 1,\n",
    "                      linecolor = 'lightgrey')\n",
    "ax.tick_params(axis = 'both', which = 'major', labelsize = 24)\n",
    "ax.set_title('Heatmap of final features and Vaccination rate (12+)', fontsize = 42)\n",
    "\n",
    "bottom, top = ax.get_ylim()\n",
    "ax.set_ylim(bottom + 0.5, top - 0.5)\n",
    "#plt.savefig(dd + './plots/final_heatmap_12plus.png', bbox_inches = 'tight', dpi = 200)\n",
    "plt.show()"
   ]
  },
  {
   "cell_type": "markdown",
   "metadata": {},
   "source": [
    "-----------\n",
    "## Drop `Alaska`:"
   ]
  },
  {
   "cell_type": "code",
   "execution_count": 75,
   "metadata": {},
   "outputs": [],
   "source": [
    "df = df.drop(df.loc[df['state'] == 'Alaska'].index)"
   ]
  },
  {
   "cell_type": "code",
   "execution_count": 76,
   "metadata": {},
   "outputs": [
    {
     "data": {
      "text/plain": [
       "['pop_full_12plus_per',\n",
       " 'pop_full_18plus_per',\n",
       " 'pop_full_65plus_per',\n",
       " 'cases_prop',\n",
       " 'death_prop',\n",
       " 'SVI',\n",
       " 'SVI_cat',\n",
       " 'PrematureDeath']"
      ]
     },
     "execution_count": 76,
     "metadata": {},
     "output_type": "execute_result"
    }
   ],
   "source": [
    "missing_cols = df.isnull().sum()[df.isnull().sum() > 0].index.tolist()\n",
    "missing_cols"
   ]
  },
  {
   "cell_type": "markdown",
   "metadata": {},
   "source": [
    "## Impute `SVI` , `SVI_cat`\n",
    "\n",
    "One state in New Mexico\t`Rio Arriba County`, given that is only one value missing for these features, we will use the average of counties in New Mexico."
   ]
  },
  {
   "cell_type": "code",
   "execution_count": 77,
   "metadata": {},
   "outputs": [],
   "source": [
    "#corr['SVI'][corr['SVI'].values > 0.4]\n",
    "svi_corr = corr['SVI'][corr['SVI'].values > 0.4].index.tolist()"
   ]
  },
  {
   "cell_type": "code",
   "execution_count": 78,
   "metadata": {},
   "outputs": [
    {
     "data": {
      "text/html": [
       "<div>\n",
       "<style scoped>\n",
       "    .dataframe tbody tr th:only-of-type {\n",
       "        vertical-align: middle;\n",
       "    }\n",
       "\n",
       "    .dataframe tbody tr th {\n",
       "        vertical-align: top;\n",
       "    }\n",
       "\n",
       "    .dataframe thead th {\n",
       "        text-align: right;\n",
       "    }\n",
       "</style>\n",
       "<table border=\"1\" class=\"dataframe\">\n",
       "  <thead>\n",
       "    <tr style=\"text-align: right;\">\n",
       "      <th></th>\n",
       "      <th>SVI</th>\n",
       "    </tr>\n",
       "    <tr>\n",
       "      <th>state</th>\n",
       "      <th></th>\n",
       "    </tr>\n",
       "  </thead>\n",
       "  <tbody>\n",
       "    <tr>\n",
       "      <td>New Mexico</td>\n",
       "      <td>0.789062</td>\n",
       "    </tr>\n",
       "  </tbody>\n",
       "</table>\n",
       "</div>"
      ],
      "text/plain": [
       "                 SVI\n",
       "state               \n",
       "New Mexico  0.789062"
      ]
     },
     "execution_count": 78,
     "metadata": {},
     "output_type": "execute_result"
    }
   ],
   "source": [
    "nm_imp = df[['SVI', 'state']].groupby(['state']).mean()[df[['SVI',\n",
    "                                                         'state']].groupby(['state']).mean().index == 'New Mexico']\n",
    "nm_imp"
   ]
  },
  {
   "cell_type": "code",
   "execution_count": 79,
   "metadata": {},
   "outputs": [],
   "source": [
    "#df[df['SVI'].isnull()]\n",
    "df['SVI'] = df['SVI'].fillna(0.789062)\n",
    "# df['SES'] = df['SES'].fillna(0.717884) dropped."
   ]
  },
  {
   "cell_type": "code",
   "execution_count": 80,
   "metadata": {},
   "outputs": [
    {
     "data": {
      "text/html": [
       "<div>\n",
       "<style scoped>\n",
       "    .dataframe tbody tr th:only-of-type {\n",
       "        vertical-align: middle;\n",
       "    }\n",
       "\n",
       "    .dataframe tbody tr th {\n",
       "        vertical-align: top;\n",
       "    }\n",
       "\n",
       "    .dataframe thead tr th {\n",
       "        text-align: left;\n",
       "    }\n",
       "\n",
       "    .dataframe thead tr:last-of-type th {\n",
       "        text-align: right;\n",
       "    }\n",
       "</style>\n",
       "<table border=\"1\" class=\"dataframe\">\n",
       "  <thead>\n",
       "    <tr>\n",
       "      <th></th>\n",
       "      <th colspan=\"8\" halign=\"left\">SVI</th>\n",
       "    </tr>\n",
       "    <tr>\n",
       "      <th></th>\n",
       "      <th>count</th>\n",
       "      <th>mean</th>\n",
       "      <th>std</th>\n",
       "      <th>min</th>\n",
       "      <th>25%</th>\n",
       "      <th>50%</th>\n",
       "      <th>75%</th>\n",
       "      <th>max</th>\n",
       "    </tr>\n",
       "    <tr>\n",
       "      <th>SVI_cat</th>\n",
       "      <th></th>\n",
       "      <th></th>\n",
       "      <th></th>\n",
       "      <th></th>\n",
       "      <th></th>\n",
       "      <th></th>\n",
       "      <th></th>\n",
       "      <th></th>\n",
       "    </tr>\n",
       "  </thead>\n",
       "  <tbody>\n",
       "    <tr>\n",
       "      <td>High Vulnerability</td>\n",
       "      <td>623.0</td>\n",
       "      <td>0.699583</td>\n",
       "      <td>0.057910</td>\n",
       "      <td>0.6</td>\n",
       "      <td>0.65</td>\n",
       "      <td>0.7</td>\n",
       "      <td>0.75</td>\n",
       "      <td>0.8</td>\n",
       "    </tr>\n",
       "    <tr>\n",
       "      <td>Low Vulnerability</td>\n",
       "      <td>619.0</td>\n",
       "      <td>0.299628</td>\n",
       "      <td>0.058026</td>\n",
       "      <td>0.2</td>\n",
       "      <td>0.25</td>\n",
       "      <td>0.3</td>\n",
       "      <td>0.35</td>\n",
       "      <td>0.4</td>\n",
       "    </tr>\n",
       "    <tr>\n",
       "      <td>Moderate Vulnerability</td>\n",
       "      <td>616.0</td>\n",
       "      <td>0.499692</td>\n",
       "      <td>0.057606</td>\n",
       "      <td>0.4</td>\n",
       "      <td>0.45</td>\n",
       "      <td>0.5</td>\n",
       "      <td>0.55</td>\n",
       "      <td>0.6</td>\n",
       "    </tr>\n",
       "    <tr>\n",
       "      <td>Very High Vulnerability</td>\n",
       "      <td>623.0</td>\n",
       "      <td>0.899807</td>\n",
       "      <td>0.058179</td>\n",
       "      <td>0.8</td>\n",
       "      <td>0.85</td>\n",
       "      <td>0.9</td>\n",
       "      <td>0.95</td>\n",
       "      <td>1.0</td>\n",
       "    </tr>\n",
       "    <tr>\n",
       "      <td>Very Low Vulnerability</td>\n",
       "      <td>626.0</td>\n",
       "      <td>0.099744</td>\n",
       "      <td>0.057948</td>\n",
       "      <td>0.0</td>\n",
       "      <td>0.05</td>\n",
       "      <td>0.1</td>\n",
       "      <td>0.15</td>\n",
       "      <td>0.2</td>\n",
       "    </tr>\n",
       "  </tbody>\n",
       "</table>\n",
       "</div>"
      ],
      "text/plain": [
       "                           SVI                                               \n",
       "                         count      mean       std  min   25%  50%   75%  max\n",
       "SVI_cat                                                                      \n",
       "High Vulnerability       623.0  0.699583  0.057910  0.6  0.65  0.7  0.75  0.8\n",
       "Low Vulnerability        619.0  0.299628  0.058026  0.2  0.25  0.3  0.35  0.4\n",
       "Moderate Vulnerability   616.0  0.499692  0.057606  0.4  0.45  0.5  0.55  0.6\n",
       "Very High Vulnerability  623.0  0.899807  0.058179  0.8  0.85  0.9  0.95  1.0\n",
       "Very Low Vulnerability   626.0  0.099744  0.057948  0.0  0.05  0.1  0.15  0.2"
      ]
     },
     "execution_count": 80,
     "metadata": {},
     "output_type": "execute_result"
    }
   ],
   "source": [
    "df[['SVI_cat','SVI']].groupby('SVI_cat').describe()"
   ]
  },
  {
   "cell_type": "code",
   "execution_count": 81,
   "metadata": {},
   "outputs": [],
   "source": [
    "df['SVI_cat'] = df['SVI_cat'].fillna('High Vulnerability')"
   ]
  },
  {
   "cell_type": "markdown",
   "metadata": {},
   "source": [
    "#### Change to numerical:\n",
    "\n",
    "`svi_dict = {'Very Low Vulnerability': 0,\n",
    "            'Low Vulnerability': 1,\n",
    "           'Moderate Vulnerability': 2,\n",
    "           'High Vulnerability': 3,\n",
    "           'Very High Vulnerability' : 4}`"
   ]
  },
  {
   "cell_type": "code",
   "execution_count": 82,
   "metadata": {},
   "outputs": [
    {
     "data": {
      "text/plain": [
       "pop_full_12plus_per     52\n",
       "pop_full_18plus_per    262\n",
       "pop_full_65plus_per      8\n",
       "cases_prop              24\n",
       "death_prop              47\n",
       "PrematureDeath          53\n",
       "dtype: int64"
      ]
     },
     "execution_count": 82,
     "metadata": {},
     "output_type": "execute_result"
    }
   ],
   "source": [
    "df.isnull().sum()[df.isnull().sum() > 1]"
   ]
  },
  {
   "cell_type": "code",
   "execution_count": 83,
   "metadata": {},
   "outputs": [
    {
     "data": {
      "text/plain": [
       "['pop_full_12plus_per',\n",
       " 'pop_full_18plus_per',\n",
       " 'pop_full_65plus_per',\n",
       " 'cases_prop',\n",
       " 'death_prop',\n",
       " 'PrematureDeath']"
      ]
     },
     "execution_count": 83,
     "metadata": {},
     "output_type": "execute_result"
    }
   ],
   "source": [
    "missing_cols = df.isnull().sum()[df.isnull().sum() > 0].index.tolist()\n",
    "missing_cols"
   ]
  },
  {
   "cell_type": "markdown",
   "metadata": {},
   "source": [
    "## Impute `cases_prop`,  `death_prop` & `PrematureDeath`:\n",
    "\n",
    "Using RFR and features, correlated with the feature of interest.\n",
    "\n",
    "\n",
    "### `cases_prop` \n"
   ]
  },
  {
   "cell_type": "code",
   "execution_count": 84,
   "metadata": {},
   "outputs": [
    {
     "data": {
      "text/plain": [
       "['cases_prop',\n",
       " 'death_prop',\n",
       " 'hesitant_unsure',\n",
       " 'SVI',\n",
       " 'CVAC',\n",
       " 'noHighSchool',\n",
       " 'Poverty',\n",
       " 'PrematureDeath',\n",
       " 'Smoking',\n",
       " 'anycondition_prevalence',\n",
       " 'per_voted']"
      ]
     },
     "execution_count": 84,
     "metadata": {},
     "output_type": "execute_result"
    }
   ],
   "source": [
    "cases_corr = corr['cases_prop'][abs(corr['cases_prop'].values) > 0.3].index.tolist()\n",
    "cases_corr"
   ]
  },
  {
   "cell_type": "code",
   "execution_count": 85,
   "metadata": {},
   "outputs": [
    {
     "data": {
      "text/plain": [
       "8"
      ]
     },
     "execution_count": 85,
     "metadata": {},
     "output_type": "execute_result"
    }
   ],
   "source": [
    "cases_pred = list(set(cases_corr) - set(missing_cols))\n",
    "len(cases_pred)"
   ]
  },
  {
   "cell_type": "code",
   "execution_count": 86,
   "metadata": {},
   "outputs": [
    {
     "data": {
      "text/plain": [
       "Index(['Smoking', 'noHighSchool', 'CVAC', 'anycondition_prevalence', 'Poverty',\n",
       "       'per_voted', 'hesitant_unsure', 'SVI'],\n",
       "      dtype='object')"
      ]
     },
     "execution_count": 86,
     "metadata": {},
     "output_type": "execute_result"
    }
   ],
   "source": [
    "# drop observations with NaN, we want to predict:\n",
    "df_imp = df.dropna(subset = ['cases_prop'])\n",
    "\n",
    "y_train_imp = df_imp['cases_prop']\n",
    "X_train_imp = df_imp[cases_pred]\n",
    "\n",
    "X_train_imp.columns"
   ]
  },
  {
   "cell_type": "code",
   "execution_count": 87,
   "metadata": {},
   "outputs": [
    {
     "name": "stdout",
     "output_type": "stream",
     "text": [
      "RFR rho: 0.714\n",
      "R2 score: 0.562\n",
      "MAE: 1.890\n",
      "\n"
     ]
    },
    {
     "data": {
      "image/png": "[encoded data removed]",
      "text/plain": [
       "<Figure size 432x288 with 1 Axes>"
      ]
     },
     "metadata": {
      "needs_background": "light"
     },
     "output_type": "display_data"
    }
   ],
   "source": [
    "rf = RandomForestRegressor(random_state = 42, n_estimators = 100, max_features = 3, max_depth = 7)\n",
    "rf.fit(X_train_imp, y_train_imp)\n",
    "y_train_imp_pred = rf.predict(X_train_imp)\n",
    "\n",
    "print('RFR rho: {:.3f}'.format(spearmanr(y_train_imp,y_train_imp_pred)[0]))\n",
    "print('R2 score: {:.3f}'.format(r2_score(y_train_imp,y_train_imp_pred)))\n",
    "print('MAE: {:.3f}'.format(mean_absolute_error(y_train_imp,y_train_imp_pred)))\n",
    "print()\n",
    "plt.scatter(y_train_imp,y_train_imp_pred, alpha = 0.3)\n",
    "plt.xlabel('observed'), plt.ylabel('RF prediction')\n",
    "plt.show()"
   ]
  },
  {
   "cell_type": "code",
   "execution_count": 88,
   "metadata": {},
   "outputs": [],
   "source": [
    "for county in df['fips'].values:\n",
    "    #print(county)\n",
    "    \n",
    "    if df[df['fips'] == county]['cases_prop'].isnull().values[0] == True:\n",
    "        # select the features used for imputation:\n",
    "        set2impute = df[df['fips'] == county][cases_pred]\n",
    "        # predict cases using RF:\n",
    "        county_cases_pred = rf.predict(set2impute)[0]\n",
    "        # assign the predition:\n",
    "        df.loc[df['fips'] == county, ['cases_prop']] = county_cases_pred\n",
    "                                                  "
   ]
  },
  {
   "cell_type": "markdown",
   "metadata": {},
   "source": [
    "### `death_prop` \n"
   ]
  },
  {
   "cell_type": "code",
   "execution_count": 89,
   "metadata": {},
   "outputs": [
    {
     "data": {
      "text/plain": [
       "['cases_prop',\n",
       " 'death_prop',\n",
       " 'hesitant_unsure',\n",
       " 'SVI',\n",
       " 'CVAC',\n",
       " 'non-Hispanic Asian (%)',\n",
       " 'noHealthInsurance',\n",
       " 'noHighSchool',\n",
       " 'Poverty',\n",
       " 'PrematureDeath',\n",
       " 'Smoking',\n",
       " 'anycondition_prevalence',\n",
       " 'per_voted']"
      ]
     },
     "execution_count": 89,
     "metadata": {},
     "output_type": "execute_result"
    }
   ],
   "source": [
    "death_corr = corr['death_prop'][abs(corr['death_prop'].values) > 0.3].index.tolist()\n",
    "death_corr"
   ]
  },
  {
   "cell_type": "code",
   "execution_count": 90,
   "metadata": {},
   "outputs": [
    {
     "data": {
      "text/plain": [
       "10"
      ]
     },
     "execution_count": 90,
     "metadata": {},
     "output_type": "execute_result"
    }
   ],
   "source": [
    "death_pred = list(set(death_corr) - set(missing_cols))\n",
    "len(death_pred)"
   ]
  },
  {
   "cell_type": "code",
   "execution_count": 91,
   "metadata": {},
   "outputs": [
    {
     "data": {
      "text/plain": [
       "Index(['Smoking', 'noHighSchool', 'CVAC', 'anycondition_prevalence', 'Poverty',\n",
       "       'noHealthInsurance', 'hesitant_unsure', 'per_voted',\n",
       "       'non-Hispanic Asian (%)', 'SVI'],\n",
       "      dtype='object')"
      ]
     },
     "execution_count": 91,
     "metadata": {},
     "output_type": "execute_result"
    }
   ],
   "source": [
    "# drop observations with NaN, we want to predict:\n",
    "df_imp = df.dropna(subset = ['death_prop'])\n",
    "\n",
    "y_train_imp = df_imp['death_prop']\n",
    "X_train_imp = df_imp[death_pred]\n",
    "\n",
    "X_train_imp.columns"
   ]
  },
  {
   "cell_type": "code",
   "execution_count": 92,
   "metadata": {},
   "outputs": [
    {
     "name": "stdout",
     "output_type": "stream",
     "text": [
      "RFR rho: 0.742\n",
      "R2 score: 0.548\n",
      "MAE: 0.064\n",
      "\n"
     ]
    },
    {
     "data": {
      "image/png": "[encoded data removed]",
      "text/plain": [
       "<Figure size 432x288 with 1 Axes>"
      ]
     },
     "metadata": {
      "needs_background": "light"
     },
     "output_type": "display_data"
    }
   ],
   "source": [
    "rf = RandomForestRegressor(random_state = 42, n_estimators = 100, max_features = 3, max_depth = 7)\n",
    "rf.fit(X_train_imp, y_train_imp)\n",
    "y_train_imp_pred = rf.predict(X_train_imp)\n",
    "\n",
    "print('RFR rho: {:.3f}'.format(spearmanr(y_train_imp,y_train_imp_pred)[0]))\n",
    "print('R2 score: {:.3f}'.format(r2_score(y_train_imp,y_train_imp_pred)))\n",
    "print('MAE: {:.3f}'.format(mean_absolute_error(y_train_imp,y_train_imp_pred)))\n",
    "print()\n",
    "plt.scatter(y_train_imp,y_train_imp_pred, alpha = 0.5)\n",
    "plt.xlabel('observed'), plt.ylabel('RF prediction')\n",
    "plt.show()"
   ]
  },
  {
   "cell_type": "code",
   "execution_count": 93,
   "metadata": {},
   "outputs": [],
   "source": [
    "for county in df['fips'].values:\n",
    "    #print(county)\n",
    "    \n",
    "    if df[df['fips'] == county]['death_prop'].isnull().values[0] == True:\n",
    "        # select the features used for imputation:\n",
    "        set2impute = df[df['fips'] == county][death_pred]\n",
    "        # predict cases using RF:\n",
    "        county_cases_pred = rf.predict(set2impute)[0]\n",
    "        # assign the predition:\n",
    "        df.loc[df['fips'] == county, ['death_prop']] = county_cases_pred"
   ]
  },
  {
   "cell_type": "code",
   "execution_count": 94,
   "metadata": {},
   "outputs": [
    {
     "data": {
      "text/plain": [
       "pop_full_12plus_per     52\n",
       "pop_full_18plus_per    262\n",
       "pop_full_65plus_per      8\n",
       "PrematureDeath          53\n",
       "dtype: int64"
      ]
     },
     "execution_count": 94,
     "metadata": {},
     "output_type": "execute_result"
    }
   ],
   "source": [
    "df.isnull().sum()[df.isnull().sum() > 1]"
   ]
  },
  {
   "cell_type": "markdown",
   "metadata": {},
   "source": [
    "### `PrematureDeath`"
   ]
  },
  {
   "cell_type": "code",
   "execution_count": 95,
   "metadata": {},
   "outputs": [
    {
     "data": {
      "text/plain": [
       "['cases_prop',\n",
       " 'death_prop',\n",
       " 'hesitant_unsure',\n",
       " 'SVI',\n",
       " 'CVAC',\n",
       " 'non-Hispanic Asian (%)',\n",
       " 'noHealthInsurance',\n",
       " 'noHighSchool',\n",
       " 'Poverty',\n",
       " 'PrematureDeath',\n",
       " 'Smoking',\n",
       " 'anycondition_prevalence',\n",
       " 'per_voted',\n",
       " 'Traffic',\n",
       " 'ToxPi Score']"
      ]
     },
     "execution_count": 95,
     "metadata": {},
     "output_type": "execute_result"
    }
   ],
   "source": [
    "prem_corr = corr['PrematureDeath'][abs(corr['PrematureDeath'].values) > 0.3].index.tolist()\n",
    "prem_corr.remove('pop_full_12plus_per')\n",
    "prem_corr"
   ]
  },
  {
   "cell_type": "code",
   "execution_count": 96,
   "metadata": {},
   "outputs": [
    {
     "data": {
      "text/plain": [
       "12"
      ]
     },
     "execution_count": 96,
     "metadata": {},
     "output_type": "execute_result"
    }
   ],
   "source": [
    "prem_pred = list(set(prem_corr) - set(missing_cols))\n",
    "len(prem_pred)"
   ]
  },
  {
   "cell_type": "code",
   "execution_count": 97,
   "metadata": {},
   "outputs": [
    {
     "data": {
      "text/plain": [
       "Index(['Smoking', 'noHighSchool', 'CVAC', 'ToxPi Score',\n",
       "       'anycondition_prevalence', 'Poverty', 'noHealthInsurance',\n",
       "       'hesitant_unsure', 'per_voted', 'non-Hispanic Asian (%)', 'SVI',\n",
       "       'Traffic'],\n",
       "      dtype='object')"
      ]
     },
     "execution_count": 97,
     "metadata": {},
     "output_type": "execute_result"
    }
   ],
   "source": [
    "# drop observations with NaN, we want to predict:\n",
    "df_imp = df.dropna(subset = ['PrematureDeath'])\n",
    "\n",
    "y_train_imp = df_imp['PrematureDeath']\n",
    "X_train_imp = df_imp[prem_pred]\n",
    "\n",
    "X_train_imp.columns"
   ]
  },
  {
   "cell_type": "code",
   "execution_count": 98,
   "metadata": {},
   "outputs": [
    {
     "name": "stdout",
     "output_type": "stream",
     "text": [
      "RFR rho: 0.865\n",
      "R2 score: 0.751\n",
      "MAE: 985.506\n",
      "\n"
     ]
    },
    {
     "data": {
      "image/png": "[encoded data removed]",
      "text/plain": [
       "<Figure size 432x288 with 1 Axes>"
      ]
     },
     "metadata": {
      "needs_background": "light"
     },
     "output_type": "display_data"
    }
   ],
   "source": [
    "rf = RandomForestRegressor(random_state = 42, n_estimators = 100, max_features = 3, max_depth = 7)\n",
    "rf.fit(X_train_imp, y_train_imp)\n",
    "y_train_imp_pred = rf.predict(X_train_imp)\n",
    "\n",
    "print('RFR rho: {:.3f}'.format(spearmanr(y_train_imp,y_train_imp_pred)[0]))\n",
    "print('R2 score: {:.3f}'.format(r2_score(y_train_imp,y_train_imp_pred)))\n",
    "print('MAE: {:.3f}'.format(mean_absolute_error(y_train_imp,y_train_imp_pred)))\n",
    "print()\n",
    "plt.scatter(y_train_imp,y_train_imp_pred, alpha = 0.5)\n",
    "plt.xlabel('observed'), plt.ylabel('RF prediction')\n",
    "plt.show()"
   ]
  },
  {
   "cell_type": "code",
   "execution_count": 99,
   "metadata": {},
   "outputs": [],
   "source": [
    "for county in df['fips'].values:\n",
    "    #print(county)\n",
    "    \n",
    "    if df[df['fips'] == county]['PrematureDeath'].isnull().values[0] == True:\n",
    "        # select the features used for imputation:\n",
    "        set2impute = df[df['fips'] == county][prem_pred]\n",
    "        # predict cases using RF:\n",
    "        county_cases_pred = rf.predict(set2impute)[0]\n",
    "        # assign the predition:\n",
    "        df.loc[df['fips'] == county, ['PrematureDeath']] = county_cases_pred"
   ]
  },
  {
   "cell_type": "code",
   "execution_count": 100,
   "metadata": {},
   "outputs": [
    {
     "data": {
      "text/plain": [
       "pop_full_12plus_per     52\n",
       "pop_full_18plus_per    262\n",
       "pop_full_65plus_per      8\n",
       "dtype: int64"
      ]
     },
     "execution_count": 100,
     "metadata": {},
     "output_type": "execute_result"
    }
   ],
   "source": [
    "df.isnull().sum()[df.isnull().sum() > 1]"
   ]
  },
  {
   "cell_type": "markdown",
   "metadata": {},
   "source": [
    "### Investigating outliers in target feature:\n",
    "\n",
    "- `cases_prop` > 30\n",
    "- `PrematureDeath` > 35500\n",
    "- It is highly unlikely that these counties have 99.9% vaccinated `pop_full_12plus_per` - assign to NaN"
   ]
  },
  {
   "cell_type": "code",
   "execution_count": 101,
   "metadata": {},
   "outputs": [
    {
     "data": {
      "text/html": [
       "<div>\n",
       "<style scoped>\n",
       "    .dataframe tbody tr th:only-of-type {\n",
       "        vertical-align: middle;\n",
       "    }\n",
       "\n",
       "    .dataframe tbody tr th {\n",
       "        vertical-align: top;\n",
       "    }\n",
       "\n",
       "    .dataframe thead th {\n",
       "        text-align: right;\n",
       "    }\n",
       "</style>\n",
       "<table border=\"1\" class=\"dataframe\">\n",
       "  <thead>\n",
       "    <tr style=\"text-align: right;\">\n",
       "      <th></th>\n",
       "      <th>fips</th>\n",
       "      <th>state</th>\n",
       "      <th>county</th>\n",
       "      <th>state_abb</th>\n",
       "      <th>pop_full_12plus_per</th>\n",
       "      <th>pop_full_18plus_per</th>\n",
       "      <th>pop_full_65plus_per</th>\n",
       "      <th>cases_prop</th>\n",
       "      <th>death_prop</th>\n",
       "      <th>hesitant_unsure</th>\n",
       "      <th>...</th>\n",
       "      <th>Urban_rural_code</th>\n",
       "      <th>PrematureDeath</th>\n",
       "      <th>Smoking</th>\n",
       "      <th>anycondition_prevalence</th>\n",
       "      <th>per_dem</th>\n",
       "      <th>per_voted</th>\n",
       "      <th>Testing</th>\n",
       "      <th>Traffic</th>\n",
       "      <th>DaytimePopDensity</th>\n",
       "      <th>ToxPi Score</th>\n",
       "    </tr>\n",
       "  </thead>\n",
       "  <tbody>\n",
       "    <tr>\n",
       "      <td>257</td>\n",
       "      <td>8025</td>\n",
       "      <td>Colorado</td>\n",
       "      <td>Crowley County</td>\n",
       "      <td>CO</td>\n",
       "      <td>20.0</td>\n",
       "      <td>20.2</td>\n",
       "      <td>51.6</td>\n",
       "      <td>38.112523</td>\n",
       "      <td>0.329979</td>\n",
       "      <td>0.1484</td>\n",
       "      <td>...</td>\n",
       "      <td>6</td>\n",
       "      <td>7302.571661</td>\n",
       "      <td>0.186291</td>\n",
       "      <td>42.1</td>\n",
       "      <td>0.249714</td>\n",
       "      <td>0.288731</td>\n",
       "      <td>8513.0</td>\n",
       "      <td>5.744853</td>\n",
       "      <td>5.0</td>\n",
       "      <td>0.499863</td>\n",
       "    </tr>\n",
       "    <tr>\n",
       "      <td>412</td>\n",
       "      <td>13053</td>\n",
       "      <td>Georgia</td>\n",
       "      <td>Chattahoochee County</td>\n",
       "      <td>GA</td>\n",
       "      <td>99.9</td>\n",
       "      <td>99.9</td>\n",
       "      <td>99.9</td>\n",
       "      <td>49.784542</td>\n",
       "      <td>0.155863</td>\n",
       "      <td>0.2319</td>\n",
       "      <td>...</td>\n",
       "      <td>3</td>\n",
       "      <td>9079.831880</td>\n",
       "      <td>0.179652</td>\n",
       "      <td>35.6</td>\n",
       "      <td>0.421618</td>\n",
       "      <td>0.145044</td>\n",
       "      <td>440.0</td>\n",
       "      <td>33.168180</td>\n",
       "      <td>99.6</td>\n",
       "      <td>0.513570</td>\n",
       "    </tr>\n",
       "    <tr>\n",
       "      <td>2581</td>\n",
       "      <td>48127</td>\n",
       "      <td>Texas</td>\n",
       "      <td>Dimmit County</td>\n",
       "      <td>TX</td>\n",
       "      <td>69.7</td>\n",
       "      <td>NaN</td>\n",
       "      <td>74.1</td>\n",
       "      <td>36.675227</td>\n",
       "      <td>0.414856</td>\n",
       "      <td>0.1724</td>\n",
       "      <td>...</td>\n",
       "      <td>6</td>\n",
       "      <td>7765.619307</td>\n",
       "      <td>0.170685</td>\n",
       "      <td>54.9</td>\n",
       "      <td>0.617567</td>\n",
       "      <td>0.362110</td>\n",
       "      <td>1847.0</td>\n",
       "      <td>181.034385</td>\n",
       "      <td>11.9</td>\n",
       "      <td>0.471849</td>\n",
       "    </tr>\n",
       "  </tbody>\n",
       "</table>\n",
       "<p>3 rows × 34 columns</p>\n",
       "</div>"
      ],
      "text/plain": [
       "       fips     state                county state_abb  pop_full_12plus_per  \\\n",
       "257    8025  Colorado        Crowley County        CO                 20.0   \n",
       "412   13053   Georgia  Chattahoochee County        GA                 99.9   \n",
       "2581  48127     Texas         Dimmit County        TX                 69.7   \n",
       "\n",
       "      pop_full_18plus_per  pop_full_65plus_per  cases_prop  death_prop  \\\n",
       "257                  20.2                 51.6   38.112523    0.329979   \n",
       "412                  99.9                 99.9   49.784542    0.155863   \n",
       "2581                  NaN                 74.1   36.675227    0.414856   \n",
       "\n",
       "      hesitant_unsure  ...  Urban_rural_code PrematureDeath   Smoking  \\\n",
       "257            0.1484  ...                 6    7302.571661  0.186291   \n",
       "412            0.2319  ...                 3    9079.831880  0.179652   \n",
       "2581           0.1724  ...                 6    7765.619307  0.170685   \n",
       "\n",
       "     anycondition_prevalence   per_dem  per_voted  Testing     Traffic  \\\n",
       "257                     42.1  0.249714   0.288731   8513.0    5.744853   \n",
       "412                     35.6  0.421618   0.145044    440.0   33.168180   \n",
       "2581                    54.9  0.617567   0.362110   1847.0  181.034385   \n",
       "\n",
       "      DaytimePopDensity  ToxPi Score  \n",
       "257                 5.0     0.499863  \n",
       "412                99.6     0.513570  \n",
       "2581               11.9     0.471849  \n",
       "\n",
       "[3 rows x 34 columns]"
      ]
     },
     "execution_count": 101,
     "metadata": {},
     "output_type": "execute_result"
    }
   ],
   "source": [
    "df[df['cases_prop'] > 30]"
   ]
  },
  {
   "cell_type": "code",
   "execution_count": 102,
   "metadata": {},
   "outputs": [
    {
     "data": {
      "text/html": [
       "<div>\n",
       "<style scoped>\n",
       "    .dataframe tbody tr th:only-of-type {\n",
       "        vertical-align: middle;\n",
       "    }\n",
       "\n",
       "    .dataframe tbody tr th {\n",
       "        vertical-align: top;\n",
       "    }\n",
       "\n",
       "    .dataframe thead th {\n",
       "        text-align: right;\n",
       "    }\n",
       "</style>\n",
       "<table border=\"1\" class=\"dataframe\">\n",
       "  <thead>\n",
       "    <tr style=\"text-align: right;\">\n",
       "      <th></th>\n",
       "      <th>fips</th>\n",
       "      <th>state</th>\n",
       "      <th>county</th>\n",
       "      <th>state_abb</th>\n",
       "      <th>pop_full_12plus_per</th>\n",
       "      <th>pop_full_18plus_per</th>\n",
       "      <th>pop_full_65plus_per</th>\n",
       "      <th>cases_prop</th>\n",
       "      <th>death_prop</th>\n",
       "      <th>hesitant_unsure</th>\n",
       "      <th>...</th>\n",
       "      <th>Urban_rural_code</th>\n",
       "      <th>PrematureDeath</th>\n",
       "      <th>Smoking</th>\n",
       "      <th>anycondition_prevalence</th>\n",
       "      <th>per_dem</th>\n",
       "      <th>per_voted</th>\n",
       "      <th>Testing</th>\n",
       "      <th>Traffic</th>\n",
       "      <th>DaytimePopDensity</th>\n",
       "      <th>ToxPi Score</th>\n",
       "    </tr>\n",
       "  </thead>\n",
       "  <tbody>\n",
       "    <tr>\n",
       "      <td>2912</td>\n",
       "      <td>51530</td>\n",
       "      <td>Virginia</td>\n",
       "      <td>Buena Vista city</td>\n",
       "      <td>VA</td>\n",
       "      <td>42.7</td>\n",
       "      <td>44.5</td>\n",
       "      <td>64.1</td>\n",
       "      <td>17.891324</td>\n",
       "      <td>0.339611</td>\n",
       "      <td>0.1359</td>\n",
       "      <td>...</td>\n",
       "      <td>6</td>\n",
       "      <td>43939.069406</td>\n",
       "      <td>0.210243</td>\n",
       "      <td>46.7</td>\n",
       "      <td>0.29719</td>\n",
       "      <td>0.428527</td>\n",
       "      <td>2439.0</td>\n",
       "      <td>178.525612</td>\n",
       "      <td>821.6</td>\n",
       "      <td>0.589936</td>\n",
       "    </tr>\n",
       "  </tbody>\n",
       "</table>\n",
       "<p>1 rows × 34 columns</p>\n",
       "</div>"
      ],
      "text/plain": [
       "       fips     state            county state_abb  pop_full_12plus_per  \\\n",
       "2912  51530  Virginia  Buena Vista city        VA                 42.7   \n",
       "\n",
       "      pop_full_18plus_per  pop_full_65plus_per  cases_prop  death_prop  \\\n",
       "2912                 44.5                 64.1   17.891324    0.339611   \n",
       "\n",
       "      hesitant_unsure  ...  Urban_rural_code PrematureDeath   Smoking  \\\n",
       "2912           0.1359  ...                 6   43939.069406  0.210243   \n",
       "\n",
       "     anycondition_prevalence  per_dem  per_voted  Testing     Traffic  \\\n",
       "2912                    46.7  0.29719   0.428527   2439.0  178.525612   \n",
       "\n",
       "      DaytimePopDensity  ToxPi Score  \n",
       "2912              821.6     0.589936  \n",
       "\n",
       "[1 rows x 34 columns]"
      ]
     },
     "execution_count": 102,
     "metadata": {},
     "output_type": "execute_result"
    }
   ],
   "source": [
    "df[df['PrematureDeath'] > 35500]"
   ]
  },
  {
   "cell_type": "markdown",
   "metadata": {},
   "source": [
    "#### 3 counties have 99.9 for vaccination rate for all three groupings:"
   ]
  },
  {
   "cell_type": "code",
   "execution_count": 103,
   "metadata": {},
   "outputs": [
    {
     "data": {
      "text/html": [
       "<div>\n",
       "<style scoped>\n",
       "    .dataframe tbody tr th:only-of-type {\n",
       "        vertical-align: middle;\n",
       "    }\n",
       "\n",
       "    .dataframe tbody tr th {\n",
       "        vertical-align: top;\n",
       "    }\n",
       "\n",
       "    .dataframe thead th {\n",
       "        text-align: right;\n",
       "    }\n",
       "</style>\n",
       "<table border=\"1\" class=\"dataframe\">\n",
       "  <thead>\n",
       "    <tr style=\"text-align: right;\">\n",
       "      <th></th>\n",
       "      <th>fips</th>\n",
       "      <th>state</th>\n",
       "      <th>county</th>\n",
       "      <th>state_abb</th>\n",
       "      <th>pop_full_12plus_per</th>\n",
       "      <th>pop_full_18plus_per</th>\n",
       "      <th>pop_full_65plus_per</th>\n",
       "      <th>cases_prop</th>\n",
       "      <th>death_prop</th>\n",
       "      <th>hesitant_unsure</th>\n",
       "      <th>...</th>\n",
       "      <th>Urban_rural_code</th>\n",
       "      <th>PrematureDeath</th>\n",
       "      <th>Smoking</th>\n",
       "      <th>anycondition_prevalence</th>\n",
       "      <th>per_dem</th>\n",
       "      <th>per_voted</th>\n",
       "      <th>Testing</th>\n",
       "      <th>Traffic</th>\n",
       "      <th>DaytimePopDensity</th>\n",
       "      <th>ToxPi Score</th>\n",
       "    </tr>\n",
       "  </thead>\n",
       "  <tbody>\n",
       "    <tr>\n",
       "      <td>108</td>\n",
       "      <td>4023</td>\n",
       "      <td>Arizona</td>\n",
       "      <td>Santa Cruz County</td>\n",
       "      <td>AZ</td>\n",
       "      <td>99.9</td>\n",
       "      <td>99.9</td>\n",
       "      <td>99.9</td>\n",
       "      <td>18.977160</td>\n",
       "      <td>0.408620</td>\n",
       "      <td>0.2230</td>\n",
       "      <td>...</td>\n",
       "      <td>5</td>\n",
       "      <td>5084.196606</td>\n",
       "      <td>0.145714</td>\n",
       "      <td>46.0</td>\n",
       "      <td>0.671643</td>\n",
       "      <td>0.420685</td>\n",
       "      <td>1387.0</td>\n",
       "      <td>167.709624</td>\n",
       "      <td>38.9</td>\n",
       "      <td>0.397617</td>\n",
       "    </tr>\n",
       "    <tr>\n",
       "      <td>412</td>\n",
       "      <td>13053</td>\n",
       "      <td>Georgia</td>\n",
       "      <td>Chattahoochee County</td>\n",
       "      <td>GA</td>\n",
       "      <td>99.9</td>\n",
       "      <td>99.9</td>\n",
       "      <td>99.9</td>\n",
       "      <td>49.784542</td>\n",
       "      <td>0.155863</td>\n",
       "      <td>0.2319</td>\n",
       "      <td>...</td>\n",
       "      <td>3</td>\n",
       "      <td>9079.831880</td>\n",
       "      <td>0.179652</td>\n",
       "      <td>35.6</td>\n",
       "      <td>0.421618</td>\n",
       "      <td>0.145044</td>\n",
       "      <td>440.0</td>\n",
       "      <td>33.168180</td>\n",
       "      <td>99.6</td>\n",
       "      <td>0.513570</td>\n",
       "    </tr>\n",
       "    <tr>\n",
       "      <td>1807</td>\n",
       "      <td>35031</td>\n",
       "      <td>New Mexico</td>\n",
       "      <td>McKinley County</td>\n",
       "      <td>NM</td>\n",
       "      <td>99.9</td>\n",
       "      <td>99.9</td>\n",
       "      <td>99.9</td>\n",
       "      <td>19.443160</td>\n",
       "      <td>0.694999</td>\n",
       "      <td>0.2343</td>\n",
       "      <td>...</td>\n",
       "      <td>5</td>\n",
       "      <td>16329.866975</td>\n",
       "      <td>0.216217</td>\n",
       "      <td>51.1</td>\n",
       "      <td>0.680699</td>\n",
       "      <td>0.371124</td>\n",
       "      <td>2595.0</td>\n",
       "      <td>89.922099</td>\n",
       "      <td>13.3</td>\n",
       "      <td>0.426726</td>\n",
       "    </tr>\n",
       "  </tbody>\n",
       "</table>\n",
       "<p>3 rows × 34 columns</p>\n",
       "</div>"
      ],
      "text/plain": [
       "       fips       state                county state_abb  pop_full_12plus_per  \\\n",
       "108    4023     Arizona     Santa Cruz County        AZ                 99.9   \n",
       "412   13053     Georgia  Chattahoochee County        GA                 99.9   \n",
       "1807  35031  New Mexico       McKinley County        NM                 99.9   \n",
       "\n",
       "      pop_full_18plus_per  pop_full_65plus_per  cases_prop  death_prop  \\\n",
       "108                  99.9                 99.9   18.977160    0.408620   \n",
       "412                  99.9                 99.9   49.784542    0.155863   \n",
       "1807                 99.9                 99.9   19.443160    0.694999   \n",
       "\n",
       "      hesitant_unsure  ...  Urban_rural_code PrematureDeath   Smoking  \\\n",
       "108            0.2230  ...                 5    5084.196606  0.145714   \n",
       "412            0.2319  ...                 3    9079.831880  0.179652   \n",
       "1807           0.2343  ...                 5   16329.866975  0.216217   \n",
       "\n",
       "     anycondition_prevalence   per_dem  per_voted  Testing     Traffic  \\\n",
       "108                     46.0  0.671643   0.420685   1387.0  167.709624   \n",
       "412                     35.6  0.421618   0.145044    440.0   33.168180   \n",
       "1807                    51.1  0.680699   0.371124   2595.0   89.922099   \n",
       "\n",
       "      DaytimePopDensity  ToxPi Score  \n",
       "108                38.9     0.397617  \n",
       "412                99.6     0.513570  \n",
       "1807               13.3     0.426726  \n",
       "\n",
       "[3 rows x 34 columns]"
      ]
     },
     "execution_count": 103,
     "metadata": {},
     "output_type": "execute_result"
    }
   ],
   "source": [
    "df[df['pop_full_12plus_per'] == 99.9]"
   ]
  },
  {
   "cell_type": "code",
   "execution_count": 104,
   "metadata": {},
   "outputs": [
    {
     "data": {
      "text/html": [
       "<div>\n",
       "<style scoped>\n",
       "    .dataframe tbody tr th:only-of-type {\n",
       "        vertical-align: middle;\n",
       "    }\n",
       "\n",
       "    .dataframe tbody tr th {\n",
       "        vertical-align: top;\n",
       "    }\n",
       "\n",
       "    .dataframe thead th {\n",
       "        text-align: right;\n",
       "    }\n",
       "</style>\n",
       "<table border=\"1\" class=\"dataframe\">\n",
       "  <thead>\n",
       "    <tr style=\"text-align: right;\">\n",
       "      <th></th>\n",
       "      <th>fips</th>\n",
       "      <th>state</th>\n",
       "      <th>county</th>\n",
       "      <th>state_abb</th>\n",
       "      <th>pop_full_12plus_per</th>\n",
       "      <th>pop_full_18plus_per</th>\n",
       "      <th>pop_full_65plus_per</th>\n",
       "      <th>cases_prop</th>\n",
       "      <th>death_prop</th>\n",
       "      <th>hesitant_unsure</th>\n",
       "      <th>...</th>\n",
       "      <th>Urban_rural_code</th>\n",
       "      <th>PrematureDeath</th>\n",
       "      <th>Smoking</th>\n",
       "      <th>anycondition_prevalence</th>\n",
       "      <th>per_dem</th>\n",
       "      <th>per_voted</th>\n",
       "      <th>Testing</th>\n",
       "      <th>Traffic</th>\n",
       "      <th>DaytimePopDensity</th>\n",
       "      <th>ToxPi Score</th>\n",
       "    </tr>\n",
       "  </thead>\n",
       "  <tbody>\n",
       "    <tr>\n",
       "      <td>108</td>\n",
       "      <td>4023</td>\n",
       "      <td>Arizona</td>\n",
       "      <td>Santa Cruz County</td>\n",
       "      <td>AZ</td>\n",
       "      <td>99.9</td>\n",
       "      <td>99.9</td>\n",
       "      <td>99.9</td>\n",
       "      <td>18.977160</td>\n",
       "      <td>0.408620</td>\n",
       "      <td>0.2230</td>\n",
       "      <td>...</td>\n",
       "      <td>5</td>\n",
       "      <td>5084.196606</td>\n",
       "      <td>0.145714</td>\n",
       "      <td>46.0</td>\n",
       "      <td>0.671643</td>\n",
       "      <td>0.420685</td>\n",
       "      <td>1387.0</td>\n",
       "      <td>167.709624</td>\n",
       "      <td>38.9</td>\n",
       "      <td>0.397617</td>\n",
       "    </tr>\n",
       "    <tr>\n",
       "      <td>412</td>\n",
       "      <td>13053</td>\n",
       "      <td>Georgia</td>\n",
       "      <td>Chattahoochee County</td>\n",
       "      <td>GA</td>\n",
       "      <td>99.9</td>\n",
       "      <td>99.9</td>\n",
       "      <td>99.9</td>\n",
       "      <td>49.784542</td>\n",
       "      <td>0.155863</td>\n",
       "      <td>0.2319</td>\n",
       "      <td>...</td>\n",
       "      <td>3</td>\n",
       "      <td>9079.831880</td>\n",
       "      <td>0.179652</td>\n",
       "      <td>35.6</td>\n",
       "      <td>0.421618</td>\n",
       "      <td>0.145044</td>\n",
       "      <td>440.0</td>\n",
       "      <td>33.168180</td>\n",
       "      <td>99.6</td>\n",
       "      <td>0.513570</td>\n",
       "    </tr>\n",
       "    <tr>\n",
       "      <td>1807</td>\n",
       "      <td>35031</td>\n",
       "      <td>New Mexico</td>\n",
       "      <td>McKinley County</td>\n",
       "      <td>NM</td>\n",
       "      <td>99.9</td>\n",
       "      <td>99.9</td>\n",
       "      <td>99.9</td>\n",
       "      <td>19.443160</td>\n",
       "      <td>0.694999</td>\n",
       "      <td>0.2343</td>\n",
       "      <td>...</td>\n",
       "      <td>5</td>\n",
       "      <td>16329.866975</td>\n",
       "      <td>0.216217</td>\n",
       "      <td>51.1</td>\n",
       "      <td>0.680699</td>\n",
       "      <td>0.371124</td>\n",
       "      <td>2595.0</td>\n",
       "      <td>89.922099</td>\n",
       "      <td>13.3</td>\n",
       "      <td>0.426726</td>\n",
       "    </tr>\n",
       "    <tr>\n",
       "      <td>1943</td>\n",
       "      <td>37117</td>\n",
       "      <td>North Carolina</td>\n",
       "      <td>Martin County</td>\n",
       "      <td>NC</td>\n",
       "      <td>95.5</td>\n",
       "      <td>99.9</td>\n",
       "      <td>99.9</td>\n",
       "      <td>15.343137</td>\n",
       "      <td>0.271836</td>\n",
       "      <td>0.1881</td>\n",
       "      <td>...</td>\n",
       "      <td>6</td>\n",
       "      <td>10228.015586</td>\n",
       "      <td>0.192437</td>\n",
       "      <td>54.7</td>\n",
       "      <td>0.471372</td>\n",
       "      <td>0.558824</td>\n",
       "      <td>3476.0</td>\n",
       "      <td>30.631705</td>\n",
       "      <td>48.9</td>\n",
       "      <td>0.457886</td>\n",
       "    </tr>\n",
       "  </tbody>\n",
       "</table>\n",
       "<p>4 rows × 34 columns</p>\n",
       "</div>"
      ],
      "text/plain": [
       "       fips           state                county state_abb  \\\n",
       "108    4023         Arizona     Santa Cruz County        AZ   \n",
       "412   13053         Georgia  Chattahoochee County        GA   \n",
       "1807  35031      New Mexico       McKinley County        NM   \n",
       "1943  37117  North Carolina         Martin County        NC   \n",
       "\n",
       "      pop_full_12plus_per  pop_full_18plus_per  pop_full_65plus_per  \\\n",
       "108                  99.9                 99.9                 99.9   \n",
       "412                  99.9                 99.9                 99.9   \n",
       "1807                 99.9                 99.9                 99.9   \n",
       "1943                 95.5                 99.9                 99.9   \n",
       "\n",
       "      cases_prop  death_prop  hesitant_unsure  ...  Urban_rural_code  \\\n",
       "108    18.977160    0.408620           0.2230  ...                 5   \n",
       "412    49.784542    0.155863           0.2319  ...                 3   \n",
       "1807   19.443160    0.694999           0.2343  ...                 5   \n",
       "1943   15.343137    0.271836           0.1881  ...                 6   \n",
       "\n",
       "     PrematureDeath   Smoking anycondition_prevalence   per_dem  per_voted  \\\n",
       "108     5084.196606  0.145714                    46.0  0.671643   0.420685   \n",
       "412     9079.831880  0.179652                    35.6  0.421618   0.145044   \n",
       "1807   16329.866975  0.216217                    51.1  0.680699   0.371124   \n",
       "1943   10228.015586  0.192437                    54.7  0.471372   0.558824   \n",
       "\n",
       "      Testing     Traffic  DaytimePopDensity  ToxPi Score  \n",
       "108    1387.0  167.709624               38.9     0.397617  \n",
       "412     440.0   33.168180               99.6     0.513570  \n",
       "1807   2595.0   89.922099               13.3     0.426726  \n",
       "1943   3476.0   30.631705               48.9     0.457886  \n",
       "\n",
       "[4 rows x 34 columns]"
      ]
     },
     "execution_count": 104,
     "metadata": {},
     "output_type": "execute_result"
    }
   ],
   "source": [
    "df[df['pop_full_18plus_per'] == 99.9]"
   ]
  },
  {
   "cell_type": "code",
   "execution_count": 105,
   "metadata": {},
   "outputs": [
    {
     "data": {
      "text/html": [
       "<div>\n",
       "<style scoped>\n",
       "    .dataframe tbody tr th:only-of-type {\n",
       "        vertical-align: middle;\n",
       "    }\n",
       "\n",
       "    .dataframe tbody tr th {\n",
       "        vertical-align: top;\n",
       "    }\n",
       "\n",
       "    .dataframe thead tr th {\n",
       "        text-align: left;\n",
       "    }\n",
       "\n",
       "    .dataframe thead tr:last-of-type th {\n",
       "        text-align: right;\n",
       "    }\n",
       "</style>\n",
       "<table border=\"1\" class=\"dataframe\">\n",
       "  <thead>\n",
       "    <tr>\n",
       "      <th></th>\n",
       "      <th colspan=\"8\" halign=\"left\">pop_full_12plus_per</th>\n",
       "    </tr>\n",
       "    <tr>\n",
       "      <th></th>\n",
       "      <th>count</th>\n",
       "      <th>mean</th>\n",
       "      <th>std</th>\n",
       "      <th>min</th>\n",
       "      <th>25%</th>\n",
       "      <th>50%</th>\n",
       "      <th>75%</th>\n",
       "      <th>max</th>\n",
       "    </tr>\n",
       "    <tr>\n",
       "      <th>state</th>\n",
       "      <th></th>\n",
       "      <th></th>\n",
       "      <th></th>\n",
       "      <th></th>\n",
       "      <th></th>\n",
       "      <th></th>\n",
       "      <th></th>\n",
       "      <th></th>\n",
       "    </tr>\n",
       "  </thead>\n",
       "  <tbody>\n",
       "    <tr>\n",
       "      <td>Arizona</td>\n",
       "      <td>15.0</td>\n",
       "      <td>62.613333</td>\n",
       "      <td>16.792467</td>\n",
       "      <td>39.7</td>\n",
       "      <td>48.85</td>\n",
       "      <td>61.7</td>\n",
       "      <td>70.55</td>\n",
       "      <td>99.9</td>\n",
       "    </tr>\n",
       "  </tbody>\n",
       "</table>\n",
       "</div>"
      ],
      "text/plain": [
       "        pop_full_12plus_per                                                  \\\n",
       "                      count       mean        std   min    25%   50%    75%   \n",
       "state                                                                         \n",
       "Arizona                15.0  62.613333  16.792467  39.7  48.85  61.7  70.55   \n",
       "\n",
       "               \n",
       "          max  \n",
       "state          \n",
       "Arizona  99.9  "
      ]
     },
     "execution_count": 105,
     "metadata": {},
     "output_type": "execute_result"
    }
   ],
   "source": [
    "vacc_descr = df[['state','pop_full_12plus_per']].groupby('state').describe()\n",
    "vacc_descr[df[['state','pop_full_12plus_per']].groupby('state').describe().index == 'Arizona']"
   ]
  },
  {
   "cell_type": "code",
   "execution_count": 106,
   "metadata": {},
   "outputs": [
    {
     "data": {
      "text/html": [
       "<div>\n",
       "<style scoped>\n",
       "    .dataframe tbody tr th:only-of-type {\n",
       "        vertical-align: middle;\n",
       "    }\n",
       "\n",
       "    .dataframe tbody tr th {\n",
       "        vertical-align: top;\n",
       "    }\n",
       "\n",
       "    .dataframe thead tr th {\n",
       "        text-align: left;\n",
       "    }\n",
       "\n",
       "    .dataframe thead tr:last-of-type th {\n",
       "        text-align: right;\n",
       "    }\n",
       "</style>\n",
       "<table border=\"1\" class=\"dataframe\">\n",
       "  <thead>\n",
       "    <tr>\n",
       "      <th></th>\n",
       "      <th colspan=\"8\" halign=\"left\">pop_full_12plus_per</th>\n",
       "    </tr>\n",
       "    <tr>\n",
       "      <th></th>\n",
       "      <th>count</th>\n",
       "      <th>mean</th>\n",
       "      <th>std</th>\n",
       "      <th>min</th>\n",
       "      <th>25%</th>\n",
       "      <th>50%</th>\n",
       "      <th>75%</th>\n",
       "      <th>max</th>\n",
       "    </tr>\n",
       "    <tr>\n",
       "      <th>state</th>\n",
       "      <th></th>\n",
       "      <th></th>\n",
       "      <th></th>\n",
       "      <th></th>\n",
       "      <th></th>\n",
       "      <th></th>\n",
       "      <th></th>\n",
       "      <th></th>\n",
       "    </tr>\n",
       "  </thead>\n",
       "  <tbody>\n",
       "    <tr>\n",
       "      <td>Georgia</td>\n",
       "      <td>159.0</td>\n",
       "      <td>24.258491</td>\n",
       "      <td>11.198662</td>\n",
       "      <td>8.1</td>\n",
       "      <td>15.75</td>\n",
       "      <td>21.9</td>\n",
       "      <td>29.45</td>\n",
       "      <td>99.9</td>\n",
       "    </tr>\n",
       "  </tbody>\n",
       "</table>\n",
       "</div>"
      ],
      "text/plain": [
       "        pop_full_12plus_per                                                 \\\n",
       "                      count       mean        std  min    25%   50%    75%   \n",
       "state                                                                        \n",
       "Georgia               159.0  24.258491  11.198662  8.1  15.75  21.9  29.45   \n",
       "\n",
       "               \n",
       "          max  \n",
       "state          \n",
       "Georgia  99.9  "
      ]
     },
     "execution_count": 106,
     "metadata": {},
     "output_type": "execute_result"
    }
   ],
   "source": [
    "vacc_descr[df[['state','pop_full_12plus_per']].groupby('state').describe().index == 'Georgia']"
   ]
  },
  {
   "cell_type": "code",
   "execution_count": 107,
   "metadata": {},
   "outputs": [
    {
     "data": {
      "text/html": [
       "<div>\n",
       "<style scoped>\n",
       "    .dataframe tbody tr th:only-of-type {\n",
       "        vertical-align: middle;\n",
       "    }\n",
       "\n",
       "    .dataframe tbody tr th {\n",
       "        vertical-align: top;\n",
       "    }\n",
       "\n",
       "    .dataframe thead tr th {\n",
       "        text-align: left;\n",
       "    }\n",
       "\n",
       "    .dataframe thead tr:last-of-type th {\n",
       "        text-align: right;\n",
       "    }\n",
       "</style>\n",
       "<table border=\"1\" class=\"dataframe\">\n",
       "  <thead>\n",
       "    <tr>\n",
       "      <th></th>\n",
       "      <th colspan=\"8\" halign=\"left\">pop_full_12plus_per</th>\n",
       "    </tr>\n",
       "    <tr>\n",
       "      <th></th>\n",
       "      <th>count</th>\n",
       "      <th>mean</th>\n",
       "      <th>std</th>\n",
       "      <th>min</th>\n",
       "      <th>25%</th>\n",
       "      <th>50%</th>\n",
       "      <th>75%</th>\n",
       "      <th>max</th>\n",
       "    </tr>\n",
       "    <tr>\n",
       "      <th>state</th>\n",
       "      <th></th>\n",
       "      <th></th>\n",
       "      <th></th>\n",
       "      <th></th>\n",
       "      <th></th>\n",
       "      <th></th>\n",
       "      <th></th>\n",
       "      <th></th>\n",
       "    </tr>\n",
       "  </thead>\n",
       "  <tbody>\n",
       "    <tr>\n",
       "      <td>New Mexico</td>\n",
       "      <td>33.0</td>\n",
       "      <td>53.690909</td>\n",
       "      <td>16.836166</td>\n",
       "      <td>24.8</td>\n",
       "      <td>41.3</td>\n",
       "      <td>50.7</td>\n",
       "      <td>66.4</td>\n",
       "      <td>99.9</td>\n",
       "    </tr>\n",
       "  </tbody>\n",
       "</table>\n",
       "</div>"
      ],
      "text/plain": [
       "           pop_full_12plus_per                                                \\\n",
       "                         count       mean        std   min   25%   50%   75%   \n",
       "state                                                                          \n",
       "New Mexico                33.0  53.690909  16.836166  24.8  41.3  50.7  66.4   \n",
       "\n",
       "                  \n",
       "             max  \n",
       "state             \n",
       "New Mexico  99.9  "
      ]
     },
     "execution_count": 107,
     "metadata": {},
     "output_type": "execute_result"
    }
   ],
   "source": [
    "vacc_descr[df[['state','pop_full_12plus_per']].groupby('state').describe().index == 'New Mexico']"
   ]
  },
  {
   "cell_type": "code",
   "execution_count": 108,
   "metadata": {},
   "outputs": [],
   "source": [
    "df.loc[df['pop_full_12plus_per'] == 99.9, ['pop_full_12plus_per']] = np.nan\n",
    "df.loc[df['pop_full_18plus_per'] == 99.9, ['pop_full_18plus_per']] = np.nan"
   ]
  },
  {
   "cell_type": "code",
   "execution_count": 109,
   "metadata": {},
   "outputs": [
    {
     "data": {
      "text/plain": [
       "pop_full_12plus_per     55\n",
       "pop_full_18plus_per    266\n",
       "pop_full_65plus_per      8\n",
       "dtype: int64"
      ]
     },
     "execution_count": 109,
     "metadata": {},
     "output_type": "execute_result"
    }
   ],
   "source": [
    "df.isnull().sum()[df.isnull().sum() > 1]"
   ]
  },
  {
   "cell_type": "code",
   "execution_count": 110,
   "metadata": {},
   "outputs": [],
   "source": [
    "df.to_csv(dd + 'data_after_imputation.csv', index = False)"
   ]
  }
 ],
 "metadata": {
  "kernelspec": {
   "display_name": "Python 3",
   "language": "python",
   "name": "python3"
  },
  "language_info": {
   "codemirror_mode": {
    "name": "ipython",
    "version": 3
   },
   "file_extension": ".py",
   "mimetype": "text/x-python",
   "name": "python",
   "nbconvert_exporter": "python",
   "pygments_lexer": "ipython3",
   "version": "3.6.9"
  }
 },
 "nbformat": 4,
 "nbformat_minor": 2
}
